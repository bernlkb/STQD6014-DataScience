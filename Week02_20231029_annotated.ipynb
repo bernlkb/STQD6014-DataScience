{
  "nbformat": 4,
  "nbformat_minor": 0,
  "metadata": {
    "colab": {
      "provenance": [],
      "include_colab_link": true
    },
    "kernelspec": {
      "name": "python3",
      "display_name": "Python 3"
    },
    "language_info": {
      "name": "python"
    }
  },
  "cells": [
    {
      "cell_type": "markdown",
      "metadata": {
        "id": "view-in-github",
        "colab_type": "text"
      },
      "source": [
        "<a href=\"https://colab.research.google.com/github/bernlkb/STQD6014-DataScience/blob/main/Week02_20231029_annotated.ipynb\" target=\"_parent\"><img src=\"https://colab.research.google.com/assets/colab-badge.svg\" alt=\"Open In Colab\"/></a>"
      ]
    },
    {
      "cell_type": "markdown",
      "source": [
        "# **Week02: Python Basic**"
      ],
      "metadata": {
        "id": "AUNwPwpDz7og"
      }
    },
    {
      "cell_type": "markdown",
      "source": [
        "# **Bernard Lee Kok Bang**"
      ],
      "metadata": {
        "id": "dFqUyIvMEqK8"
      }
    },
    {
      "cell_type": "code",
      "source": [
        "3+5"
      ],
      "metadata": {
        "colab": {
          "base_uri": "https://localhost:8080/"
        },
        "id": "88yom7UGFMqD",
        "outputId": "725e85c3-512d-418c-921c-e3afab41c045"
      },
      "execution_count": 1,
      "outputs": [
        {
          "output_type": "execute_result",
          "data": {
            "text/plain": [
              "8"
            ]
          },
          "metadata": {},
          "execution_count": 1
        }
      ]
    },
    {
      "cell_type": "code",
      "source": [
        "# Print the message\n",
        "# single quote\n",
        "print('hello world!')"
      ],
      "metadata": {
        "colab": {
          "base_uri": "https://localhost:8080/"
        },
        "id": "7i8rgWRfviZk",
        "outputId": "b2b3930c-0622-4b92-aab8-bbaa8923bd44"
      },
      "execution_count": 4,
      "outputs": [
        {
          "output_type": "stream",
          "name": "stdout",
          "text": [
            "hello world!\n"
          ]
        }
      ]
    },
    {
      "cell_type": "code",
      "source": [
        "# using double quote\n",
        "print(\"Hello everyone!\")"
      ],
      "metadata": {
        "colab": {
          "base_uri": "https://localhost:8080/"
        },
        "id": "TJulE4ROJz-7",
        "outputId": "7d5e2555-fb57-429f-ceda-a0f53c2cff43"
      },
      "execution_count": 5,
      "outputs": [
        {
          "output_type": "stream",
          "name": "stdout",
          "text": [
            "Hello everyone!\n"
          ]
        }
      ]
    },
    {
      "cell_type": "code",
      "source": [
        "# Range of 10\n",
        "x = range(10)\n",
        "\n",
        "# print out x\n",
        "print(x)\n",
        "\n",
        "# For loop\n",
        "# mind the syntax -> space of four for subsequent line\n",
        "for value in x:\n",
        "    print(value ** 2)"
      ],
      "metadata": {
        "colab": {
          "base_uri": "https://localhost:8080/"
        },
        "id": "LF_lfXyOvyDm",
        "outputId": "1792c3a0-5219-4c6f-f5c8-99545e472f90"
      },
      "execution_count": 9,
      "outputs": [
        {
          "output_type": "stream",
          "name": "stdout",
          "text": [
            "range(0, 10)\n",
            "0\n",
            "1\n",
            "4\n",
            "9\n",
            "16\n",
            "25\n",
            "36\n",
            "49\n",
            "64\n",
            "81\n"
          ]
        }
      ]
    },
    {
      "cell_type": "code",
      "source": [
        "# For loop\n",
        "# mind the syntax -> space of four for subsequent line\n",
        "for i in x:\n",
        "    print(i ** 5)"
      ],
      "metadata": {
        "colab": {
          "base_uri": "https://localhost:8080/"
        },
        "id": "wyfyyNHELlpZ",
        "outputId": "511cbfb2-aa07-47a5-cf5b-5579624b7923"
      },
      "execution_count": 10,
      "outputs": [
        {
          "output_type": "stream",
          "name": "stdout",
          "text": [
            "0\n",
            "1\n",
            "32\n",
            "243\n",
            "1024\n",
            "3125\n",
            "7776\n",
            "16807\n",
            "32768\n",
            "59049\n"
          ]
        }
      ]
    },
    {
      "cell_type": "markdown",
      "source": [
        "# **Exercise 1: Multiplication**\n",
        "Suppose you have RM100, which you can invest with a 10% return each year. After one year, it's 100×1.1=110 dollars, and after two years it's 100×1.1×1.1=121.\n",
        "\n",
        "* Write a code to calculate how much money you end up with after 7 years\n",
        "* print the result."
      ],
      "metadata": {
        "id": "L0C6r4C4xqKo"
      }
    },
    {
      "cell_type": "code",
      "execution_count": 11,
      "metadata": {
        "colab": {
          "base_uri": "https://localhost:8080/"
        },
        "id": "INCbp6Z-z6_2",
        "outputId": "4423a8c5-4803-4306-e87f-ad5b321db9e6"
      },
      "outputs": [
        {
          "output_type": "stream",
          "name": "stdout",
          "text": [
            "194.87171000000012\n"
          ]
        }
      ],
      "source": [
        "# How much is our $100 worth after 7 years?\n",
        "print(100 * 1.1 ** 7)"
      ]
    },
    {
      "cell_type": "code",
      "source": [
        "# for loop\n"
      ],
      "metadata": {
        "id": "tld3ftRXNub-"
      },
      "execution_count": null,
      "outputs": []
    },
    {
      "cell_type": "markdown",
      "source": [
        "# **BMI calculation**"
      ],
      "metadata": {
        "id": "4TJ-UCJyzxcb"
      }
    },
    {
      "cell_type": "code",
      "source": [
        "# Information of height and weight\n",
        "height = 1.75\n",
        "#weight = 67.3\n",
        "weight = 74.7\n",
        "\n",
        "# BMI calculation\n",
        "BMI = weight / (height **2)\n",
        "\n",
        "# BMI value\n",
        "print(BMI)\n",
        "\n",
        "# Don't use print\n",
        "BMI\n",
        "\n",
        "# What is the new BMI if now the weight is 74.7?\n",
        "BMI"
      ],
      "metadata": {
        "colab": {
          "base_uri": "https://localhost:8080/"
        },
        "id": "1dbiBsR2y9Gj",
        "outputId": "4d2aebae-c2be-41fe-8069-2c512aa10044"
      },
      "execution_count": 16,
      "outputs": [
        {
          "output_type": "stream",
          "name": "stdout",
          "text": [
            "24.39183673469388\n"
          ]
        },
        {
          "output_type": "execute_result",
          "data": {
            "text/plain": [
              "24.39183673469388"
            ]
          },
          "metadata": {},
          "execution_count": 16
        }
      ]
    },
    {
      "cell_type": "markdown",
      "source": [
        "# **Different Python type**"
      ],
      "metadata": {
        "id": "34r0KkGYsszO"
      }
    },
    {
      "cell_type": "code",
      "source": [
        "# float type\n",
        "type(BMI)"
      ],
      "metadata": {
        "colab": {
          "base_uri": "https://localhost:8080/"
        },
        "id": "myllmSRBsvIK",
        "outputId": "d270561b-be98-4cf7-cc14-f704ee02f2f8"
      },
      "execution_count": 17,
      "outputs": [
        {
          "output_type": "execute_result",
          "data": {
            "text/plain": [
              "float"
            ]
          },
          "metadata": {},
          "execution_count": 17
        }
      ]
    },
    {
      "cell_type": "code",
      "source": [
        "# integer type\n",
        "day_of_week = 7\n",
        "type(day_of_week)"
      ],
      "metadata": {
        "colab": {
          "base_uri": "https://localhost:8080/"
        },
        "id": "Jv-Mg3MutSL2",
        "outputId": "7ee83492-ab88-4c1d-fbb0-2d7f6a59056d"
      },
      "execution_count": 18,
      "outputs": [
        {
          "output_type": "execute_result",
          "data": {
            "text/plain": [
              "int"
            ]
          },
          "metadata": {},
          "execution_count": 18
        }
      ]
    },
    {
      "cell_type": "code",
      "source": [
        "# string type\n",
        "x = 74\n",
        "y = 'stqd6014'\n",
        "\n",
        "# only outout the last step or analysis\n",
        "type(x)\n",
        "type(y)"
      ],
      "metadata": {
        "colab": {
          "base_uri": "https://localhost:8080/"
        },
        "id": "0r0KEtbIQD-0",
        "outputId": "d4dc147e-d5d6-4d58-9376-cf3c17f16441"
      },
      "execution_count": 26,
      "outputs": [
        {
          "output_type": "execute_result",
          "data": {
            "text/plain": [
              "str"
            ]
          },
          "metadata": {},
          "execution_count": 26
        }
      ]
    },
    {
      "cell_type": "code",
      "source": [
        "# string type\n",
        "x = 89\n",
        "y = 'stqd6014'\n",
        "\n",
        "# this one output both data type\n",
        "print(type(x))\n",
        "print(type(y))"
      ],
      "metadata": {
        "colab": {
          "base_uri": "https://localhost:8080/"
        },
        "id": "tSpPjy9ktUEs",
        "outputId": "47c6eec8-ae0e-4fe6-f613-03a6e2cb71b0"
      },
      "execution_count": 25,
      "outputs": [
        {
          "output_type": "stream",
          "name": "stdout",
          "text": [
            "<class 'int'>\n",
            "<class 'str'>\n"
          ]
        }
      ]
    },
    {
      "cell_type": "code",
      "source": [
        "# boolean type\n",
        "print(type(True))\n",
        "print(type(False))"
      ],
      "metadata": {
        "colab": {
          "base_uri": "https://localhost:8080/"
        },
        "id": "v2oMvX4WtWkW",
        "outputId": "0ba5f596-a223-4fd9-89e9-1aa3017df665"
      },
      "execution_count": 29,
      "outputs": [
        {
          "output_type": "stream",
          "name": "stdout",
          "text": [
            "<class 'bool'>\n",
            "<class 'bool'>\n"
          ]
        }
      ]
    },
    {
      "cell_type": "markdown",
      "source": [
        "# **Different Python Data type = Different Behaviour**"
      ],
      "metadata": {
        "id": "9cOD3Xvlt8Iv"
      }
    },
    {
      "cell_type": "code",
      "source": [
        "# Summation of numbers\n",
        "2 + 3"
      ],
      "metadata": {
        "colab": {
          "base_uri": "https://localhost:8080/"
        },
        "id": "SqxO6MmquBpF",
        "outputId": "164c94e6-4445-460c-f5d8-84e99a7cb352"
      },
      "execution_count": 30,
      "outputs": [
        {
          "output_type": "execute_result",
          "data": {
            "text/plain": [
              "5"
            ]
          },
          "metadata": {},
          "execution_count": 30
        }
      ]
    },
    {
      "cell_type": "code",
      "source": [
        "# Summation of strings\n",
        "'ab' + 'cde'"
      ],
      "metadata": {
        "colab": {
          "base_uri": "https://localhost:8080/",
          "height": 35
        },
        "id": "X0fj-mtJuHM3",
        "outputId": "10432287-9147-450f-c5f9-251ff5c525e9"
      },
      "execution_count": 31,
      "outputs": [
        {
          "output_type": "execute_result",
          "data": {
            "text/plain": [
              "'abcde'"
            ],
            "application/vnd.google.colaboratory.intrinsic+json": {
              "type": "string"
            }
          },
          "metadata": {},
          "execution_count": 31
        }
      ]
    },
    {
      "cell_type": "markdown",
      "source": [
        "# **Exercise 2: Python as calculator**"
      ],
      "metadata": {
        "id": "hWlzJvaYukB2"
      }
    },
    {
      "cell_type": "code",
      "source": [
        "# Create a variable savings\n",
        "savings = 100\n",
        "\n",
        "# Create a variable growth_multiplier\n",
        "growth_multiplier = 1.1\n",
        "\n",
        "# Calculate result\n",
        "result = savings * growth_multiplier ** 7\n",
        "\n",
        "# Print out result\n",
        "result"
      ],
      "metadata": {
        "colab": {
          "base_uri": "https://localhost:8080/"
        },
        "id": "w-GAcf_v6H6I",
        "outputId": "e3c44d71-b8e2-416d-a09c-c24779b3eee3"
      },
      "execution_count": 32,
      "outputs": [
        {
          "output_type": "execute_result",
          "data": {
            "text/plain": [
              "194.87171000000012"
            ]
          },
          "metadata": {},
          "execution_count": 32
        }
      ]
    },
    {
      "cell_type": "markdown",
      "source": [
        "# **Exercise 3: String and boolean**"
      ],
      "metadata": {
        "id": "OBx7GpTuvhY6"
      }
    },
    {
      "cell_type": "code",
      "source": [
        "# Create a variable desc\n",
        "desc = \"compound interest\"\n",
        "\n",
        "# Data type for desc\n",
        "type(desc)"
      ],
      "metadata": {
        "id": "I1rFMEEi6pgC",
        "colab": {
          "base_uri": "https://localhost:8080/"
        },
        "outputId": "f8e36cdb-14d2-46d7-9f3b-2020edb91c78"
      },
      "execution_count": 33,
      "outputs": [
        {
          "output_type": "execute_result",
          "data": {
            "text/plain": [
              "str"
            ]
          },
          "metadata": {},
          "execution_count": 33
        }
      ]
    },
    {
      "cell_type": "code",
      "source": [
        "# Create a variable profitable\n",
        "profitable = True\n",
        "\n",
        "# Data type of profitable\n",
        "type(profitable)"
      ],
      "metadata": {
        "colab": {
          "base_uri": "https://localhost:8080/"
        },
        "id": "mVodND3qwJn7",
        "outputId": "e6dae30b-02ad-4f9d-e0bc-b77edabcfd52"
      },
      "execution_count": 34,
      "outputs": [
        {
          "output_type": "execute_result",
          "data": {
            "text/plain": [
              "bool"
            ]
          },
          "metadata": {},
          "execution_count": 34
        }
      ]
    },
    {
      "cell_type": "markdown",
      "source": [
        "# **Exercise 4: Python data type**"
      ],
      "metadata": {
        "id": "hRuYlyURwdms"
      }
    },
    {
      "cell_type": "code",
      "source": [
        "# Given the following data\n",
        "a = 194.87171000000012\n",
        "b = 'true'\n",
        "c = False"
      ],
      "metadata": {
        "id": "TfOWY8g567KL"
      },
      "execution_count": 35,
      "outputs": []
    },
    {
      "cell_type": "code",
      "source": [
        "# Data type for variable a\n",
        "type(a)"
      ],
      "metadata": {
        "colab": {
          "base_uri": "https://localhost:8080/"
        },
        "id": "cBwPvgh7xxF8",
        "outputId": "b6185f4a-3e1e-459d-ff05-03e0361906e7"
      },
      "execution_count": 36,
      "outputs": [
        {
          "output_type": "execute_result",
          "data": {
            "text/plain": [
              "float"
            ]
          },
          "metadata": {},
          "execution_count": 36
        }
      ]
    },
    {
      "cell_type": "code",
      "source": [
        "# Data type for variable b\n",
        "type(b)"
      ],
      "metadata": {
        "colab": {
          "base_uri": "https://localhost:8080/"
        },
        "id": "suHPnAE4wrxl",
        "outputId": "ca5d1f07-e7e0-447c-ce8b-6766b934f263"
      },
      "execution_count": 37,
      "outputs": [
        {
          "output_type": "execute_result",
          "data": {
            "text/plain": [
              "str"
            ]
          },
          "metadata": {},
          "execution_count": 37
        }
      ]
    },
    {
      "cell_type": "code",
      "source": [
        "# Data type for variable c\n",
        "type(c)"
      ],
      "metadata": {
        "colab": {
          "base_uri": "https://localhost:8080/"
        },
        "id": "WysFvXkowvQu",
        "outputId": "2843b9e9-8e04-4cb0-c23d-a7e3c3c59c54"
      },
      "execution_count": 38,
      "outputs": [
        {
          "output_type": "execute_result",
          "data": {
            "text/plain": [
              "bool"
            ]
          },
          "metadata": {},
          "execution_count": 38
        }
      ]
    },
    {
      "cell_type": "markdown",
      "source": [
        "# **Exercise 5: Python as arithmetic operator**"
      ],
      "metadata": {
        "id": "ucjRAAn9w27G"
      }
    },
    {
      "cell_type": "code",
      "source": [
        "# Given the following data\n",
        "savings = 100\n",
        "growth_multiplier = 1.1"
      ],
      "metadata": {
        "id": "5J_PB7rM7l8H"
      },
      "execution_count": 39,
      "outputs": []
    },
    {
      "cell_type": "code",
      "source": [
        "# Assign product of savings and growth_multiplier to year1\n",
        "year1 = growth_multiplier * savings"
      ],
      "metadata": {
        "id": "W_ZHcg6cxyAl"
      },
      "execution_count": 40,
      "outputs": []
    },
    {
      "cell_type": "code",
      "source": [
        "# print out type of year1\n",
        "print(type(year1))"
      ],
      "metadata": {
        "colab": {
          "base_uri": "https://localhost:8080/"
        },
        "id": "OjAYLejExcPp",
        "outputId": "8b3d778a-c94d-473a-cba9-253e524bb82a"
      },
      "execution_count": 41,
      "outputs": [
        {
          "output_type": "stream",
          "name": "stdout",
          "text": [
            "<class 'float'>\n"
          ]
        }
      ]
    },
    {
      "cell_type": "code",
      "source": [
        "# Assign sum of desc and desc to doubledesc\n",
        "# Given desc = \"compound interest\"\n",
        "doubledesc = desc + desc"
      ],
      "metadata": {
        "id": "hshX4ruBxt9N"
      },
      "execution_count": 42,
      "outputs": []
    },
    {
      "cell_type": "code",
      "source": [
        "# Print doubledesc\n",
        "doubledesc"
      ],
      "metadata": {
        "colab": {
          "base_uri": "https://localhost:8080/",
          "height": 35
        },
        "id": "7nzg-T06x9Uk",
        "outputId": "47535748-6407-465c-b299-e971976a31c1"
      },
      "execution_count": 43,
      "outputs": [
        {
          "output_type": "execute_result",
          "data": {
            "text/plain": [
              "'compound interestcompound interest'"
            ],
            "application/vnd.google.colaboratory.intrinsic+json": {
              "type": "string"
            }
          },
          "metadata": {},
          "execution_count": 43
        }
      ]
    },
    {
      "cell_type": "markdown",
      "source": [
        "# **Exercise 6: Debugging the code**\n",
        "The following code has error message.\n",
        "Please fix it!\n"
      ],
      "metadata": {
        "id": "n4PaBCIOy0Sq"
      }
    },
    {
      "cell_type": "code",
      "source": [
        "# Definition of savings and result\n",
        "savings = 100\n",
        "result = 100 * 1.10 ** 7\n",
        "\n",
        "# Print out the message\n",
        "print(\"I started with $\" + (savings) + \" and now have $\" + result + \". Awesome!\")\n",
        "\n",
        "# Definition of pi_string\n",
        "pi_string = \"3.1415926\"\n",
        "\n",
        "# Convert pi_string into float: pi_float\n",
        "float(pi_string)"
      ],
      "metadata": {
        "colab": {
          "base_uri": "https://localhost:8080/",
          "height": 245
        },
        "id": "E59lPRrvz_fz",
        "outputId": "82381714-9523-4510-d4bb-1e527931724c"
      },
      "execution_count": 44,
      "outputs": [
        {
          "output_type": "error",
          "ename": "TypeError",
          "evalue": "ignored",
          "traceback": [
            "\u001b[0;31m---------------------------------------------------------------------------\u001b[0m",
            "\u001b[0;31mTypeError\u001b[0m                                 Traceback (most recent call last)",
            "\u001b[0;32m<ipython-input-44-b83e057d3977>\u001b[0m in \u001b[0;36m<cell line: 6>\u001b[0;34m()\u001b[0m\n\u001b[1;32m      4\u001b[0m \u001b[0;34m\u001b[0m\u001b[0m\n\u001b[1;32m      5\u001b[0m \u001b[0;31m# Print out the message\u001b[0m\u001b[0;34m\u001b[0m\u001b[0;34m\u001b[0m\u001b[0m\n\u001b[0;32m----> 6\u001b[0;31m \u001b[0mprint\u001b[0m\u001b[0;34m(\u001b[0m\u001b[0;34m\"I started with $\"\u001b[0m \u001b[0;34m+\u001b[0m \u001b[0;34m(\u001b[0m\u001b[0msavings\u001b[0m\u001b[0;34m)\u001b[0m \u001b[0;34m+\u001b[0m \u001b[0;34m\" and now have $\"\u001b[0m \u001b[0;34m+\u001b[0m \u001b[0mresult\u001b[0m \u001b[0;34m+\u001b[0m \u001b[0;34m\". Awesome!\"\u001b[0m\u001b[0;34m)\u001b[0m\u001b[0;34m\u001b[0m\u001b[0;34m\u001b[0m\u001b[0m\n\u001b[0m\u001b[1;32m      7\u001b[0m \u001b[0;34m\u001b[0m\u001b[0m\n\u001b[1;32m      8\u001b[0m \u001b[0;31m# Definition of pi_string\u001b[0m\u001b[0;34m\u001b[0m\u001b[0;34m\u001b[0m\u001b[0m\n",
            "\u001b[0;31mTypeError\u001b[0m: can only concatenate str (not \"int\") to str"
          ]
        }
      ]
    },
    {
      "cell_type": "markdown",
      "source": [
        "#### **Fixing in ACTION!!!**"
      ],
      "metadata": {
        "id": "SawYUYgw0PBg"
      }
    },
    {
      "cell_type": "code",
      "source": [
        "# Definition of savings and result\n",
        "result = 100 * 1.10 ** 7\n",
        "\n",
        "# Fix the print out\n",
        "print(\"I started with $\" + str(savings) + \" and now have $\" + str(result) + \". Awesome!\")\n",
        "\n",
        "# Definition of pi_string\n",
        "pi_string = \"3.1415926\"\n",
        "\n",
        "# Convert pi_string into float: pi_float\n",
        "pi_float = float(pi_string)"
      ],
      "metadata": {
        "colab": {
          "base_uri": "https://localhost:8080/"
        },
        "id": "C3Tja5SI7xGm",
        "outputId": "7b51a322-3939-4ac7-90ad-a7548457f09a"
      },
      "execution_count": 45,
      "outputs": [
        {
          "output_type": "stream",
          "name": "stdout",
          "text": [
            "I started with $100 and now have $194.87171000000012. Awesome!\n"
          ]
        }
      ]
    },
    {
      "cell_type": "markdown",
      "source": [
        "# **Which one of these will throw an error?**"
      ],
      "metadata": {
        "id": "bdzjq10g1FKA"
      }
    },
    {
      "cell_type": "code",
      "source": [
        "# Summation of string\n",
        "\"I can add integers, like \" + str(5) + \" to strings.\""
      ],
      "metadata": {
        "colab": {
          "base_uri": "https://localhost:8080/",
          "height": 35
        },
        "id": "bDcOxdjy1HKv",
        "outputId": "6c55fa42-fe1f-4047-9a2d-c583f18a544f"
      },
      "execution_count": 46,
      "outputs": [
        {
          "output_type": "execute_result",
          "data": {
            "text/plain": [
              "'I can add integers, like 5 to strings.'"
            ],
            "application/vnd.google.colaboratory.intrinsic+json": {
              "type": "string"
            }
          },
          "metadata": {},
          "execution_count": 46
        }
      ]
    },
    {
      "cell_type": "code",
      "source": [
        "# Multiplication of string\n",
        "\"I said \" + (\"Hey \" * 2) + \"Hey!\""
      ],
      "metadata": {
        "colab": {
          "base_uri": "https://localhost:8080/",
          "height": 35
        },
        "id": "PRMQpmEn1LQ7",
        "outputId": "3c9a14d2-51e6-40cc-92cb-49ef9e719144"
      },
      "execution_count": 47,
      "outputs": [
        {
          "output_type": "execute_result",
          "data": {
            "text/plain": [
              "'I said Hey Hey Hey!'"
            ],
            "application/vnd.google.colaboratory.intrinsic+json": {
              "type": "string"
            }
          },
          "metadata": {},
          "execution_count": 47
        }
      ]
    },
    {
      "cell_type": "code",
      "source": [
        "# This one has an error\n",
        "\"The correct answer to this multiple choice exercise is answer number \" + 2"
      ],
      "metadata": {
        "colab": {
          "base_uri": "https://localhost:8080/",
          "height": 193
        },
        "id": "aLogRkoe1O8E",
        "outputId": "93cde1ab-844b-4888-f690-0ea1a21f6114"
      },
      "execution_count": 51,
      "outputs": [
        {
          "output_type": "error",
          "ename": "TypeError",
          "evalue": "ignored",
          "traceback": [
            "\u001b[0;31m---------------------------------------------------------------------------\u001b[0m",
            "\u001b[0;31mTypeError\u001b[0m                                 Traceback (most recent call last)",
            "\u001b[0;32m<ipython-input-51-f96160f40661>\u001b[0m in \u001b[0;36m<cell line: 2>\u001b[0;34m()\u001b[0m\n\u001b[1;32m      1\u001b[0m \u001b[0;31m# This one has an error\u001b[0m\u001b[0;34m\u001b[0m\u001b[0;34m\u001b[0m\u001b[0m\n\u001b[0;32m----> 2\u001b[0;31m \u001b[0;34m\"The correct answer to this multiple choice exercise is answer number \"\u001b[0m \u001b[0;34m+\u001b[0m \u001b[0;36m2\u001b[0m\u001b[0;34m\u001b[0m\u001b[0;34m\u001b[0m\u001b[0m\n\u001b[0m",
            "\u001b[0;31mTypeError\u001b[0m: can only concatenate str (not \"int\") to str"
          ]
        }
      ]
    },
    {
      "cell_type": "code",
      "source": [
        "# We can fix it\n",
        "\"The correct answer to this multiple choice exercise is answer number\" + str(2)"
      ],
      "metadata": {
        "colab": {
          "base_uri": "https://localhost:8080/",
          "height": 35
        },
        "id": "zJAQEw1d1jbB",
        "outputId": "4f0f44e0-3e47-4382-b2e3-1a0c8f7ea609"
      },
      "execution_count": 52,
      "outputs": [
        {
          "output_type": "execute_result",
          "data": {
            "text/plain": [
              "'The correct answer to this multiple choice exercise is answer number2'"
            ],
            "application/vnd.google.colaboratory.intrinsic+json": {
              "type": "string"
            }
          },
          "metadata": {},
          "execution_count": 52
        }
      ]
    },
    {
      "cell_type": "code",
      "source": [
        "# True = 1 and False = 0\n",
        "True + False"
      ],
      "metadata": {
        "colab": {
          "base_uri": "https://localhost:8080/"
        },
        "id": "jjVdRlUw1Tjp",
        "outputId": "d87bbacf-ec71-49c1-dc06-312dcdf7953c"
      },
      "execution_count": 49,
      "outputs": [
        {
          "output_type": "execute_result",
          "data": {
            "text/plain": [
              "1"
            ]
          },
          "metadata": {},
          "execution_count": 49
        }
      ]
    },
    {
      "cell_type": "markdown",
      "source": [
        "# **Python Lists**\n",
        "A list in a square bracket, [ ]"
      ],
      "metadata": {
        "id": "w8F8ngzf4jff"
      }
    },
    {
      "cell_type": "code",
      "source": [
        "# Different data type in a list\n"
      ],
      "metadata": {
        "colab": {
          "base_uri": "https://localhost:8080/"
        },
        "id": "x0BnV6lk4oGy",
        "outputId": "1f6751b9-cba2-4603-c848-e6f789b67e71"
      },
      "execution_count": null,
      "outputs": [
        {
          "output_type": "execute_result",
          "data": {
            "text/plain": [
              "list"
            ]
          },
          "metadata": {},
          "execution_count": 87
        }
      ]
    },
    {
      "cell_type": "code",
      "source": [
        "# A list in a list\n"
      ],
      "metadata": {
        "colab": {
          "base_uri": "https://localhost:8080/"
        },
        "id": "lfqoEH6Y48MO",
        "outputId": "0883eeaf-57b3-4752-bde0-58c0318eec40"
      },
      "execution_count": null,
      "outputs": [
        {
          "output_type": "execute_result",
          "data": {
            "text/plain": [
              "list"
            ]
          },
          "metadata": {},
          "execution_count": 2
        }
      ]
    },
    {
      "cell_type": "markdown",
      "source": [
        "# **Exercise 7: Creating a list**"
      ],
      "metadata": {
        "id": "A1KHnXe306Lb"
      }
    },
    {
      "cell_type": "code",
      "source": [
        "# Area variables (in square meters)\n",
        "\n",
        "# Create list areas\n",
        "\n",
        "\n",
        "# Print areas\n"
      ],
      "metadata": {
        "colab": {
          "base_uri": "https://localhost:8080/"
        },
        "id": "LDneWQpdDy9V",
        "outputId": "1b3888fd-edfe-4012-d962-ccd1da2e3340"
      },
      "execution_count": null,
      "outputs": [
        {
          "output_type": "stream",
          "name": "stdout",
          "text": [
            "[11.25, 18.0, 20.0, 10.75, 9.5]\n"
          ]
        }
      ]
    },
    {
      "cell_type": "markdown",
      "source": [
        "# **Exercise 8: Adding name to a list**"
      ],
      "metadata": {
        "id": "9gmWlpa-PyB8"
      }
    },
    {
      "cell_type": "code",
      "source": [
        "# Area variables (in square meters)\n",
        "hall = 11.25\n",
        "kit = 18.0\n",
        "liv = 20.0\n",
        "bed = 10.75\n",
        "bath = 9.50\n",
        "\n",
        "# Adapt list areas - add name for each room\n",
        "\n",
        "\n",
        "# Print areas\n"
      ],
      "metadata": {
        "colab": {
          "base_uri": "https://localhost:8080/"
        },
        "id": "wAOGbKeMajQS",
        "outputId": "a438a9dc-dd65-4b3f-81db-002bb120cb99"
      },
      "execution_count": null,
      "outputs": [
        {
          "output_type": "stream",
          "name": "stdout",
          "text": [
            "['hallway', 11.25, 'kitchen', 18.0, 'living room', 20.0, 'bedroom', 10.75, 'bathroom', 9.5]\n"
          ]
        }
      ]
    },
    {
      "cell_type": "markdown",
      "source": [
        "# **Select the valid list**"
      ],
      "metadata": {
        "id": "bCVSJ_VEQHTf"
      }
    },
    {
      "cell_type": "code",
      "source": [
        "# Example A\n"
      ],
      "metadata": {
        "colab": {
          "base_uri": "https://localhost:8080/"
        },
        "id": "nIvvKk3mQIxe",
        "outputId": "03a4cb81-8a5a-4a60-f108-3db848c21eab"
      },
      "execution_count": null,
      "outputs": [
        {
          "output_type": "execute_result",
          "data": {
            "text/plain": [
              "[1, 3, 4, 2]"
            ]
          },
          "metadata": {},
          "execution_count": 5
        }
      ]
    },
    {
      "cell_type": "code",
      "source": [
        "# Example B\n"
      ],
      "metadata": {
        "colab": {
          "base_uri": "https://localhost:8080/"
        },
        "id": "NX3vdmrNQOBJ",
        "outputId": "0bbe9a9f-7c8c-4658-8963-92f21fbbe57b"
      },
      "execution_count": null,
      "outputs": [
        {
          "output_type": "execute_result",
          "data": {
            "text/plain": [
              "[[1, 2, 3], [4, 5, 7]]"
            ]
          },
          "metadata": {},
          "execution_count": 6
        }
      ]
    },
    {
      "cell_type": "code",
      "source": [
        "# Example C\n"
      ],
      "metadata": {
        "colab": {
          "base_uri": "https://localhost:8080/"
        },
        "id": "uc7PUn8GQRzl",
        "outputId": "093779fe-245b-4b71-9d83-7265922844b8"
      },
      "execution_count": null,
      "outputs": [
        {
          "output_type": "execute_result",
          "data": {
            "text/plain": [
              "[3, 'aaaaa', 3]"
            ]
          },
          "metadata": {},
          "execution_count": 7
        }
      ]
    },
    {
      "cell_type": "markdown",
      "source": [
        "# **Exercise 9: List**"
      ],
      "metadata": {
        "id": "F7kv1wnCQcgu"
      }
    },
    {
      "cell_type": "code",
      "source": [
        "# Area variables (in square meters)\n",
        "hall = 11.25\n",
        "kit = 18.0\n",
        "liv = 20.0\n",
        "bed = 10.75\n",
        "bath = 9.50\n",
        "\n",
        "# house information as list of lists\n",
        "house = [[\"hallway\", hall],\n",
        "         [\"kitchen\", kit],\n",
        "         [\"living room\", liv],\n",
        "         [\"bedroom\", bed],\n",
        "         [\"bathroom\", bath]]\n",
        "\n",
        "# Print out house\n",
        "\n",
        "\n",
        "# Print out the type of house\n"
      ],
      "metadata": {
        "colab": {
          "base_uri": "https://localhost:8080/"
        },
        "id": "17D1grMuaoks",
        "outputId": "e72a03ca-57cb-4159-8fa6-e004a705841e"
      },
      "execution_count": null,
      "outputs": [
        {
          "output_type": "stream",
          "name": "stdout",
          "text": [
            "[['hallway', 11.25], ['kitchen', 18.0], ['living room', 20.0], ['bedroom', 10.75], ['bathroom', 9.5]]\n",
            "<class 'list'>\n"
          ]
        }
      ]
    },
    {
      "cell_type": "markdown",
      "source": [
        "# **Subsetting the lists**"
      ],
      "metadata": {
        "id": "wqHjDjZdRJiw"
      }
    },
    {
      "cell_type": "code",
      "source": [
        "# Given the fam list from previous example\n",
        "fam"
      ],
      "metadata": {
        "colab": {
          "base_uri": "https://localhost:8080/"
        },
        "id": "00SU4uOhRLKD",
        "outputId": "3aaece01-73d2-4907-a887-ce0406fcc8e2"
      },
      "execution_count": null,
      "outputs": [
        {
          "output_type": "execute_result",
          "data": {
            "text/plain": [
              "['liz', 1.73, 'emma', 1.68, 'mom', 1.71, 'dad', 1.89]"
            ]
          },
          "metadata": {},
          "execution_count": 11
        }
      ]
    },
    {
      "cell_type": "code",
      "source": [
        "# Emma's height\n"
      ],
      "metadata": {
        "colab": {
          "base_uri": "https://localhost:8080/"
        },
        "id": "D5PAlT0ARfyp",
        "outputId": "bcfd5aec-ee06-4de2-877f-e1e28c5bfb51"
      },
      "execution_count": null,
      "outputs": [
        {
          "output_type": "execute_result",
          "data": {
            "text/plain": [
              "1.68"
            ]
          },
          "metadata": {},
          "execution_count": 12
        }
      ]
    },
    {
      "cell_type": "code",
      "source": [
        "# Using negative index to get Emma's height\n"
      ],
      "metadata": {
        "colab": {
          "base_uri": "https://localhost:8080/"
        },
        "id": "eSSyWuWqRnLT",
        "outputId": "4469a726-cd62-4d48-d553-882d1c59e7ab"
      },
      "execution_count": null,
      "outputs": [
        {
          "output_type": "execute_result",
          "data": {
            "text/plain": [
              "1.68"
            ]
          },
          "metadata": {},
          "execution_count": 14
        }
      ]
    },
    {
      "cell_type": "markdown",
      "source": [
        "# **List slicing**"
      ],
      "metadata": {
        "id": "PUOsBCVRSBvN"
      }
    },
    {
      "cell_type": "code",
      "source": [
        "# Given the fam list again\n",
        "fam"
      ],
      "metadata": {
        "colab": {
          "base_uri": "https://localhost:8080/"
        },
        "id": "YxHPTc7pSDOP",
        "outputId": "182ac456-9235-46d7-cadd-1510240432a1"
      },
      "execution_count": null,
      "outputs": [
        {
          "output_type": "execute_result",
          "data": {
            "text/plain": [
              "['liz', 1.73, 'emma', 1.68, 'mom', 1.71, 'dad', 1.89]"
            ]
          },
          "metadata": {},
          "execution_count": 15
        }
      ]
    },
    {
      "cell_type": "code",
      "source": [
        "# What would fam[3:5] give us?\n"
      ],
      "metadata": {
        "colab": {
          "base_uri": "https://localhost:8080/"
        },
        "id": "tW98wZyHSHe6",
        "outputId": "5019597b-ccb5-4531-f159-67e6d45af2ee"
      },
      "execution_count": null,
      "outputs": [
        {
          "output_type": "execute_result",
          "data": {
            "text/plain": [
              "[1.68, 'mom']"
            ]
          },
          "metadata": {},
          "execution_count": 16
        }
      ]
    },
    {
      "cell_type": "code",
      "source": [
        "# What would fam[1:4] give us?\n"
      ],
      "metadata": {
        "colab": {
          "base_uri": "https://localhost:8080/"
        },
        "id": "mWWOJQYuSXvy",
        "outputId": "a621d1a1-bcc0-4877-c544-b9b849e0c19f"
      },
      "execution_count": null,
      "outputs": [
        {
          "output_type": "execute_result",
          "data": {
            "text/plain": [
              "[1.73, 'emma', 1.68]"
            ]
          },
          "metadata": {},
          "execution_count": 17
        }
      ]
    },
    {
      "cell_type": "code",
      "source": [
        "# What would fam[:4] give us?\n"
      ],
      "metadata": {
        "colab": {
          "base_uri": "https://localhost:8080/"
        },
        "id": "zB-qOUZsShdY",
        "outputId": "13ba3ec1-eb55-48e8-9e50-52236c37afd1"
      },
      "execution_count": null,
      "outputs": [
        {
          "output_type": "execute_result",
          "data": {
            "text/plain": [
              "['liz', 1.73, 'emma', 1.68]"
            ]
          },
          "metadata": {},
          "execution_count": 18
        }
      ]
    },
    {
      "cell_type": "code",
      "source": [
        "# What would fam[5: ] give us?\n"
      ],
      "metadata": {
        "colab": {
          "base_uri": "https://localhost:8080/"
        },
        "id": "2lkHOfuNSpst",
        "outputId": "97860596-d936-4754-951e-3f0decef2bf0"
      },
      "execution_count": null,
      "outputs": [
        {
          "output_type": "execute_result",
          "data": {
            "text/plain": [
              "[1.71, 'dad', 1.89]"
            ]
          },
          "metadata": {},
          "execution_count": 22
        }
      ]
    },
    {
      "cell_type": "markdown",
      "source": [
        "# **Exercise 10 : Indexing**"
      ],
      "metadata": {
        "id": "-MzRGvo6S_23"
      }
    },
    {
      "cell_type": "code",
      "source": [
        "# Given the areas list\n",
        "areas"
      ],
      "metadata": {
        "colab": {
          "base_uri": "https://localhost:8080/"
        },
        "id": "PKO6PpeaD0td",
        "outputId": "d31325f2-f27f-4e69-df09-897f0930ca39"
      },
      "execution_count": null,
      "outputs": [
        {
          "output_type": "execute_result",
          "data": {
            "text/plain": [
              "['hallway',\n",
              " 11.25,\n",
              " 'kitchen',\n",
              " 18.0,\n",
              " 'living room',\n",
              " 20.0,\n",
              " 'bedroom',\n",
              " 10.75,\n",
              " 'bathroom',\n",
              " 9.5]"
            ]
          },
          "metadata": {},
          "execution_count": 24
        }
      ]
    },
    {
      "cell_type": "code",
      "source": [
        "# Print out second element from areas\n"
      ],
      "metadata": {
        "colab": {
          "base_uri": "https://localhost:8080/"
        },
        "id": "Ci3cBtoiTKdw",
        "outputId": "e9f361f3-a58f-45c8-fdbb-8929f7b6a02b"
      },
      "execution_count": null,
      "outputs": [
        {
          "output_type": "stream",
          "name": "stdout",
          "text": [
            "11.25\n"
          ]
        }
      ]
    },
    {
      "cell_type": "code",
      "source": [
        "# Print out last element from areas\n"
      ],
      "metadata": {
        "colab": {
          "base_uri": "https://localhost:8080/"
        },
        "id": "5RuEA8E2TNBW",
        "outputId": "4a5a24ee-1222-416f-dfe5-5a68bfeab494"
      },
      "execution_count": null,
      "outputs": [
        {
          "output_type": "stream",
          "name": "stdout",
          "text": [
            "9.5\n"
          ]
        }
      ]
    },
    {
      "cell_type": "code",
      "source": [
        "# Print out the area of the living room\n"
      ],
      "metadata": {
        "colab": {
          "base_uri": "https://localhost:8080/"
        },
        "id": "Zhd0UmaITPVf",
        "outputId": "d880639d-2f9c-499f-a147-65209c42f991"
      },
      "execution_count": null,
      "outputs": [
        {
          "output_type": "stream",
          "name": "stdout",
          "text": [
            "20.0\n"
          ]
        }
      ]
    },
    {
      "cell_type": "markdown",
      "source": [
        "# **Exercise 11: combination of list subsetting and variable assignment**"
      ],
      "metadata": {
        "id": "bmlbC4FyTl5L"
      }
    },
    {
      "cell_type": "code",
      "source": [
        "# Given the areas list\n",
        "areas"
      ],
      "metadata": {
        "colab": {
          "base_uri": "https://localhost:8080/"
        },
        "id": "4ulfoFQFYjpr",
        "outputId": "64843b7c-a30c-4b45-d4c6-a562f7ab2c39"
      },
      "execution_count": null,
      "outputs": [
        {
          "output_type": "execute_result",
          "data": {
            "text/plain": [
              "['hallway',\n",
              " 11.25,\n",
              " 'kitchen',\n",
              " 18.0,\n",
              " 'living room',\n",
              " 20.0,\n",
              " 'bedroom',\n",
              " 10.75,\n",
              " 'bathroom',\n",
              " 9.5]"
            ]
          },
          "metadata": {},
          "execution_count": 28
        }
      ]
    },
    {
      "cell_type": "code",
      "source": [
        "# Sum of kitchen and bedroom area: eat_sleep_area\n",
        "\n",
        "\n",
        "# Print the variable eat_sleep_area\n"
      ],
      "metadata": {
        "colab": {
          "base_uri": "https://localhost:8080/"
        },
        "id": "rnhRu3EUVsnI",
        "outputId": "80cc31fe-09b5-44fe-f667-1adcda0dc779"
      },
      "execution_count": null,
      "outputs": [
        {
          "output_type": "stream",
          "name": "stdout",
          "text": [
            "28.75\n"
          ]
        }
      ]
    },
    {
      "cell_type": "markdown",
      "source": [
        "# **Exercise 12: Use slicing to create a list**"
      ],
      "metadata": {
        "id": "0oq4XonrWFDP"
      }
    },
    {
      "cell_type": "code",
      "source": [
        "# Given the areas list\n",
        "areas"
      ],
      "metadata": {
        "colab": {
          "base_uri": "https://localhost:8080/"
        },
        "id": "40JyGHlaZEO0",
        "outputId": "1a289e24-a314-4dd0-bef8-066023899051"
      },
      "execution_count": null,
      "outputs": [
        {
          "output_type": "execute_result",
          "data": {
            "text/plain": [
              "['hallway',\n",
              " 11.25,\n",
              " 'kitchen',\n",
              " 18.0,\n",
              " 'living room',\n",
              " 20.0,\n",
              " 'bedroom',\n",
              " 10.75,\n",
              " 'bathroom',\n",
              " 9.5]"
            ]
          },
          "metadata": {},
          "execution_count": 32
        }
      ]
    },
    {
      "cell_type": "code",
      "source": [
        "# Use slicing to create downstairs: first 6 elements of areas\n"
      ],
      "metadata": {
        "colab": {
          "base_uri": "https://localhost:8080/"
        },
        "id": "pitZVCGpY486",
        "outputId": "765d9f3d-366a-45f8-eaa6-d33a397e6d6c"
      },
      "execution_count": null,
      "outputs": [
        {
          "output_type": "execute_result",
          "data": {
            "text/plain": [
              "['hallway', 11.25, 'kitchen', 18.0, 'living room', 20.0]"
            ]
          },
          "metadata": {},
          "execution_count": 34
        }
      ]
    },
    {
      "cell_type": "code",
      "source": [
        "# Use slicing to create upstairs: last 4 elements of areas\n"
      ],
      "metadata": {
        "colab": {
          "base_uri": "https://localhost:8080/"
        },
        "id": "sDMhiY-7Y9V8",
        "outputId": "2fa7e246-ac04-4a93-d8df-a1361a76b59d"
      },
      "execution_count": null,
      "outputs": [
        {
          "output_type": "execute_result",
          "data": {
            "text/plain": [
              "['bedroom', 10.75, 'bathroom', 9.5]"
            ]
          },
          "metadata": {},
          "execution_count": 49
        }
      ]
    },
    {
      "cell_type": "code",
      "source": [
        "# Print out downstairs and upstairs\n"
      ],
      "metadata": {
        "colab": {
          "base_uri": "https://localhost:8080/"
        },
        "id": "TxxVdoztZCub",
        "outputId": "b4a5135d-10fa-43a7-bef4-694155f94984"
      },
      "execution_count": null,
      "outputs": [
        {
          "output_type": "stream",
          "name": "stdout",
          "text": [
            "['hallway', 11.25, 'kitchen', 18.0, 'living room', 20.0] ['bedroom', 10.75, 'bathroom', 9.5]\n"
          ]
        }
      ]
    },
    {
      "cell_type": "markdown",
      "source": [
        "# **Exercise 13: Indexing again**"
      ],
      "metadata": {
        "id": "NrhbIq9-aMkV"
      }
    },
    {
      "cell_type": "code",
      "source": [
        "# Given the areas list\n",
        "areas"
      ],
      "metadata": {
        "colab": {
          "base_uri": "https://localhost:8080/"
        },
        "id": "4JYi15YmacA_",
        "outputId": "76acf465-9425-4753-cc64-d95615aaecb4"
      },
      "execution_count": null,
      "outputs": [
        {
          "output_type": "execute_result",
          "data": {
            "text/plain": [
              "['hallway',\n",
              " 11.25,\n",
              " 'kitchen',\n",
              " 18.0,\n",
              " 'living room',\n",
              " 20.0,\n",
              " 'bedroom',\n",
              " 10.75,\n",
              " 'bathroom',\n",
              " 9.5]"
            ]
          },
          "metadata": {},
          "execution_count": 42
        }
      ]
    },
    {
      "cell_type": "code",
      "source": [
        "# Alternative slicing to create downstairs: omitting the beginning index\n"
      ],
      "metadata": {
        "id": "mE8M7PZmZGy7",
        "colab": {
          "base_uri": "https://localhost:8080/"
        },
        "outputId": "2a3aaeb1-a27d-43a2-efbc-ff042effadaa"
      },
      "execution_count": null,
      "outputs": [
        {
          "output_type": "execute_result",
          "data": {
            "text/plain": [
              "['hallway', 11.25, 'kitchen', 18.0, 'living room', 20.0]"
            ]
          },
          "metadata": {},
          "execution_count": 50
        }
      ]
    },
    {
      "cell_type": "code",
      "source": [
        "# Alternative slicing to create upstairs: omitting the end index\n"
      ],
      "metadata": {
        "colab": {
          "base_uri": "https://localhost:8080/"
        },
        "id": "RSpLTFC7agFa",
        "outputId": "1a4602a0-4db9-4573-d268-e600e4799124"
      },
      "execution_count": null,
      "outputs": [
        {
          "output_type": "execute_result",
          "data": {
            "text/plain": [
              "['bedroom', 10.75, 'bathroom', 9.5]"
            ]
          },
          "metadata": {},
          "execution_count": 51
        }
      ]
    },
    {
      "cell_type": "code",
      "source": [
        "# Negative indexing for the last five elements\n"
      ],
      "metadata": {
        "colab": {
          "base_uri": "https://localhost:8080/"
        },
        "id": "pgPPwDQ4bqhK",
        "outputId": "34389fcd-1b73-4892-fc2b-0813e17956a7"
      },
      "execution_count": null,
      "outputs": [
        {
          "output_type": "execute_result",
          "data": {
            "text/plain": [
              "[20.0, 'bedroom', 10.75, 'bathroom', 9.5]"
            ]
          },
          "metadata": {},
          "execution_count": 52
        }
      ]
    },
    {
      "cell_type": "markdown",
      "source": [
        "# **Subsetting lists of lists**"
      ],
      "metadata": {
        "id": "FhZSZSrJb7mE"
      }
    },
    {
      "cell_type": "code",
      "source": [
        "# Given the following list\n",
        "x = [[\"a\", \"b\", \"c\"],\n",
        "     [\"d\", \"e\",\"f\"],\n",
        "     [\"g\", \"h\", \"i\"]]"
      ],
      "metadata": {
        "id": "y0l1Y9rlb-Fu"
      },
      "execution_count": null,
      "outputs": []
    },
    {
      "cell_type": "code",
      "source": [
        "# Example 1\n"
      ],
      "metadata": {
        "colab": {
          "base_uri": "https://localhost:8080/",
          "height": 35
        },
        "id": "p5Oq55xycNAr",
        "outputId": "ef784820-506c-481a-a773-5912b1d95c7a"
      },
      "execution_count": null,
      "outputs": [
        {
          "output_type": "execute_result",
          "data": {
            "text/plain": [
              "'g'"
            ],
            "application/vnd.google.colaboratory.intrinsic+json": {
              "type": "string"
            }
          },
          "metadata": {},
          "execution_count": 54
        }
      ]
    },
    {
      "cell_type": "code",
      "source": [
        "# Example 2\n"
      ],
      "metadata": {
        "colab": {
          "base_uri": "https://localhost:8080/"
        },
        "id": "kYMQV-1JcXK9",
        "outputId": "18d5eae4-1768-4131-ff37-64d8d716923d"
      },
      "execution_count": null,
      "outputs": [
        {
          "output_type": "execute_result",
          "data": {
            "text/plain": [
              "['g', 'h']"
            ]
          },
          "metadata": {},
          "execution_count": 55
        }
      ]
    },
    {
      "cell_type": "code",
      "source": [
        "# Given the house variable from previous example\n",
        "house"
      ],
      "metadata": {
        "colab": {
          "base_uri": "https://localhost:8080/"
        },
        "id": "iF_a9bwmcf9_",
        "outputId": "54ed48b4-64e6-4dbc-a488-ccdf13dcb18c"
      },
      "execution_count": null,
      "outputs": [
        {
          "output_type": "execute_result",
          "data": {
            "text/plain": [
              "[['hallway', 11.25],\n",
              " ['kitchen', 18.0],\n",
              " ['living room', 20.0],\n",
              " ['bedroom', 10.75],\n",
              " ['bathroom', 9.5]]"
            ]
          },
          "metadata": {},
          "execution_count": 61
        }
      ]
    },
    {
      "cell_type": "code",
      "source": [
        "# subsetting house[-1][1]\n"
      ],
      "metadata": {
        "colab": {
          "base_uri": "https://localhost:8080/"
        },
        "id": "hGcWYLoYc3uB",
        "outputId": "4913fc66-4edb-473d-83b2-7f81386f40e5"
      },
      "execution_count": null,
      "outputs": [
        {
          "output_type": "execute_result",
          "data": {
            "text/plain": [
              "9.5"
            ]
          },
          "metadata": {},
          "execution_count": 64
        }
      ]
    },
    {
      "cell_type": "code",
      "source": [
        "# Data type\n"
      ],
      "metadata": {
        "colab": {
          "base_uri": "https://localhost:8080/"
        },
        "id": "R974o6vHdGc_",
        "outputId": "58bccf5b-4ea8-45e2-a478-699b0090b87e"
      },
      "execution_count": null,
      "outputs": [
        {
          "output_type": "execute_result",
          "data": {
            "text/plain": [
              "float"
            ]
          },
          "metadata": {},
          "execution_count": 65
        }
      ]
    },
    {
      "cell_type": "markdown",
      "source": [
        "# **Manipulating Lists**"
      ],
      "metadata": {
        "id": "woyfTIDeeEKc"
      }
    },
    {
      "cell_type": "code",
      "source": [
        "# Given the fam list\n",
        "fam"
      ],
      "metadata": {
        "colab": {
          "base_uri": "https://localhost:8080/"
        },
        "id": "puff7rDReL19",
        "outputId": "4c3738a6-be0d-4111-eafc-c9e0c61504da"
      },
      "execution_count": null,
      "outputs": [
        {
          "output_type": "execute_result",
          "data": {
            "text/plain": [
              "['liz', 1.73, 1.68, 'mom', 1.71, 'dad', 1.89]"
            ]
          },
          "metadata": {},
          "execution_count": 86
        }
      ]
    },
    {
      "cell_type": "code",
      "source": [
        "# Change of dad's height\n"
      ],
      "metadata": {
        "colab": {
          "base_uri": "https://localhost:8080/"
        },
        "id": "ddDRS3KmePBl",
        "outputId": "253f266e-85d0-477b-e4d1-05d0ca5e7599"
      },
      "execution_count": null,
      "outputs": [
        {
          "output_type": "execute_result",
          "data": {
            "text/plain": [
              "['liz', 1.73, 'emma', 1.68, 'mom', 1.71, 'dad', 1.86]"
            ]
          },
          "metadata": {},
          "execution_count": 67
        }
      ]
    },
    {
      "cell_type": "code",
      "source": [
        "# Change of liz details\n"
      ],
      "metadata": {
        "colab": {
          "base_uri": "https://localhost:8080/"
        },
        "id": "hrS1_l1jebHC",
        "outputId": "ae0f5761-c582-473c-8cab-72215a7e7b40"
      },
      "execution_count": null,
      "outputs": [
        {
          "output_type": "execute_result",
          "data": {
            "text/plain": [
              "['lisa', 1.74, 'emma', 1.68, 'mom', 1.71, 'dad', 1.86]"
            ]
          },
          "metadata": {},
          "execution_count": 71
        }
      ]
    },
    {
      "cell_type": "markdown",
      "source": [
        "# **Adding and removing elements in lists**\n"
      ],
      "metadata": {
        "id": "35BDe7ggfzQX"
      }
    },
    {
      "cell_type": "code",
      "source": [
        "# Given the items list\n",
        "# We want to add additional ietms\n",
        "items = ['cake', 'cookie', 'bread']\n",
        "items + ['biscuit', 'tart']"
      ],
      "metadata": {
        "colab": {
          "base_uri": "https://localhost:8080/"
        },
        "id": "wvA-pKQJqQnA",
        "outputId": "b3386251-3246-484b-961e-9ca73d59f046"
      },
      "execution_count": null,
      "outputs": [
        {
          "output_type": "execute_result",
          "data": {
            "text/plain": [
              "['cake', 'cookie', 'bread', 'biscuit', 'tart']"
            ]
          },
          "metadata": {},
          "execution_count": 94
        }
      ]
    },
    {
      "cell_type": "code",
      "source": [
        "# However, the items are not updates\n"
      ],
      "metadata": {
        "colab": {
          "base_uri": "https://localhost:8080/"
        },
        "id": "PoPJ7agZq1On",
        "outputId": "bf719527-8f98-4861-e536-627cbbd85d10"
      },
      "execution_count": null,
      "outputs": [
        {
          "output_type": "execute_result",
          "data": {
            "text/plain": [
              "['cake', 'cookie', 'bread']"
            ]
          },
          "metadata": {},
          "execution_count": 95
        }
      ]
    },
    {
      "cell_type": "code",
      "source": [
        "# Create a new list to store the newly added items\n"
      ],
      "metadata": {
        "colab": {
          "base_uri": "https://localhost:8080/"
        },
        "id": "bhdOp8arq64j",
        "outputId": "f6db90d6-38f3-4266-88cb-d9219e27e4c3"
      },
      "execution_count": null,
      "outputs": [
        {
          "output_type": "stream",
          "name": "stdout",
          "text": [
            "['cake', 'cookie', 'bread', 'biscuit', 'tart']\n"
          ]
        }
      ]
    },
    {
      "cell_type": "code",
      "source": [
        "# Given the original fam list\n",
        "fam = [\"liz\", 1.73, \"emma\", 1.68, \"mom\", 1.71, \"dad\", 1.89]\n",
        "print(fam)"
      ],
      "metadata": {
        "colab": {
          "base_uri": "https://localhost:8080/"
        },
        "id": "UhYnfn-wqaGK",
        "outputId": "78e6c84c-ecea-4b0d-f39b-27440d2f522d"
      },
      "execution_count": null,
      "outputs": [
        {
          "output_type": "stream",
          "name": "stdout",
          "text": [
            "['liz', 1.73, 'emma', 1.68, 'mom', 1.71, 'dad', 1.89]\n"
          ]
        }
      ]
    },
    {
      "cell_type": "code",
      "source": [
        "# A simple + sign would not add the data into the fam list permanently\n"
      ],
      "metadata": {
        "colab": {
          "base_uri": "https://localhost:8080/"
        },
        "id": "WmQ4Vld4fy5d",
        "outputId": "fb267e60-5f0e-4d07-d362-4b5bf331a29f"
      },
      "execution_count": null,
      "outputs": [
        {
          "output_type": "execute_result",
          "data": {
            "text/plain": [
              "['liz', 1.73, 'emma', 1.68, 'mom', 1.71, 'dad', 1.89]"
            ]
          },
          "metadata": {},
          "execution_count": 111
        }
      ]
    },
    {
      "cell_type": "code",
      "source": [
        "# This would add the data into the list by assignning a new variable\n"
      ],
      "metadata": {
        "colab": {
          "base_uri": "https://localhost:8080/"
        },
        "id": "DHRjrA76ljLu",
        "outputId": "e3af3788-fcf4-49e0-a4cb-e120f7af720e"
      },
      "execution_count": null,
      "outputs": [
        {
          "output_type": "execute_result",
          "data": {
            "text/plain": [
              "['liz', 1.73, 'emma', 1.68, 'mom', 1.71, 'dad', 1.89, 'me', 1.79]"
            ]
          },
          "metadata": {},
          "execution_count": 112
        }
      ]
    },
    {
      "cell_type": "code",
      "source": [
        "# Delete third element from fam list\n"
      ],
      "metadata": {
        "id": "yTYg0yCYlwYP"
      },
      "execution_count": null,
      "outputs": []
    },
    {
      "cell_type": "code",
      "source": [
        "# Latest fam list - emma being removed\n"
      ],
      "metadata": {
        "colab": {
          "base_uri": "https://localhost:8080/"
        },
        "id": "KEbtXFmgl_4a",
        "outputId": "e9c21bfe-447b-4ffd-8384-3307cba23931"
      },
      "execution_count": null,
      "outputs": [
        {
          "output_type": "execute_result",
          "data": {
            "text/plain": [
              "['liz', 1.73, 1.68, 'mom', 1.71, 'dad', 1.89]"
            ]
          },
          "metadata": {},
          "execution_count": 114
        }
      ]
    },
    {
      "cell_type": "markdown",
      "source": [
        "#### We can use the **<font color='red'>plus-equals operator += </font>** to provide a convenient way to add a value **<font color='red'>to an existing variable</font>** and assign the new value **<font color='red'>back to the same variable</font>**."
      ],
      "metadata": {
        "id": "KFevqAiosdp6"
      }
    },
    {
      "cell_type": "code",
      "source": [
        "# Given the original fam list\n",
        "fam = [\"liz\", 1.73, \"emma\", 1.68, \"mom\", 1.71, \"dad\", 1.89]\n",
        "\n",
        "# Use of the plus-equals operator +=\n"
      ],
      "metadata": {
        "colab": {
          "base_uri": "https://localhost:8080/"
        },
        "id": "BatMvvnYtAe7",
        "outputId": "659f647d-83d8-4c26-fb5b-415376ba9f61"
      },
      "execution_count": null,
      "outputs": [
        {
          "output_type": "stream",
          "name": "stdout",
          "text": [
            "['liz', 1.73, 'emma', 1.68, 'mom', 1.71, 'dad', 1.89, 'me', 1.7]\n"
          ]
        }
      ]
    },
    {
      "cell_type": "markdown",
      "source": [
        "# **Exercise 14: Updating the list**"
      ],
      "metadata": {
        "id": "3NQJmlSBrdwT"
      }
    },
    {
      "cell_type": "code",
      "source": [
        "# Given the areas list\n",
        "areas"
      ],
      "metadata": {
        "id": "ER6nvrVxeTsT",
        "colab": {
          "base_uri": "https://localhost:8080/"
        },
        "outputId": "eb400c62-5483-462d-ce20-65b4717bec76"
      },
      "execution_count": null,
      "outputs": [
        {
          "output_type": "execute_result",
          "data": {
            "text/plain": [
              "['hallway',\n",
              " 11.25,\n",
              " 'kitchen',\n",
              " 18.0,\n",
              " 'living room',\n",
              " 20.0,\n",
              " 'bedroom',\n",
              " 10.75,\n",
              " 'bathroom',\n",
              " 9.5]"
            ]
          },
          "metadata": {},
          "execution_count": 105
        }
      ]
    },
    {
      "cell_type": "code",
      "source": [
        "# Update the bathroom area\n"
      ],
      "metadata": {
        "id": "tQSE25JYrp2w"
      },
      "execution_count": null,
      "outputs": []
    },
    {
      "cell_type": "code",
      "source": [
        "# Change \"living room\" to \"chill zone\"\n"
      ],
      "metadata": {
        "id": "G0mHMMITrvuh"
      },
      "execution_count": null,
      "outputs": []
    },
    {
      "cell_type": "code",
      "source": [
        "# Check the latest areas list\n",
        "areas"
      ],
      "metadata": {
        "colab": {
          "base_uri": "https://localhost:8080/"
        },
        "id": "Yqwnb22-rynu",
        "outputId": "6a0f796d-7057-4f94-b4a3-57d0f365666c"
      },
      "execution_count": null,
      "outputs": [
        {
          "output_type": "execute_result",
          "data": {
            "text/plain": [
              "['hallway',\n",
              " 11.25,\n",
              " 'kitchen',\n",
              " 18.0,\n",
              " 'chill zone',\n",
              " 20.0,\n",
              " 'bedroom',\n",
              " 10.75,\n",
              " 'bathroom',\n",
              " 10.5]"
            ]
          },
          "metadata": {},
          "execution_count": 108
        }
      ]
    },
    {
      "cell_type": "markdown",
      "source": [
        "# **Exercise 15: Another example**"
      ],
      "metadata": {
        "id": "NUgYNzcptWGs"
      }
    },
    {
      "cell_type": "code",
      "source": [
        "# Given the original areas\n",
        "areas = [\"hallway\", 11.25, \"kitchen\", 18.0, \"chill zone\", 20.0,\n",
        "         \"bedroom\", 10.75, \"bathroom\", 10.50]\n",
        "print(areas)"
      ],
      "metadata": {
        "id": "G7yfsnJleaBN",
        "colab": {
          "base_uri": "https://localhost:8080/"
        },
        "outputId": "b1e7ae65-887e-48ec-fe0e-daeb9f94558d"
      },
      "execution_count": null,
      "outputs": [
        {
          "output_type": "stream",
          "name": "stdout",
          "text": [
            "['hallway', 11.25, 'kitchen', 18.0, 'chill zone', 20.0, 'bedroom', 10.75, 'bathroom', 10.5]\n"
          ]
        }
      ]
    },
    {
      "cell_type": "code",
      "source": [
        "# Add poolhouse data to areas, new list is areas_1\n"
      ],
      "metadata": {
        "colab": {
          "base_uri": "https://localhost:8080/"
        },
        "id": "3z_vRdGjtf04",
        "outputId": "9e6c1590-9881-4b11-9633-0910b61533c2"
      },
      "execution_count": null,
      "outputs": [
        {
          "output_type": "stream",
          "name": "stdout",
          "text": [
            "['hallway', 11.25, 'kitchen', 18.0, 'chill zone', 20.0, 'bedroom', 10.75, 'bathroom', 10.5, 'poolhouse', 24.5]\n"
          ]
        }
      ]
    },
    {
      "cell_type": "code",
      "source": [
        "# Add garage data to areas_1, new list is areas_2\n"
      ],
      "metadata": {
        "colab": {
          "base_uri": "https://localhost:8080/"
        },
        "id": "M7LSo89Xtm1l",
        "outputId": "f0f60eee-7501-4c0d-ff99-08fbc9548b23"
      },
      "execution_count": null,
      "outputs": [
        {
          "output_type": "stream",
          "name": "stdout",
          "text": [
            "['hallway', 11.25, 'kitchen', 18.0, 'chill zone', 20.0, 'bedroom', 10.75, 'bathroom', 10.5, 'poolhouse', 24.5, 'garage', 15.45]\n"
          ]
        }
      ]
    },
    {
      "cell_type": "markdown",
      "source": [
        "# **Quiz**"
      ],
      "metadata": {
        "id": "l_Pfi_vDt6_L"
      }
    },
    {
      "cell_type": "code",
      "source": [
        "# Given the areas\n",
        "areas = areas_2[:]\n",
        "print(areas)\n",
        "\n",
        "# Output 1\n"
      ],
      "metadata": {
        "colab": {
          "base_uri": "https://localhost:8080/"
        },
        "id": "9VKw7VgEuR3P",
        "outputId": "7b1a3b3e-82a5-4e33-e696-dea2b8f2afc7"
      },
      "execution_count": null,
      "outputs": [
        {
          "output_type": "stream",
          "name": "stdout",
          "text": [
            "['hallway', 11.25, 'kitchen', 18.0, 'chill zone', 20.0, 'bedroom', 10.75, 'bathroom', 10.5, 'poolhouse', 24.5, 'garage', 15.45]\n",
            "['hallway', 11.25, 'kitchen', 18.0, 'chill zone', 20.0, 'bedroom', 10.75, 'bathroom', 10.5, 24.5, 15.45]\n"
          ]
        }
      ]
    },
    {
      "cell_type": "code",
      "source": [
        "# Given the areas\n",
        "areas = areas_2[:]\n",
        "print(areas)\n",
        "\n",
        "# Output 2\n"
      ],
      "metadata": {
        "colab": {
          "base_uri": "https://localhost:8080/"
        },
        "id": "Jo3gxl0EuxJ3",
        "outputId": "a6911ad2-ad62-4be4-9ced-26622b0b65b2"
      },
      "execution_count": null,
      "outputs": [
        {
          "output_type": "stream",
          "name": "stdout",
          "text": [
            "['hallway', 11.25, 'kitchen', 18.0, 'chill zone', 20.0, 'bedroom', 10.75, 'bathroom', 10.5, 'poolhouse', 24.5, 'garage', 15.45]\n",
            "['hallway', 11.25, 'kitchen', 18.0, 'chill zone', 20.0, 'bedroom', 10.75, 'bathroom', 10.5, 24.5, 'garage', 15.45]\n"
          ]
        }
      ]
    },
    {
      "cell_type": "code",
      "source": [
        "# Given the areas\n",
        "areas = areas_2[:]\n",
        "print(areas)\n",
        "\n",
        "# Output 3\n"
      ],
      "metadata": {
        "colab": {
          "base_uri": "https://localhost:8080/"
        },
        "id": "xMmzSRkvu6p7",
        "outputId": "6e4d31d3-2f03-40d9-9947-cf8a8e8deb19"
      },
      "execution_count": null,
      "outputs": [
        {
          "output_type": "stream",
          "name": "stdout",
          "text": [
            "['hallway', 11.25, 'kitchen', 18.0, 'chill zone', 20.0, 'bedroom', 10.75, 'bathroom', 10.5, 'poolhouse', 24.5, 'garage', 15.45]\n",
            "['hallway', 11.25, 'kitchen', 18.0, 'chill zone', 20.0, 'bedroom', 10.75, 'bathroom', 10.5, 'garage', 15.45]\n"
          ]
        }
      ]
    },
    {
      "cell_type": "code",
      "source": [
        "# Given the areas\n",
        "areas = areas_2[:]\n",
        "print(areas)\n",
        "\n",
        "# Output 4\n"
      ],
      "metadata": {
        "colab": {
          "base_uri": "https://localhost:8080/"
        },
        "id": "B-NyfqE8vHfW",
        "outputId": "39aabb18-f662-4015-e8f4-356a16d1f008"
      },
      "execution_count": null,
      "outputs": [
        {
          "output_type": "stream",
          "name": "stdout",
          "text": [
            "['hallway', 11.25, 'kitchen', 18.0, 'chill zone', 20.0, 'bedroom', 10.75, 'bathroom', 10.5, 'poolhouse', 24.5, 'garage', 15.45]\n",
            "['hallway', 11.25, 'kitchen', 18.0, 'chill zone', 20.0, 'bedroom', 10.75, 'bathroom', 'poolhouse', 'garage', 15.45]\n"
          ]
        }
      ]
    },
    {
      "cell_type": "markdown",
      "source": [
        "# **Your challenge**"
      ],
      "metadata": {
        "id": "cYTxPlUCvnLw"
      }
    },
    {
      "cell_type": "code",
      "source": [
        "# Create list areas\n",
        "areas = [11.25, 18.0, 20.0, 10.75, 9.50]"
      ],
      "metadata": {
        "id": "STmXeJWAvx_Y"
      },
      "execution_count": null,
      "outputs": []
    },
    {
      "cell_type": "code",
      "source": [
        "# Create a copy by simply using equal sign\n",
        "\n",
        "\n",
        "# change the second element of areas_copy to 21.1\n",
        "\n",
        "\n",
        "# print the areas_and areas_copy\n"
      ],
      "metadata": {
        "colab": {
          "base_uri": "https://localhost:8080/"
        },
        "id": "27WqpKobv4Wx",
        "outputId": "11288bf0-2f08-450a-e063-23b24437b662"
      },
      "execution_count": null,
      "outputs": [
        {
          "output_type": "stream",
          "name": "stdout",
          "text": [
            "[11.25, 21.1, 20.0, 10.75, 9.5] [11.25, 21.1, 20.0, 10.75, 9.5]\n"
          ]
        }
      ]
    },
    {
      "cell_type": "code",
      "source": [
        "# To preserve the original areas data and make changes to areas_copy only\n",
        "\n",
        "\n",
        "# Now make the changes to second element in areas_copy to 40\n",
        "\n",
        "\n",
        "# Print both areas and areas_copy\n"
      ],
      "metadata": {
        "colab": {
          "base_uri": "https://localhost:8080/"
        },
        "id": "OlRue_LiwgDV",
        "outputId": "025b89e6-e74a-404b-b898-0eba66a3081c"
      },
      "execution_count": null,
      "outputs": [
        {
          "output_type": "stream",
          "name": "stdout",
          "text": [
            "[11.25, 21.1, 20.0, 10.75, 9.5] [11.25, 40, 20.0, 10.75, 9.5]\n"
          ]
        }
      ]
    },
    {
      "cell_type": "markdown",
      "source": [
        "# **Good Luck and see you all next week!</p>**"
      ],
      "metadata": {
        "id": "4mH-DiGcxDNp"
      }
    },
    {
      "cell_type": "code",
      "source": [
        "3+8"
      ],
      "metadata": {
        "colab": {
          "base_uri": "https://localhost:8080/"
        },
        "id": "191yJuh-FYFq",
        "outputId": "c3727bcf-6607-4fb8-d599-654f275c75b2"
      },
      "execution_count": 2,
      "outputs": [
        {
          "output_type": "execute_result",
          "data": {
            "text/plain": [
              "11"
            ]
          },
          "metadata": {},
          "execution_count": 2
        }
      ]
    },
    {
      "cell_type": "code",
      "source": [
        "6+9"
      ],
      "metadata": {
        "colab": {
          "base_uri": "https://localhost:8080/"
        },
        "id": "xqGkA2nUFZ-H",
        "outputId": "cec964f5-7dd8-40d9-cc49-d4dc536fd55a"
      },
      "execution_count": 3,
      "outputs": [
        {
          "output_type": "execute_result",
          "data": {
            "text/plain": [
              "15"
            ]
          },
          "metadata": {},
          "execution_count": 3
        }
      ]
    }
  ]
}