{
  "nbformat": 4,
  "nbformat_minor": 0,
  "metadata": {
    "colab": {
      "provenance": [],
      "include_colab_link": true
    },
    "kernelspec": {
      "name": "python3",
      "display_name": "Python 3"
    },
    "language_info": {
      "name": "python"
    }
  },
  "cells": [
    {
      "cell_type": "markdown",
      "metadata": {
        "id": "view-in-github",
        "colab_type": "text"
      },
      "source": [
        "<a href=\"https://colab.research.google.com/github/bernlkb/STQD6014-DataScience/blob/main/Week3_20231104.ipynb\" target=\"_parent\"><img src=\"https://colab.research.google.com/assets/colab-badge.svg\" alt=\"Open In Colab\"/></a>"
      ]
    },
    {
      "cell_type": "markdown",
      "source": [
        "# **Week 03**"
      ],
      "metadata": {
        "id": "wAJzPiuPfytH"
      }
    },
    {
      "cell_type": "markdown",
      "source": [
        "# **Part One: The *If* statement**"
      ],
      "metadata": {
        "id": "JUjPk_j7dYYe"
      }
    },
    {
      "cell_type": "markdown",
      "source": [
        "# **Exercise 1**"
      ],
      "metadata": {
        "id": "I7AP1LpTUu7N"
      }
    },
    {
      "cell_type": "code",
      "execution_count": 2,
      "metadata": {
        "id": "K3kRlxvX6A7L",
        "colab": {
          "base_uri": "https://localhost:8080/"
        },
        "outputId": "f90f9846-6fdc-4898-82a5-0f19d188179c"
      },
      "outputs": [
        {
          "output_type": "stream",
          "name": "stdout",
          "text": [
            "Audi\n",
            "BMW\n",
            "Subaru\n",
            "Toyota\n"
          ]
        }
      ],
      "source": [
        "# If statement\n",
        "cars = ['audi', 'bmw', 'subaru', 'toyota']\n",
        "\n",
        "for i in cars:\n",
        "    if i == 'bmw':\n",
        "        print(i.upper())\n",
        "    else:\n",
        "        print(i.title())\n",
        "\n"
      ]
    },
    {
      "cell_type": "markdown",
      "source": [
        "# **Exercise 2**"
      ],
      "metadata": {
        "id": "jTctVGKnUdEH"
      }
    },
    {
      "cell_type": "code",
      "source": [
        "# If else statement\n",
        "requested_topping = 'cheese'\n",
        "\n",
        "if requested_topping != 'anchovies':\n",
        "    print('Hold the anchovies')\n",
        "else:\n",
        "    print('Bernard, please serve the anchovies fast!!!!')"
      ],
      "metadata": {
        "id": "fviS0BYz8fUO",
        "colab": {
          "base_uri": "https://localhost:8080/"
        },
        "outputId": "56e55222-7d5a-4073-c2ae-8eeffa7bc928"
      },
      "execution_count": 3,
      "outputs": [
        {
          "output_type": "stream",
          "name": "stdout",
          "text": [
            "Hold the anchovies\n"
          ]
        }
      ]
    },
    {
      "cell_type": "markdown",
      "source": [
        "# **Exercise 3**"
      ],
      "metadata": {
        "id": "FyfSvhWbUXta"
      }
    },
    {
      "cell_type": "code",
      "source": [
        "# Pre-condtion\n",
        "age_0 = 22\n",
        "age_1 = 18"
      ],
      "metadata": {
        "id": "hV59aeSw8uSF"
      },
      "execution_count": 4,
      "outputs": []
    },
    {
      "cell_type": "code",
      "source": [
        "# Checking using different condition\n",
        "# age_0 < 21 and age_1 < 21 - FALSE\n",
        "# age_0 < 21 or age_1 < 21 - TRUE\n",
        "# age_0 >= 21 and age_1 >= 21 - FALSE\n",
        "# age_0 >= 21 or age_1 >= 21 - TRUE\n",
        "# age_0 >= 21 and age_1 >= 21 - FALSE\n"
      ],
      "metadata": {
        "id": "69W0k1_NgKOS"
      },
      "execution_count": 5,
      "outputs": []
    },
    {
      "cell_type": "code",
      "source": [
        "age_0 >= 21 and age_1 >= 21\n"
      ],
      "metadata": {
        "colab": {
          "base_uri": "https://localhost:8080/"
        },
        "id": "v0MKcqw6IAPW",
        "outputId": "219bf7aa-e61d-48a8-e863-7196443d356e"
      },
      "execution_count": 6,
      "outputs": [
        {
          "output_type": "execute_result",
          "data": {
            "text/plain": [
              "False"
            ]
          },
          "metadata": {},
          "execution_count": 6
        }
      ]
    },
    {
      "cell_type": "markdown",
      "source": [
        "# **A point of ponder :)**"
      ],
      "metadata": {
        "id": "Wk6VCX9djopY"
      }
    },
    {
      "cell_type": "code",
      "source": [
        "# What would the following code evaluate to? True or False?\n",
        "# and why?\n",
        "age_0 and age_1 > 21"
      ],
      "metadata": {
        "id": "9xZGmLTVkHlh",
        "colab": {
          "base_uri": "https://localhost:8080/"
        },
        "outputId": "76a1ffb9-b313-4442-f120-74f5f34b1f3d"
      },
      "execution_count": 7,
      "outputs": [
        {
          "output_type": "execute_result",
          "data": {
            "text/plain": [
              "False"
            ]
          },
          "metadata": {},
          "execution_count": 7
        }
      ]
    },
    {
      "cell_type": "code",
      "source": [
        "22 and True"
      ],
      "metadata": {
        "colab": {
          "base_uri": "https://localhost:8080/"
        },
        "id": "u588QN3LJh5p",
        "outputId": "4bfbe844-5628-4f81-ef95-cfcdd05c9010"
      },
      "execution_count": 8,
      "outputs": [
        {
          "output_type": "execute_result",
          "data": {
            "text/plain": [
              "True"
            ]
          },
          "metadata": {},
          "execution_count": 8
        }
      ]
    },
    {
      "cell_type": "markdown",
      "source": [
        "# **Exercise 4** - Keyword *in*"
      ],
      "metadata": {
        "id": "PpOFS0aNUN91"
      }
    },
    {
      "cell_type": "code",
      "source": [
        "# Using the keyword 'in'\n",
        "requested_topping = ['mushrooms', 'onions', 'pineapple']\n",
        "\n",
        "# Check whether mushrooms is in the topping list\n",
        "# case sensitive\n",
        "'mushroom' in requested_topping\n",
        "\n",
        "# Check whether pepperoni is in the topping list\n",
        "'pepperoni' in requested_topping"
      ],
      "metadata": {
        "id": "z5wPseRl-VyI",
        "colab": {
          "base_uri": "https://localhost:8080/"
        },
        "outputId": "6e6d784b-eac1-4598-e861-60fde953cf37"
      },
      "execution_count": 9,
      "outputs": [
        {
          "output_type": "execute_result",
          "data": {
            "text/plain": [
              "False"
            ]
          },
          "metadata": {},
          "execution_count": 9
        }
      ]
    },
    {
      "cell_type": "markdown",
      "source": [
        "# **Exercise 5**"
      ],
      "metadata": {
        "id": "epwMZTGQUIrw"
      }
    },
    {
      "cell_type": "code",
      "source": [
        "# List of banned users\n",
        "banned_users = ['andrew', 'carolina', 'david']\n",
        "\n",
        "# Check whether marie, 007 and andrew is in the banned user list\n",
        "#user = 'marie'\n",
        "user = 7\n",
        "if user not in banned_users:\n",
        "    print(str(user) + \", you can post a response if you wish\")\n",
        "\n",
        "#user = 'andrew'\n"
      ],
      "metadata": {
        "id": "RWb1iy4I-eFb",
        "colab": {
          "base_uri": "https://localhost:8080/"
        },
        "outputId": "caf608af-6c96-4f90-94e0-bcd332b7886c"
      },
      "execution_count": 10,
      "outputs": [
        {
          "output_type": "stream",
          "name": "stdout",
          "text": [
            "7, you can post a response if you wish\n"
          ]
        }
      ]
    },
    {
      "cell_type": "code",
      "source": [
        "# Try it yourself\n",
        "# Try making sense of it\n",
        "car = 'subaru'\n",
        "print(\"Is car == 'subaru'? I predict True.\")\n",
        "print(car == \"subaru\") # this is a logical comparison; not printing string\n",
        "\n",
        "print(\"\\nIs car == 'audi'? I predict False\")\n",
        "print(car == 'audi') # this is a logical comparison; not printing string"
      ],
      "metadata": {
        "id": "Usq-CnrjCi71",
        "colab": {
          "base_uri": "https://localhost:8080/"
        },
        "outputId": "d1275237-e913-4de7-8316-b9967980c745"
      },
      "execution_count": 11,
      "outputs": [
        {
          "output_type": "stream",
          "name": "stdout",
          "text": [
            "Is car == 'subaru'? I predict True.\n",
            "True\n",
            "\n",
            "Is car == 'audi'? I predict False\n",
            "False\n"
          ]
        }
      ]
    },
    {
      "cell_type": "code",
      "source": [
        "# If statement\n",
        "age = 18\n",
        "\n",
        "if age >= 18:\n",
        "    print(\"You are old enough to vote!\")\n",
        "    print(\"Have you registered to vote yet?\")\n",
        "    print(\"Oh ya, tak yah register pun\")\n",
        "else:\n",
        "    print(\"Too bad...You would have to wait for GE17\")\n"
      ],
      "metadata": {
        "id": "BN5LXsVWDN_b",
        "colab": {
          "base_uri": "https://localhost:8080/"
        },
        "outputId": "d60da41c-e663-41a8-91d5-f26301c4953a"
      },
      "execution_count": 12,
      "outputs": [
        {
          "output_type": "stream",
          "name": "stdout",
          "text": [
            "You are old enough to vote!\n",
            "Have you registered to vote yet?\n",
            "Oh ya, tak yah register pun\n"
          ]
        }
      ]
    },
    {
      "cell_type": "code",
      "source": [
        "# Given the if-elif-else statement\n",
        "age = 55\n",
        "if age < 4:\n",
        "    print(\"Your admission rate is RM0.\")\n",
        "elif age < 18:\n",
        "    print(\"Your admission rate is RM5.\")\n",
        "else:\n",
        "    print(\"Your admission rate is RM10.\")"
      ],
      "metadata": {
        "colab": {
          "base_uri": "https://localhost:8080/"
        },
        "id": "5lNf9lMgEO4H",
        "outputId": "d9db0a6a-8fa2-49d0-d105-456b9177aee4"
      },
      "execution_count": 13,
      "outputs": [
        {
          "output_type": "stream",
          "name": "stdout",
          "text": [
            "Your admission rate is RM10.\n"
          ]
        }
      ]
    },
    {
      "cell_type": "markdown",
      "source": [
        "# **Exercise 6**"
      ],
      "metadata": {
        "id": "-bz66pJgUDW9"
      }
    },
    {
      "cell_type": "code",
      "source": [
        "# Revising the previous code for a cleaner version\n",
        "user = 'andrew'\n",
        "age = 67\n",
        "\n",
        "if age < 4:\n",
        "    rate = 0\n",
        "elif age < 18:\n",
        "    rate = 5\n",
        "elif age < 65:\n",
        "    rate = 10\n",
        "else:\n",
        "    rate = 5\n",
        "\n",
        "print(\"Your admission rate is RM\" + str(rate) + \", \" + user.title() + \".\")"
      ],
      "metadata": {
        "id": "litAhuvSGR6l",
        "colab": {
          "base_uri": "https://localhost:8080/"
        },
        "outputId": "561768d2-cb25-46df-896a-1ec592b19e5e"
      },
      "execution_count": 14,
      "outputs": [
        {
          "output_type": "stream",
          "name": "stdout",
          "text": [
            "Your admission rate is RM5, Andrew.\n"
          ]
        }
      ]
    },
    {
      "cell_type": "markdown",
      "source": [
        "# **Exercise 7**"
      ],
      "metadata": {
        "id": "s2mmUpXYT_vI"
      }
    },
    {
      "cell_type": "code",
      "source": [
        "# End the code using elif for easier interpretation\n",
        "age = 67\n",
        "\n",
        "if age < 4:\n",
        "    rate = 0\n",
        "elif age < 18:\n",
        "    rate = 5\n",
        "elif age < 65:\n",
        "    rate = 10\n",
        "elif age >= 65:\n",
        "    rate = 5\n",
        "\n",
        "print(\"Your admission rate is RM\" + str(rate) + \", \" + user.title() + \".\")"
      ],
      "metadata": {
        "id": "T6AvirgKHEWz",
        "colab": {
          "base_uri": "https://localhost:8080/"
        },
        "outputId": "bef39f42-9a06-464b-d541-96de115cc679"
      },
      "execution_count": 15,
      "outputs": [
        {
          "output_type": "stream",
          "name": "stdout",
          "text": [
            "Your admission rate is RM5, Andrew.\n"
          ]
        }
      ]
    },
    {
      "cell_type": "markdown",
      "source": [
        "# **Exercise 8**"
      ],
      "metadata": {
        "id": "WR3g_pXNT8B8"
      }
    },
    {
      "cell_type": "code",
      "source": [
        "# Multiple if\n",
        "requested_topping = ['mushrooms', 'extra cheese']\n",
        "\n",
        "if 'mushrooms' in requested_topping:\n",
        "    print(\"Adding mushrooms\")\n",
        "if 'pepperoni' in requested_topping:\n",
        "    print(\"Adding pepperoni\")\n",
        "if 'extra cheese' in requested_topping:\n",
        "    print(\"Adding extra cheese\")\n",
        "\n",
        "print(\"\\nFinished making your pizza!!!!\")"
      ],
      "metadata": {
        "id": "FUPOtDHjXZAr",
        "colab": {
          "base_uri": "https://localhost:8080/"
        },
        "outputId": "a269e241-2253-4f28-b48a-b881957a8dcc"
      },
      "execution_count": 16,
      "outputs": [
        {
          "output_type": "stream",
          "name": "stdout",
          "text": [
            "Adding mushrooms\n",
            "Adding extra cheese\n",
            "\n",
            "Finished making your pizza!!!!\n"
          ]
        }
      ]
    },
    {
      "cell_type": "markdown",
      "source": [
        "# **Exercise 9**"
      ],
      "metadata": {
        "id": "YiE2aYn7T4eU"
      }
    },
    {
      "cell_type": "code",
      "source": [
        "# To check for special conditions / items\n",
        "requested_toppings = ['mushrooms', 'extra cheese', 'green peppers']\n",
        "\n",
        "for requested_topping in requested_toppings:\n",
        "    if requested_topping == 'green peppers':\n",
        "        print(\"Sorry, we are out of green peppers right now!!\")\n",
        "    else:\n",
        "        print(\"Adding \" + requested_topping + \".\")\n",
        "\n",
        "print(\"\\nFinished making your pizza!\")"
      ],
      "metadata": {
        "id": "sy9baNJxYusX",
        "colab": {
          "base_uri": "https://localhost:8080/"
        },
        "outputId": "45a7b552-aed6-4302-98e6-494242f12b93"
      },
      "execution_count": 17,
      "outputs": [
        {
          "output_type": "stream",
          "name": "stdout",
          "text": [
            "Adding mushrooms.\n",
            "Adding extra cheese.\n",
            "Sorry, we are out of green peppers right now!!\n",
            "\n",
            "Finished making your pizza!\n"
          ]
        }
      ]
    },
    {
      "cell_type": "markdown",
      "source": [
        "# **Exercise 10**"
      ],
      "metadata": {
        "id": "avXGkEJWT0_b"
      }
    },
    {
      "cell_type": "code",
      "source": [
        "# Checking for a list that is empty\n",
        "# Indentation is very important !!!!\n",
        "requested_toppings = []\n",
        "\n",
        "if requested_toppings:\n",
        "    for requested_topping in requested_toppings:\n",
        "        print(\"Adding \" + requested_topping + \".\")\n",
        "        print(\"\\nFinished making your pizza!!\")\n",
        "else:\n",
        "    print(\"Are you sure you want to make a plain pizza\")"
      ],
      "metadata": {
        "id": "s_0W3DsnUq02",
        "colab": {
          "base_uri": "https://localhost:8080/"
        },
        "outputId": "d0bc2779-e149-4579-f00e-96b5eb9e310a"
      },
      "execution_count": 18,
      "outputs": [
        {
          "output_type": "stream",
          "name": "stdout",
          "text": [
            "Are you sure you want to make a plain pizza\n"
          ]
        }
      ]
    },
    {
      "cell_type": "markdown",
      "source": [
        "# **Exercise 11**"
      ],
      "metadata": {
        "id": "WXUw0roGTxY-"
      }
    },
    {
      "cell_type": "code",
      "source": [
        "# Using multiple lists\n",
        "available_toppings = ['mushrooms', 'olives', 'green peppers', 'pepperoni',\n",
        "                      'pineapple', 'extra cheese']\n",
        "requested_toppings = ['mushrooms', 'french fries', 'extra cheese', 'crab meat']\n",
        "\n",
        "for requested_topping in requested_toppings:\n",
        "    if requested_topping in available_toppings:\n",
        "        print(\"Adding \" + requested_topping + \".\")\n",
        "    else:\n",
        "        print(\"Sorry, we don't have \" + requested_topping + \".\")\n",
        "\n",
        "print(\"\\nFinished making your pizza!\")"
      ],
      "metadata": {
        "id": "j4EyZ_3KhSAR",
        "colab": {
          "base_uri": "https://localhost:8080/"
        },
        "outputId": "5201dff4-7f9f-4a6f-cb81-efd67ac76dca"
      },
      "execution_count": 19,
      "outputs": [
        {
          "output_type": "stream",
          "name": "stdout",
          "text": [
            "Adding mushrooms.\n",
            "Sorry, we don't have french fries.\n",
            "Adding extra cheese.\n",
            "Sorry, we don't have crab meat.\n",
            "\n",
            "Finished making your pizza!\n"
          ]
        }
      ]
    },
    {
      "cell_type": "markdown",
      "source": [
        "# **Part Two: Python Dictionaries**"
      ],
      "metadata": {
        "id": "LwCxaZakdO4-"
      }
    },
    {
      "cell_type": "markdown",
      "source": [
        "# **Exercise 12**"
      ],
      "metadata": {
        "id": "nd334U9KTtUm"
      }
    },
    {
      "cell_type": "code",
      "source": [
        "# Accessing the value using the key in dictionary\n",
        "alien_0 = {'color': 'green', 'points':5}\n",
        "\n",
        "# get the alien's color\n",
        "print(alien_0['color'])\n",
        "\n",
        "# get the alien's point\n",
        "print(alien_0['points'])"
      ],
      "metadata": {
        "id": "DmUQQo0li7bg",
        "colab": {
          "base_uri": "https://localhost:8080/"
        },
        "outputId": "a0d4db97-1fbe-44b2-ac46-4d77ba6ac73d"
      },
      "execution_count": 20,
      "outputs": [
        {
          "output_type": "stream",
          "name": "stdout",
          "text": [
            "green\n",
            "5\n"
          ]
        }
      ]
    },
    {
      "cell_type": "code",
      "source": [
        "# getting back this alien_0 dictionary\n",
        "alien_0"
      ],
      "metadata": {
        "colab": {
          "base_uri": "https://localhost:8080/"
        },
        "id": "tOk-Ye82eYWM",
        "outputId": "c0214a99-a201-4abe-8af9-43d90181c4a2"
      },
      "execution_count": 21,
      "outputs": [
        {
          "output_type": "execute_result",
          "data": {
            "text/plain": [
              "{'color': 'green', 'points': 5}"
            ]
          },
          "metadata": {},
          "execution_count": 21
        }
      ]
    },
    {
      "cell_type": "markdown",
      "source": [
        "# **Building python dictionary from scratch**"
      ],
      "metadata": {
        "id": "PZu5EKzITjbB"
      }
    },
    {
      "cell_type": "code",
      "source": [
        "# Start building the alien_0 dictionary from scratch\n",
        "alien_0 = {}\n",
        "alien_0['color'] = 'green'\n",
        "alien_0['points'] = 5\n",
        "\n",
        "print(alien_0)"
      ],
      "metadata": {
        "id": "w1jfQOdDayLN",
        "colab": {
          "base_uri": "https://localhost:8080/"
        },
        "outputId": "e37c01af-8469-48d7-84c8-bea72da5a0da"
      },
      "execution_count": 22,
      "outputs": [
        {
          "output_type": "stream",
          "name": "stdout",
          "text": [
            "{'color': 'green', 'points': 5}\n"
          ]
        }
      ]
    },
    {
      "cell_type": "code",
      "source": [
        "alien_0"
      ],
      "metadata": {
        "colab": {
          "base_uri": "https://localhost:8080/"
        },
        "id": "emud4BEneaVW",
        "outputId": "bea67c0c-b2da-47a2-edb2-5beeeb41329f"
      },
      "execution_count": 23,
      "outputs": [
        {
          "output_type": "execute_result",
          "data": {
            "text/plain": [
              "{'color': 'green', 'points': 5}"
            ]
          },
          "metadata": {},
          "execution_count": 23
        }
      ]
    },
    {
      "cell_type": "markdown",
      "source": [
        "# **Exercise 13**"
      ],
      "metadata": {
        "id": "UsLUAL3PTc9Q"
      }
    },
    {
      "cell_type": "code",
      "source": [
        "# Extract the value from the dictionary\n",
        "# put in a variable called new_points\n",
        "# Print out the value\n",
        "alien_0 = {'color': 'green', 'points':5}\n",
        "\n",
        "# First extract the point from the dictionary\n",
        "new_points = alien_0['points']\n",
        "\n",
        "# Printing the message\n",
        "print(\"You have just earned \" + str(new_points) + \" points.\")\n"
      ],
      "metadata": {
        "id": "Dg5C29oafPu5",
        "colab": {
          "base_uri": "https://localhost:8080/"
        },
        "outputId": "75a27b10-2d02-482c-9107-a8d7b82909fd"
      },
      "execution_count": 24,
      "outputs": [
        {
          "output_type": "stream",
          "name": "stdout",
          "text": [
            "You have just earned 5 points.\n"
          ]
        }
      ]
    },
    {
      "cell_type": "markdown",
      "source": [
        "# **Exercise 14**"
      ],
      "metadata": {
        "id": "uyA6rQgjTZbO"
      }
    },
    {
      "cell_type": "code",
      "source": [
        "# Change the color value in the dictionary\n",
        "alien_0['color'] = 'Indigo'\n",
        "\n",
        "# Print out the new color\n",
        "print(\"The alien is now \" + alien_0['color'] + \".\")"
      ],
      "metadata": {
        "id": "aqLdYAec4UJi",
        "colab": {
          "base_uri": "https://localhost:8080/"
        },
        "outputId": "6baf2e37-b083-4803-90fb-4f43dd11db1b"
      },
      "execution_count": 25,
      "outputs": [
        {
          "output_type": "stream",
          "name": "stdout",
          "text": [
            "The alien is now Indigo.\n"
          ]
        }
      ]
    },
    {
      "cell_type": "markdown",
      "source": [
        "# **Exercise 15**"
      ],
      "metadata": {
        "id": "61-MOIXYTN_S"
      }
    },
    {
      "cell_type": "code",
      "source": [
        "# Change the value in the dictionary; using if-elif-else statement\n",
        "alien_0 = {'x_position': 0, 'y_position': 25, 'speed': 'fast'}\n",
        "\n",
        "# Move the alien to the right.\n",
        "# Determine how far to move the alien based on its current speed.\n",
        "if alien_0['speed'] == 'slow':\n",
        "    x_increment = 1\n",
        "elif alien_0['speed'] == 'medium':\n",
        "    x_increment = 2\n",
        "elif alien_0['speed'] == 'fast':\n",
        "    x_increment = 3\n",
        "\n",
        "# The new position is the old position plus the increment.\n",
        "alien_0['x_position'] = alien_0['x_position'] + x_increment\n",
        "\n",
        "print(\"New x-positio: \" + str(alien_0['x_position']))\n",
        "\n",
        "alien_0"
      ],
      "metadata": {
        "id": "vfDw_r_L5jPz",
        "colab": {
          "base_uri": "https://localhost:8080/"
        },
        "outputId": "92ec63be-0e58-4af2-885f-572326111fb3"
      },
      "execution_count": 26,
      "outputs": [
        {
          "output_type": "stream",
          "name": "stdout",
          "text": [
            "New x-positio: 3\n"
          ]
        },
        {
          "output_type": "execute_result",
          "data": {
            "text/plain": [
              "{'x_position': 3, 'y_position': 25, 'speed': 'fast'}"
            ]
          },
          "metadata": {},
          "execution_count": 26
        }
      ]
    },
    {
      "cell_type": "markdown",
      "source": [
        "# **Exercise 16**"
      ],
      "metadata": {
        "id": "1walOSVdSxSJ"
      }
    },
    {
      "cell_type": "code",
      "source": [
        "# Using del() function\n",
        "alien_0 = {'color': 'green', 'points': 5}\n",
        "print(alien_0)\n",
        "\n",
        "# Delete the points from the dictionary\n",
        "del alien_0['points']\n",
        "\n",
        "# Print alien_0\n",
        "print(alien_0)"
      ],
      "metadata": {
        "id": "efbBa0SB6hlj",
        "colab": {
          "base_uri": "https://localhost:8080/"
        },
        "outputId": "c839f32c-b2cc-4088-a990-7629e40a167e"
      },
      "execution_count": 27,
      "outputs": [
        {
          "output_type": "stream",
          "name": "stdout",
          "text": [
            "{'color': 'green', 'points': 5}\n",
            "{'color': 'green'}\n"
          ]
        }
      ]
    },
    {
      "cell_type": "markdown",
      "source": [
        "# **Exercise 17**"
      ],
      "metadata": {
        "id": "nGBOYQLQSpdp"
      }
    },
    {
      "cell_type": "code",
      "source": [
        "# Break dictionary into several lines\n",
        "fav_prog = {\n",
        "    'jen': 'python',\n",
        "    'sarah': 'c',\n",
        "    'edward': 'ruby',\n",
        "    'phil': 'python'\n",
        "}\n",
        "\n",
        "# Print message in several lines\n",
        "print(\"Phil's favorite language is \" +\n",
        "      fav_prog['phil'].title() +\n",
        "      '.')"
      ],
      "metadata": {
        "id": "KtsGcBJC8MBy",
        "colab": {
          "base_uri": "https://localhost:8080/"
        },
        "outputId": "b9ff31a7-2378-4107-fccb-0ffc1955ce51"
      },
      "execution_count": 28,
      "outputs": [
        {
          "output_type": "stream",
          "name": "stdout",
          "text": [
            "Phil's favorite language is Python.\n"
          ]
        }
      ]
    },
    {
      "cell_type": "markdown",
      "source": [
        "# **Exercise 18**"
      ],
      "metadata": {
        "id": "xFl4As2NSiYk"
      }
    },
    {
      "cell_type": "code",
      "source": [
        "# Print out the key-value pairs using item() function\n",
        "# Using the for function\n",
        "for name, sub in fav_prog.items():\n",
        "    print(name.title() +\n",
        "          \"'s fav language is \" +\n",
        "          sub.title() + \".\")"
      ],
      "metadata": {
        "colab": {
          "base_uri": "https://localhost:8080/"
        },
        "id": "piktzd1c9b7c",
        "outputId": "4700cd50-49b5-420e-fa33-828e5a5574dd"
      },
      "execution_count": 29,
      "outputs": [
        {
          "output_type": "stream",
          "name": "stdout",
          "text": [
            "Jen's fav language is Python.\n",
            "Sarah's fav language is C.\n",
            "Edward's fav language is Ruby.\n",
            "Phil's fav language is Python.\n"
          ]
        }
      ]
    },
    {
      "cell_type": "markdown",
      "source": [
        "# **Exercise 19**"
      ],
      "metadata": {
        "id": "F_FiZZhgSdpu"
      }
    },
    {
      "cell_type": "code",
      "source": [
        "# Print out the key-value pairs using key() function\n",
        "favorite_languages = {\n",
        "    'jen': 'python',\n",
        "    'sarah': 'c',\n",
        "    'edward': 'ruby',\n",
        "    'phil': 'python',\n",
        "    }\n",
        "\n",
        "# List of friends\n",
        "friends = ['phil', 'sarah']\n",
        "\n",
        "# Create a for loop\n",
        "for name in fav_prog.keys():\n",
        "    if name in friends:\n",
        "        print(\"Hi \" + name.title() +\n",
        "              \", your fav language is \" +\n",
        "              fav_prog[name].title() + \"!\")"
      ],
      "metadata": {
        "id": "HDxDyGRj_LLh",
        "colab": {
          "base_uri": "https://localhost:8080/"
        },
        "outputId": "051d3135-af0a-470a-c577-ef37f77becaf"
      },
      "execution_count": 30,
      "outputs": [
        {
          "output_type": "stream",
          "name": "stdout",
          "text": [
            "Hi Sarah, your fav language is C!\n",
            "Hi Phil, your fav language is Python!\n"
          ]
        }
      ]
    },
    {
      "cell_type": "markdown",
      "source": [
        "# **Exercise 20**"
      ],
      "metadata": {
        "id": "hRI7Gd6eSZCK"
      }
    },
    {
      "cell_type": "code",
      "source": [
        "# Print out the key-value pairs using not in function\n",
        "favorite_languages = {\n",
        "    'jen': 'python',\n",
        "    'sarah': 'c',\n",
        "    'edward': 'ruby',\n",
        "    'phil': 'python',\n",
        "    }\n",
        "\n",
        "# Create an if condition\n",
        "if 'bernard' not in fav_prog.keys():\n",
        "    print(\"Bernard, please study hard!!!\")"
      ],
      "metadata": {
        "id": "2SnKUKMEAA8t",
        "colab": {
          "base_uri": "https://localhost:8080/"
        },
        "outputId": "25c0530a-94a0-4996-d54e-8b1a0a832751"
      },
      "execution_count": 31,
      "outputs": [
        {
          "output_type": "stream",
          "name": "stdout",
          "text": [
            "Bernard, please study hard!!!\n"
          ]
        }
      ]
    },
    {
      "cell_type": "markdown",
      "source": [
        "# **Exercise 21**: Sort *keys* in order"
      ],
      "metadata": {
        "id": "IlgZxH7rSBpb"
      }
    },
    {
      "cell_type": "code",
      "source": [
        "# Given the following fav prog dictionary\n",
        "favorite_languages = {\n",
        "    'jen': 'python',\n",
        "    'sarah': 'c',\n",
        "    'edward': 'ruby',\n",
        "    'phil': 'python',\n",
        "    }\n",
        "\n",
        "# Create a for loop in this case\n",
        "# Use the sorted() to sort the keys names in alphabetical order\n",
        "# Print out the message thanking them to take the poll\n"
      ],
      "metadata": {
        "id": "6QBXlZM1Axk4",
        "colab": {
          "base_uri": "https://localhost:8080/"
        },
        "outputId": "88ebe6f9-f754-4fa5-a070-ec8eed8ddf5e"
      },
      "execution_count": 40,
      "outputs": [
        {
          "output_type": "stream",
          "name": "stdout",
          "text": [
            "Edward, thank you for taking the poll.\n",
            "Jen, thank you for taking the poll.\n",
            "Phil, thank you for taking the poll.\n",
            "Sarah, thank you for taking the poll.\n"
          ]
        }
      ]
    },
    {
      "cell_type": "markdown",
      "source": [
        "# **Exercise 22**: Sort *values* in order"
      ],
      "metadata": {
        "id": "1iJ5yU3tSTKc"
      }
    },
    {
      "cell_type": "code",
      "source": [
        "# Given the following fav language dictionary\n",
        "favorite_languages = {\n",
        "    'jen': 'python',\n",
        "    'sarah': 'c',\n",
        "    'edward': 'ruby',\n",
        "    'phil': 'python',\n",
        "    }\n",
        "\n",
        "# Print a introductory message\n",
        "\n",
        "\n",
        "# Create a for loop to print a message\n",
        "# Use sorted() function to sort the values in reverse alphabetical order\n",
        "# Use set() function to remove redundant values\n"
      ],
      "metadata": {
        "id": "CGqvlY1-BQ55",
        "colab": {
          "base_uri": "https://localhost:8080/"
        },
        "outputId": "ef464166-fdc4-408e-fd4c-fac33cc963a4"
      },
      "execution_count": 37,
      "outputs": [
        {
          "output_type": "stream",
          "name": "stdout",
          "text": [
            "The following languages have been mentioned:\n",
            "Ruby\n",
            "Python\n",
            "C\n"
          ]
        }
      ]
    },
    {
      "cell_type": "markdown",
      "source": [
        "# **Exercise 23**: Append new data into dictionary using function"
      ],
      "metadata": {
        "id": "A3Q_CL2QVN9y"
      }
    },
    {
      "cell_type": "code",
      "source": [
        "# Make an empty list for storing aliens.\n",
        "aliens = []\n",
        "\n",
        "# Create a for loop to make 30 green aliens\n",
        "# Store in a variable named new_alien\n",
        "# Using the append() function\n",
        "\n",
        "# Create a for loop and if-elif statement\n",
        "\n",
        "# Show first 5 aliens using a for loop\n",
        "\n",
        "# Show how many aliens have been created using the len() function\n"
      ],
      "metadata": {
        "id": "CrP6r-jvBzht",
        "colab": {
          "base_uri": "https://localhost:8080/"
        },
        "outputId": "964f21e0-6270-4279-c013-22c26f3853ef"
      },
      "execution_count": 36,
      "outputs": [
        {
          "output_type": "stream",
          "name": "stdout",
          "text": [
            "{'color': 'yellow', 'points': 10, 'speed': 'medium'}\n",
            "{'color': 'yellow', 'points': 10, 'speed': 'medium'}\n",
            "{'color': 'yellow', 'points': 10, 'speed': 'medium'}\n",
            "{'color': 'green', 'points': 5, 'speed': 'slow'}\n",
            "{'color': 'green', 'points': 5, 'speed': 'slow'}\n",
            "...\n",
            "Total number of aliens: 30\n"
          ]
        }
      ]
    },
    {
      "cell_type": "markdown",
      "source": [
        "# **Exercise 24**: A list in the dictionary"
      ],
      "metadata": {
        "id": "ue_3znVNWnQJ"
      }
    },
    {
      "cell_type": "code",
      "source": [
        "# Store information about a pizza being ordered\n",
        "# As a list in a dictionary\n",
        "pizza = {\n",
        "    'crust': 'thick',\n",
        "    'toppings': ['mushrooms', 'extra cheese'],\n",
        "    }\n",
        "\n",
        "# Summarize the order\n",
        "# By having the following message printed out\n",
        "# Use print() and a for loop\n"
      ],
      "metadata": {
        "id": "iA-z9NxRDixp",
        "colab": {
          "base_uri": "https://localhost:8080/"
        },
        "outputId": "0dc59450-b965-494b-dac7-20da23075ab2"
      },
      "execution_count": 35,
      "outputs": [
        {
          "output_type": "stream",
          "name": "stdout",
          "text": [
            "You ordered a thick-crust pizza with the following toppings:\n",
            "\tmushrooms\n",
            "\textra cheese\n"
          ]
        }
      ]
    },
    {
      "cell_type": "markdown",
      "source": [
        "# **Exercise 25**: lists in the dictionary"
      ],
      "metadata": {
        "id": "v-ItL0_RaZ0r"
      }
    },
    {
      "cell_type": "code",
      "source": [
        "# Given the following fav prog dictionary\n",
        "favorite_languages = {\n",
        "    'jen': ['python', 'ruby'],\n",
        "    'sarah': ['c'],\n",
        "    'edward': ['ruby', 'go'],\n",
        "    'phil': ['python', 'haskell'],\n",
        "    }\n",
        "\n",
        "# Create two for loops to print a message\n",
        "# Use items() function to access the key-value pair in dictionary\n",
        "# Use the keyword in\n"
      ],
      "metadata": {
        "id": "q0MODSGDFsgU",
        "colab": {
          "base_uri": "https://localhost:8080/"
        },
        "outputId": "a1a2a7fa-b87c-4783-e514-fa15d0fca2d0"
      },
      "execution_count": 43,
      "outputs": [
        {
          "output_type": "stream",
          "name": "stdout",
          "text": [
            "\n",
            "Jen's favorite languages are:\n",
            "\tPython\n",
            "\tRuby\n",
            "\n",
            "Sarah's favorite languages are:\n",
            "\tC\n",
            "\n",
            "Edward's favorite languages are:\n",
            "\tRuby\n",
            "\tGo\n",
            "\n",
            "Phil's favorite languages are:\n",
            "\tPython\n",
            "\tHaskell\n"
          ]
        }
      ]
    },
    {
      "cell_type": "markdown",
      "source": [
        "# **Exercise 26**: A dictionary in a dictionary"
      ],
      "metadata": {
        "id": "gHfQepU_bsYG"
      }
    },
    {
      "cell_type": "code",
      "source": [
        "# Given the following famous scientists dictionary\n",
        "users = {\n",
        "    'aeinstein': {\n",
        "        'first': 'albert',\n",
        "        'last': 'einstein',\n",
        "        'location': 'princeton',\n",
        "        },\n",
        "    'mcurie': {\n",
        "        'first': 'marie',\n",
        "        'last': 'curie',\n",
        "        'location': 'paris',\n",
        "        },\n",
        "    }\n",
        "\n",
        "# Create a for loop to print the message\n",
        "# Use the items() function to access the key-value pairs in the dictionary\n"
      ],
      "metadata": {
        "id": "wWibIDl0Gw2O",
        "colab": {
          "base_uri": "https://localhost:8080/"
        },
        "outputId": "97b2257d-a694-4648-8cf0-5317df18d011"
      },
      "execution_count": 44,
      "outputs": [
        {
          "output_type": "stream",
          "name": "stdout",
          "text": [
            "\n",
            "Username: aeinstein\n",
            "\tFull name: Albert Einstein\n",
            "\tLocation: Princeton\n",
            "\n",
            "Username: mcurie\n",
            "\tFull name: Marie Curie\n",
            "\tLocation: Paris\n"
          ]
        }
      ]
    },
    {
      "cell_type": "markdown",
      "source": [
        "# **Part Three: User input and While Loops**"
      ],
      "metadata": {
        "id": "xb9bSsHUc62Y"
      }
    },
    {
      "cell_type": "markdown",
      "source": [
        "# **Exercise 27: Using the *input()* function**"
      ],
      "metadata": {
        "id": "JhNFPtdqbvp_"
      }
    },
    {
      "cell_type": "code",
      "source": [
        "# Use the input() function to get a response from user\n",
        "# Print out the message\n",
        "message = input(\"Tell me something, and I will repeat it back to you: \")\n",
        "print(message)\n",
        "\n",
        "# Use the input() function to get user's name\n",
        "# print out the message\n",
        "\n",
        "# Use the input() function to get user's first name\n",
        "# print out the message\n"
      ],
      "metadata": {
        "id": "xY2CS0_CIEqr",
        "colab": {
          "base_uri": "https://localhost:8080/"
        },
        "outputId": "98622366-b3cb-4bec-e852-752562bc3644"
      },
      "execution_count": 49,
      "outputs": [
        {
          "output_type": "stream",
          "name": "stdout",
          "text": [
            "Tell me something, and I will repeat it back to you: Nice meeting you all again :)\n",
            "Nice meeting you all again :)\n",
            "\n",
            "Please enter your name: Bernard\n",
            "Hello, Bernard!\n",
            "\n",
            "If you tell us who you are, we can personalize the messages you see.\n",
            "What is your first name? Lee\n",
            "Hello, Lee!\n"
          ]
        }
      ]
    },
    {
      "cell_type": "markdown",
      "source": [
        "# **Exercise 28**: using int() to accept numerical input - True of False"
      ],
      "metadata": {
        "id": "xQ1klxbjbzQL"
      }
    },
    {
      "cell_type": "code",
      "source": [
        "# Using the input() to get the age of users\n",
        "# Test the input prompt for age by inputting the following info\n",
        "# 1) 18\n",
        "# 2) Eighteen\n",
        "age = input(\"How old are you? \")\n",
        "\n",
        "# Logical test\n",
        "# Would prompt an error\n",
        "\n",
        "# How to fix it?\n"
      ],
      "metadata": {
        "id": "uWq2dvg3JR6c",
        "colab": {
          "base_uri": "https://localhost:8080/"
        },
        "outputId": "830b2c69-242f-4229-d215-a7f6cbd0be28"
      },
      "execution_count": 61,
      "outputs": [
        {
          "name": "stdout",
          "output_type": "stream",
          "text": [
            "How old are you? 18\n"
          ]
        },
        {
          "output_type": "execute_result",
          "data": {
            "text/plain": [
              "True"
            ]
          },
          "metadata": {},
          "execution_count": 61
        }
      ]
    },
    {
      "cell_type": "markdown",
      "source": [
        "# **Exercise 29**: using int() to accept numerical input and check for certain condition"
      ],
      "metadata": {
        "id": "6BmHhMgeb1Ms"
      }
    },
    {
      "cell_type": "code",
      "source": [
        "# Create an input() function to get the height in cm from users\n",
        "# Use the int() to convert the height to numeric\n",
        "\n",
        "\n",
        "# Checking for condition using if-else statement\n",
        "# Print the following message\n"
      ],
      "metadata": {
        "id": "XR0IMpnzK7Ne",
        "colab": {
          "base_uri": "https://localhost:8080/"
        },
        "outputId": "8eb0b4dd-98fd-47ff-b21e-7870c02a0a7c"
      },
      "execution_count": 67,
      "outputs": [
        {
          "output_type": "stream",
          "name": "stdout",
          "text": [
            "How tall are you, in cm? 89\n",
            "\n",
            "You'll be able to ride when you're a little older.\n"
          ]
        }
      ]
    },
    {
      "cell_type": "markdown",
      "source": [
        "# **Exercise 30**: The modulo operator to print message"
      ],
      "metadata": {
        "id": "aWVOcZBFb34h"
      }
    },
    {
      "cell_type": "code",
      "source": [
        "# Use the input() and int() function to get a number from user\n",
        "\n",
        "\n",
        "# Create an if-else statement to check whether the number given is an odd or even number\n",
        "# Use the modulo sign to check for odd and even condition\n"
      ],
      "metadata": {
        "id": "x9OlZPDYL2ne",
        "colab": {
          "base_uri": "https://localhost:8080/"
        },
        "outputId": "fccfff4c-a3cd-41ea-daef-f9db4395340b"
      },
      "execution_count": 72,
      "outputs": [
        {
          "output_type": "stream",
          "name": "stdout",
          "text": [
            "Enter a number, and I'll tell you if it's even or odd: 77\n",
            "\n",
            "The number 77 is odd.\n"
          ]
        }
      ]
    },
    {
      "cell_type": "markdown",
      "source": [
        "# **Exercise 31**: While loop"
      ],
      "metadata": {
        "id": "k7JFxvBPkezR"
      }
    },
    {
      "cell_type": "code",
      "source": [
        "# Define the current_number as 1\n",
        "\n",
        "# Use the while loop to increase the number\n",
        "# Print out the incremented number\n"
      ],
      "metadata": {
        "colab": {
          "base_uri": "https://localhost:8080/"
        },
        "id": "98Frgf-3km3G",
        "outputId": "22c88a34-6fed-4776-dc82-ddc00b16dbe6"
      },
      "execution_count": 73,
      "outputs": [
        {
          "output_type": "stream",
          "name": "stdout",
          "text": [
            "1\n",
            "2\n",
            "3\n",
            "4\n",
            "5\n"
          ]
        }
      ]
    },
    {
      "cell_type": "markdown",
      "source": [
        "# **Exercise 32**: let user choose when to quit"
      ],
      "metadata": {
        "id": "UHPGhBCIlH7v"
      }
    },
    {
      "cell_type": "code",
      "source": [
        "# Create a prompt message\n",
        "\n",
        "# Define an empty message\n",
        "\n",
        "# Create a while loop to continuously getting response from users\n",
        "# Quit the while loop if user input 'quit'\n"
      ],
      "metadata": {
        "colab": {
          "base_uri": "https://localhost:8080/"
        },
        "id": "HXLCeJTDlPSj",
        "outputId": "bda50442-d426-4132-8a43-f067ac1a2319"
      },
      "execution_count": 76,
      "outputs": [
        {
          "output_type": "stream",
          "name": "stdout",
          "text": [
            "\n",
            "Tell me something, and I will repeat it back to you:\n",
            "Enter 'quit' to end the program. I'm happy\n",
            "\n",
            "Tell me something, and I will repeat it back to you:\n",
            "Enter 'quit' to end the program. I'm super duper happy\n",
            "\n",
            "Tell me something, and I will repeat it back to you:\n",
            "Enter 'quit' to end the program. quit\n",
            "quit\n"
          ]
        }
      ]
    },
    {
      "cell_type": "markdown",
      "source": [
        "# **Excersie 33**: Using a flag as a signal"
      ],
      "metadata": {
        "id": "oBkf09xRmGRs"
      }
    },
    {
      "cell_type": "code",
      "source": [
        "# Create a prompt message\n",
        "prompt = \"\\nTell me something, and I will repeat it back to you:\"\n",
        "prompt += \"\\nEnter 'quit' to end the program. \"\n",
        "\n",
        "# Define a flag\n",
        "\n",
        "# Incorporate the flag in the while loop\n"
      ],
      "metadata": {
        "colab": {
          "base_uri": "https://localhost:8080/"
        },
        "id": "8gsuYxCfmPYO",
        "outputId": "f662f5f1-84a1-4076-8fef-0f7aad60c64d"
      },
      "execution_count": 77,
      "outputs": [
        {
          "name": "stdout",
          "output_type": "stream",
          "text": [
            "\n",
            "Tell me something, and I will repeat it back to you:\n",
            "Enter 'quit' to end the program. I'm super very happy\n",
            "I'm super very happy\n",
            "\n",
            "Tell me something, and I will repeat it back to you:\n",
            "Enter 'quit' to end the program. I like to drink coffee\n",
            "I like to drink coffee\n",
            "\n",
            "Tell me something, and I will repeat it back to you:\n",
            "Enter 'quit' to end the program. quit\n"
          ]
        }
      ]
    },
    {
      "cell_type": "markdown",
      "source": [
        "# **Exercise 34**: Using break to exit loop"
      ],
      "metadata": {
        "id": "Z-XGYNMMm4rp"
      }
    },
    {
      "cell_type": "code",
      "source": [
        "# Create a prompt message\n",
        "prompt = \"\\nPlease enter the name of a city you have visited:\"\n",
        "prompt += \"\\n(Enter 'quit' when you are finished.) \"\n",
        "\n",
        "# Create a while loop and incorporate a flag\n",
        "# Print the message\n"
      ],
      "metadata": {
        "colab": {
          "base_uri": "https://localhost:8080/"
        },
        "id": "XOMg9HPTm_Ke",
        "outputId": "6cd80d94-1c1b-4710-ba1f-1dda32321c5d"
      },
      "execution_count": 79,
      "outputs": [
        {
          "name": "stdout",
          "output_type": "stream",
          "text": [
            "\n",
            "Please enter the name of a city you have visited:\n",
            "(Enter 'quit' when you are finished.) Bangi\n",
            "I'd love to go to Bangi!\n",
            "\n",
            "Please enter the name of a city you have visited:\n",
            "(Enter 'quit' when you are finished.) Denver\n",
            "I'd love to go to Denver!\n",
            "\n",
            "Please enter the name of a city you have visited:\n",
            "(Enter 'quit' when you are finished.) quit\n"
          ]
        }
      ]
    },
    {
      "cell_type": "markdown",
      "source": [
        "# **Exerce 35**: Using continue in a loop"
      ],
      "metadata": {
        "id": "8r7nqJJWn88Q"
      }
    },
    {
      "cell_type": "code",
      "source": [
        "# Define current_number as 0\n",
        "\n",
        "# Create a while loop to update current_number plus 1\n",
        "# Continue the while loop without increment if it is an even number\n",
        "# Use the modulo sign in this case\n",
        "# Print out the message\n"
      ],
      "metadata": {
        "colab": {
          "base_uri": "https://localhost:8080/"
        },
        "id": "copVIKTDoDOX",
        "outputId": "55612bb4-c6c5-4884-a271-064cbe1535b7"
      },
      "execution_count": 81,
      "outputs": [
        {
          "output_type": "stream",
          "name": "stdout",
          "text": [
            "1\n",
            "3\n",
            "5\n",
            "7\n",
            "9\n"
          ]
        }
      ]
    },
    {
      "cell_type": "markdown",
      "source": [
        "# **Exercise 36**: Using pop() function to move Items"
      ],
      "metadata": {
        "id": "XKU12bimo7ze"
      }
    },
    {
      "cell_type": "code",
      "source": [
        "# Start with users that need to be verified - unconfirmed_users\n",
        "# Creaye an empty list to hold confirmed users\n",
        "unconfirmed_users = ['alice', 'brian', 'candace']\n",
        "confirmed_users = []\n",
        "\n",
        "# Verify each user until there are no more unconfirmed users\n",
        "# Move each verified user into the list of confirmed users\n",
        "# By using the while loop\n",
        "# Incorporate the pop() and append() function\n",
        "\n",
        "# Display all confirmed users\n",
        "# Incorporate for loop in this case\n",
        "\n",
        "# Print the final unconfirmed_users list\n"
      ],
      "metadata": {
        "colab": {
          "base_uri": "https://localhost:8080/"
        },
        "id": "Q4fYExqHpFnb",
        "outputId": "9e454d59-7546-4f8c-a2ec-0ef494553433"
      },
      "execution_count": 89,
      "outputs": [
        {
          "output_type": "stream",
          "name": "stdout",
          "text": [
            "Verifying user: Candace\n",
            "Verifying user: Brian\n",
            "Verifying user: Alice\n",
            "\n",
            "The following users have been confirmed:\n",
            "Candace\n",
            "Brian\n",
            "Alice\n",
            "\n",
            "The Final unconfirmed users are:\n",
            "[]\n"
          ]
        }
      ]
    },
    {
      "cell_type": "markdown",
      "source": [
        "# **Exercise 37**: Removing All Instances of Specific Values from a List"
      ],
      "metadata": {
        "id": "5cau04pNpzEH"
      }
    },
    {
      "cell_type": "code",
      "source": [
        "# Given the list of pets\n",
        "pets = ['dog', 'cat', 'dog', 'goldfish', 'cat', 'rabbit', 'cat']\n",
        "\n",
        "# Print out the list of pets available\n",
        "\n",
        "\n",
        "# Use a while loop to remove a pet if it is in the list\n",
        "# Use the remove() function\n",
        "# print out the final list of pets\n"
      ],
      "metadata": {
        "colab": {
          "base_uri": "https://localhost:8080/"
        },
        "id": "oAcRXByeqtAW",
        "outputId": "abfa1099-5a39-48e4-9f98-f523734b6a8e"
      },
      "execution_count": 92,
      "outputs": [
        {
          "output_type": "stream",
          "name": "stdout",
          "text": [
            "['dog', 'cat', 'dog', 'goldfish', 'cat', 'rabbit', 'cat']\n",
            "['dog', 'dog', 'goldfish', 'rabbit']\n"
          ]
        }
      ]
    },
    {
      "cell_type": "markdown",
      "source": [
        "# **Exercise 38**: Filling a Dictionary with User Input"
      ],
      "metadata": {
        "id": "1KZ4JTD2rPsp"
      }
    },
    {
      "cell_type": "code",
      "source": [
        "# Define an empty library named responses\n",
        "\n",
        "\n",
        "# Set a flag to indicate that polling is active.\n",
        "\n",
        "\n",
        "# Use a while loop\n",
        "\n",
        "# Polling is complete. Show the results.\n",
        "\n",
        "# Print out the final responses dictionary\n"
      ],
      "metadata": {
        "colab": {
          "base_uri": "https://localhost:8080/"
        },
        "id": "HOGKIOxqrT97",
        "outputId": "6b15b70b-90bb-4421-9f91-80540bc740d6"
      },
      "execution_count": 95,
      "outputs": [
        {
          "output_type": "stream",
          "name": "stdout",
          "text": [
            "\n",
            "What is your name? Bernard\n",
            "Which mountain would you like to climb someday? Broga HIlls\n",
            "Would you like to let another person respond? (yes/ no) yes\n",
            "\n",
            "What is your name? Hui San\n",
            "Which mountain would you like to climb someday? Mount Kinabalu\n",
            "Would you like to let another person respond? (yes/ no) no\n",
            "\n",
            "--- Poll Results ---\n",
            "Bernard would like to climb Broga Hills.\n",
            "Hui San would like to climb Mount Kinabalu.\n",
            "\n",
            "The latest responses library is as follows:\n",
            "{'Bernard': 'Broga HIlls', 'Hui San': 'Mount Kinabalu'}\n"
          ]
        }
      ]
    },
    {
      "cell_type": "markdown",
      "source": [
        "# **How to get help on the function**"
      ],
      "metadata": {
        "id": "F4MmGggztc9Z"
      }
    },
    {
      "cell_type": "code",
      "source": [
        "# Option 1: Type help() with the function name as argument\n",
        "help(len)"
      ],
      "metadata": {
        "colab": {
          "base_uri": "https://localhost:8080/"
        },
        "id": "pKfCnXrZsdgl",
        "outputId": "3dd32355-4e5a-446b-bc02-04fc07b1afbb"
      },
      "execution_count": 104,
      "outputs": [
        {
          "output_type": "stream",
          "name": "stdout",
          "text": [
            "Help on built-in function len in module builtins:\n",
            "\n",
            "len(obj, /)\n",
            "    Return the number of items in a container.\n",
            "\n"
          ]
        }
      ]
    },
    {
      "cell_type": "code",
      "source": [
        "# Option 2: Type and function name, ends with the question mark\n",
        "len?"
      ],
      "metadata": {
        "id": "53cb6kZAtLnm"
      },
      "execution_count": 105,
      "outputs": []
    },
    {
      "cell_type": "markdown",
      "source": [
        "# **Good Luck and see you all soon!!!**"
      ],
      "metadata": {
        "id": "sAxav13At1MU"
      }
    }
  ]
}