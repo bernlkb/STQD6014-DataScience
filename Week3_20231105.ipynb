{
  "nbformat": 4,
  "nbformat_minor": 0,
  "metadata": {
    "colab": {
      "provenance": [],
      "include_colab_link": true
    },
    "kernelspec": {
      "name": "python3",
      "display_name": "Python 3"
    },
    "language_info": {
      "name": "python"
    }
  },
  "cells": [
    {
      "cell_type": "markdown",
      "metadata": {
        "id": "view-in-github",
        "colab_type": "text"
      },
      "source": [
        "<a href=\"https://colab.research.google.com/github/bernlkb/STQD6014-DataScience/blob/main/Week3_20231105.ipynb\" target=\"_parent\"><img src=\"https://colab.research.google.com/assets/colab-badge.svg\" alt=\"Open In Colab\"/></a>"
      ]
    },
    {
      "cell_type": "markdown",
      "source": [
        "# **Week 03**"
      ],
      "metadata": {
        "id": "wAJzPiuPfytH"
      }
    },
    {
      "cell_type": "markdown",
      "source": [
        "# **Part One: The *If* statement**"
      ],
      "metadata": {
        "id": "JUjPk_j7dYYe"
      }
    },
    {
      "cell_type": "markdown",
      "source": [
        "# **Exercise 1**"
      ],
      "metadata": {
        "id": "I7AP1LpTUu7N"
      }
    },
    {
      "cell_type": "code",
      "execution_count": null,
      "metadata": {
        "id": "K3kRlxvX6A7L",
        "colab": {
          "base_uri": "https://localhost:8080/"
        },
        "outputId": "17b46e22-ddf1-4579-a6fc-22071fc40582"
      },
      "outputs": [
        {
          "output_type": "stream",
          "name": "stdout",
          "text": [
            "Audi\n",
            "BMW\n",
            "Subaru\n",
            "Toyota\n"
          ]
        }
      ],
      "source": [
        "# If statement\n",
        "cars = ['audi', 'bmw', 'subaru', 'toyota']\n",
        "\n",
        "for i in cars:\n",
        "    if i == 'bmw':\n",
        "        print(i.upper())\n",
        "    else:\n",
        "        print(i.title())\n",
        "\n"
      ]
    },
    {
      "cell_type": "markdown",
      "source": [
        "# **Exercise 2**"
      ],
      "metadata": {
        "id": "jTctVGKnUdEH"
      }
    },
    {
      "cell_type": "code",
      "source": [
        "# If else statement\n",
        "requested_topping = 'cheese'\n",
        "\n",
        "if requested_topping != 'anchovies':\n",
        "    print('Hold the anchovies')\n",
        "else:\n",
        "    print('Bernard, please serve the anchovies fast!!!!')"
      ],
      "metadata": {
        "id": "fviS0BYz8fUO",
        "colab": {
          "base_uri": "https://localhost:8080/"
        },
        "outputId": "861c3c90-afa9-416a-d26a-738804aaa3f4"
      },
      "execution_count": null,
      "outputs": [
        {
          "output_type": "stream",
          "name": "stdout",
          "text": [
            "Hold the anchovies\n"
          ]
        }
      ]
    },
    {
      "cell_type": "markdown",
      "source": [
        "# **Exercise 3**"
      ],
      "metadata": {
        "id": "FyfSvhWbUXta"
      }
    },
    {
      "cell_type": "code",
      "source": [
        "# Pre-condtion\n",
        "age_0 = 22\n",
        "age_1 = 18"
      ],
      "metadata": {
        "id": "hV59aeSw8uSF"
      },
      "execution_count": null,
      "outputs": []
    },
    {
      "cell_type": "code",
      "source": [
        "# Checking using different condition\n",
        "# age_0 < 21 and age_1 < 21 - FALSE\n",
        "# age_0 < 21 or age_1 < 21 - TRUE\n",
        "# age_0 >= 21 and age_1 >= 21 - FALSE\n",
        "# age_0 >= 21 or age_1 >= 21 - TRUE\n",
        "# age_0 >= 21 and age_1 >= 21 - FALSE\n"
      ],
      "metadata": {
        "id": "69W0k1_NgKOS"
      },
      "execution_count": null,
      "outputs": []
    },
    {
      "cell_type": "code",
      "source": [
        "age_0 >= 21 and age_1 >= 21\n"
      ],
      "metadata": {
        "colab": {
          "base_uri": "https://localhost:8080/"
        },
        "id": "v0MKcqw6IAPW",
        "outputId": "fd76e43b-444f-44f9-8e45-587703a57fd2"
      },
      "execution_count": null,
      "outputs": [
        {
          "output_type": "execute_result",
          "data": {
            "text/plain": [
              "False"
            ]
          },
          "metadata": {},
          "execution_count": 6
        }
      ]
    },
    {
      "cell_type": "markdown",
      "source": [
        "# **A point of ponder :)**"
      ],
      "metadata": {
        "id": "Wk6VCX9djopY"
      }
    },
    {
      "cell_type": "code",
      "source": [
        "# What would the following code evaluate to? True or False?\n",
        "# and why?\n",
        "age_0 and age_1 > 21"
      ],
      "metadata": {
        "id": "9xZGmLTVkHlh",
        "colab": {
          "base_uri": "https://localhost:8080/"
        },
        "outputId": "5b415edc-8277-4ade-e4dc-54c63b5e9799"
      },
      "execution_count": null,
      "outputs": [
        {
          "output_type": "execute_result",
          "data": {
            "text/plain": [
              "False"
            ]
          },
          "metadata": {},
          "execution_count": 7
        }
      ]
    },
    {
      "cell_type": "code",
      "source": [
        "22 and True"
      ],
      "metadata": {
        "colab": {
          "base_uri": "https://localhost:8080/"
        },
        "id": "u588QN3LJh5p",
        "outputId": "b2c7f381-6ba4-4ac8-83f7-3df62fb41cd5"
      },
      "execution_count": null,
      "outputs": [
        {
          "output_type": "execute_result",
          "data": {
            "text/plain": [
              "True"
            ]
          },
          "metadata": {},
          "execution_count": 8
        }
      ]
    },
    {
      "cell_type": "markdown",
      "source": [
        "# **Exercise 4** - Keyword *in*"
      ],
      "metadata": {
        "id": "PpOFS0aNUN91"
      }
    },
    {
      "cell_type": "code",
      "source": [
        "# Using the keyword 'in'\n",
        "requested_topping = ['mushrooms', 'onions', 'pineapple']\n",
        "\n",
        "# Check whether mushrooms is in the topping list\n",
        "# case sensitive\n",
        "'mushroom' in requested_topping\n",
        "\n",
        "# Check whether pepperoni is in the topping list\n",
        "'pepperoni' in requested_topping"
      ],
      "metadata": {
        "id": "z5wPseRl-VyI",
        "colab": {
          "base_uri": "https://localhost:8080/"
        },
        "outputId": "fa43117c-19e3-4d50-c4ee-134114543310"
      },
      "execution_count": null,
      "outputs": [
        {
          "output_type": "execute_result",
          "data": {
            "text/plain": [
              "False"
            ]
          },
          "metadata": {},
          "execution_count": 9
        }
      ]
    },
    {
      "cell_type": "markdown",
      "source": [
        "# **Exercise 5**"
      ],
      "metadata": {
        "id": "epwMZTGQUIrw"
      }
    },
    {
      "cell_type": "code",
      "source": [
        "# List of banned users\n",
        "banned_users = ['andrew', 'carolina', 'david']\n",
        "\n",
        "# Check whether marie, 007 and andrew is in the banned user list\n",
        "#user = 'marie'\n",
        "user = 7\n",
        "if user not in banned_users:\n",
        "    print(str(user) + \", you can post a response if you wish\")\n",
        "\n",
        "#user = 'andrew'\n"
      ],
      "metadata": {
        "id": "RWb1iy4I-eFb",
        "colab": {
          "base_uri": "https://localhost:8080/"
        },
        "outputId": "862bfcb1-5d65-473d-c5d8-d6e87bffe5d7"
      },
      "execution_count": null,
      "outputs": [
        {
          "output_type": "stream",
          "name": "stdout",
          "text": [
            "7, you can post a response if you wish\n"
          ]
        }
      ]
    },
    {
      "cell_type": "code",
      "source": [
        "# Try it yourself\n",
        "# Try making sense of it\n",
        "car = 'subaru'\n",
        "print(\"Is car == 'subaru'? I predict True.\")\n",
        "print(car == \"subaru\") # this is a logical comparison; not printing string\n",
        "\n",
        "print(\"\\nIs car == 'audi'? I predict False\")\n",
        "print(car == 'audi') # this is a logical comparison; not printing string"
      ],
      "metadata": {
        "id": "Usq-CnrjCi71",
        "colab": {
          "base_uri": "https://localhost:8080/"
        },
        "outputId": "ff2c9c45-7196-4fe7-c086-0d3c694aaf84"
      },
      "execution_count": null,
      "outputs": [
        {
          "output_type": "stream",
          "name": "stdout",
          "text": [
            "Is car == 'subaru'? I predict True.\n",
            "True\n",
            "\n",
            "Is car == 'audi'? I predict False\n",
            "False\n"
          ]
        }
      ]
    },
    {
      "cell_type": "code",
      "source": [
        "# If statement\n",
        "age = 18\n",
        "\n",
        "if age >= 18:\n",
        "    print(\"You are old enough to vote!\")\n",
        "    print(\"Have you registered to vote yet?\")\n",
        "    print(\"Oh ya, tak yah register pun\")\n",
        "else:\n",
        "    print(\"Too bad...You would have to wait for GE17\")\n"
      ],
      "metadata": {
        "id": "BN5LXsVWDN_b",
        "colab": {
          "base_uri": "https://localhost:8080/"
        },
        "outputId": "84eca2ea-2ce5-467a-bd0f-8bfd85859510"
      },
      "execution_count": null,
      "outputs": [
        {
          "output_type": "stream",
          "name": "stdout",
          "text": [
            "You are old enough to vote!\n",
            "Have you registered to vote yet?\n",
            "Oh ya, tak yah register pun\n"
          ]
        }
      ]
    },
    {
      "cell_type": "code",
      "source": [
        "# Given the if-elif-else statement\n",
        "age = 55\n",
        "if age < 4:\n",
        "    print(\"Your admission rate is RM0.\")\n",
        "elif age < 18:\n",
        "    print(\"Your admission rate is RM5.\")\n",
        "else:\n",
        "    print(\"Your admission rate is RM10.\")"
      ],
      "metadata": {
        "colab": {
          "base_uri": "https://localhost:8080/"
        },
        "id": "5lNf9lMgEO4H",
        "outputId": "ed1cc97d-807b-4753-8075-d000019bca2a"
      },
      "execution_count": null,
      "outputs": [
        {
          "output_type": "stream",
          "name": "stdout",
          "text": [
            "Your admission rate is RM10.\n"
          ]
        }
      ]
    },
    {
      "cell_type": "markdown",
      "source": [
        "# **Exercise 6**"
      ],
      "metadata": {
        "id": "-bz66pJgUDW9"
      }
    },
    {
      "cell_type": "code",
      "source": [
        "# Revising the previous code for a cleaner version\n",
        "user = 'andrew'\n",
        "age = 67\n",
        "\n",
        "if age < 4:\n",
        "    rate = 0\n",
        "elif age < 18:\n",
        "    rate = 5\n",
        "elif age < 65:\n",
        "    rate = 10\n",
        "else:\n",
        "    rate = 5\n",
        "\n",
        "print(\"Your admission rate is RM\" + str(rate) + \", \" + user.title() + \".\")"
      ],
      "metadata": {
        "id": "litAhuvSGR6l",
        "colab": {
          "base_uri": "https://localhost:8080/"
        },
        "outputId": "4ac13522-acd7-4a94-ea85-d24e03ecc060"
      },
      "execution_count": null,
      "outputs": [
        {
          "output_type": "stream",
          "name": "stdout",
          "text": [
            "Your admission rate is RM5, Andrew.\n"
          ]
        }
      ]
    },
    {
      "cell_type": "markdown",
      "source": [
        "# **Exercise 7**"
      ],
      "metadata": {
        "id": "s2mmUpXYT_vI"
      }
    },
    {
      "cell_type": "code",
      "source": [
        "# End the code using elif for easier interpretation\n",
        "age = 67\n",
        "\n",
        "if age < 4:\n",
        "    rate = 0\n",
        "elif age < 18:\n",
        "    rate = 5\n",
        "elif age < 65:\n",
        "    rate = 10\n",
        "elif age >= 65:\n",
        "    rate = 5\n",
        "\n",
        "print(\"Your admission rate is RM\" + str(rate) + \", \" + user.title() + \".\")"
      ],
      "metadata": {
        "id": "T6AvirgKHEWz",
        "colab": {
          "base_uri": "https://localhost:8080/"
        },
        "outputId": "dc76181a-4718-48f4-9e1e-3dad2f83b9d5"
      },
      "execution_count": null,
      "outputs": [
        {
          "output_type": "stream",
          "name": "stdout",
          "text": [
            "Your admission rate is RM5, Andrew.\n"
          ]
        }
      ]
    },
    {
      "cell_type": "markdown",
      "source": [
        "# **Exercise 8**"
      ],
      "metadata": {
        "id": "WR3g_pXNT8B8"
      }
    },
    {
      "cell_type": "code",
      "source": [
        "# Multiple if\n",
        "requested_topping = ['mushrooms', 'extra cheese']\n",
        "\n",
        "if 'mushrooms' in requested_topping:\n",
        "    print(\"Adding mushrooms\")\n",
        "if 'pepperoni' in requested_topping:\n",
        "    print(\"Adding pepperoni\")\n",
        "if 'extra cheese' in requested_topping:\n",
        "    print(\"Adding extra cheese\")\n",
        "\n",
        "print(\"\\nFinished making your pizza!!!!\")"
      ],
      "metadata": {
        "id": "FUPOtDHjXZAr",
        "colab": {
          "base_uri": "https://localhost:8080/"
        },
        "outputId": "2fb300a8-a5c6-4633-a7db-693a3f68d31c"
      },
      "execution_count": null,
      "outputs": [
        {
          "output_type": "stream",
          "name": "stdout",
          "text": [
            "Adding mushrooms\n",
            "Adding extra cheese\n",
            "\n",
            "Finished making your pizza!!!!\n"
          ]
        }
      ]
    },
    {
      "cell_type": "markdown",
      "source": [
        "# **Exercise 9**"
      ],
      "metadata": {
        "id": "YiE2aYn7T4eU"
      }
    },
    {
      "cell_type": "code",
      "source": [
        "# To check for special conditions / items\n",
        "requested_toppings = ['mushrooms', 'extra cheese', 'green peppers']\n",
        "\n",
        "for requested_topping in requested_toppings:\n",
        "    if requested_topping == 'green peppers':\n",
        "        print(\"Sorry, we are out of green peppers right now!!\")\n",
        "    else:\n",
        "        print(\"Adding \" + requested_topping + \".\")\n",
        "\n",
        "print(\"\\nFinished making your pizza!\")"
      ],
      "metadata": {
        "id": "sy9baNJxYusX",
        "colab": {
          "base_uri": "https://localhost:8080/"
        },
        "outputId": "c2e01307-eb89-402b-fe70-b793df4f967e"
      },
      "execution_count": null,
      "outputs": [
        {
          "output_type": "stream",
          "name": "stdout",
          "text": [
            "Adding mushrooms.\n",
            "Adding extra cheese.\n",
            "Sorry, we are out of green peppers right now!!\n",
            "\n",
            "Finished making your pizza!\n"
          ]
        }
      ]
    },
    {
      "cell_type": "markdown",
      "source": [
        "# **Exercise 10**"
      ],
      "metadata": {
        "id": "avXGkEJWT0_b"
      }
    },
    {
      "cell_type": "code",
      "source": [
        "# Checking for a list that is empty\n",
        "# Indentation is very important !!!!\n",
        "requested_toppings = []\n",
        "\n",
        "if requested_toppings:\n",
        "    for requested_topping in requested_toppings:\n",
        "        print(\"Adding \" + requested_topping + \".\")\n",
        "        print(\"\\nFinished making your pizza!!\")\n",
        "else:\n",
        "    print(\"Are you sure you want to make a plain pizza\")"
      ],
      "metadata": {
        "id": "s_0W3DsnUq02",
        "colab": {
          "base_uri": "https://localhost:8080/"
        },
        "outputId": "d33b3cbe-e8b8-4536-e679-7f69dbb4f835"
      },
      "execution_count": null,
      "outputs": [
        {
          "output_type": "stream",
          "name": "stdout",
          "text": [
            "Are you sure you want to make a plain pizza\n"
          ]
        }
      ]
    },
    {
      "cell_type": "markdown",
      "source": [
        "# **Exercise 11**"
      ],
      "metadata": {
        "id": "WXUw0roGTxY-"
      }
    },
    {
      "cell_type": "code",
      "source": [
        "# Using multiple lists\n",
        "available_toppings = ['mushrooms', 'olives', 'green peppers', 'pepperoni',\n",
        "                      'pineapple', 'extra cheese']\n",
        "requested_toppings = ['mushrooms', 'french fries', 'extra cheese', 'crab meat']\n",
        "\n",
        "for requested_topping in requested_toppings:\n",
        "    if requested_topping in available_toppings:\n",
        "        print(\"Adding \" + requested_topping + \".\")\n",
        "    else:\n",
        "        print(\"Sorry, we don't have \" + requested_topping + \".\")\n",
        "\n",
        "print(\"\\nFinished making your pizza!\")"
      ],
      "metadata": {
        "id": "j4EyZ_3KhSAR",
        "colab": {
          "base_uri": "https://localhost:8080/"
        },
        "outputId": "59b5124d-d3a6-419e-90d7-3df4e17785a7"
      },
      "execution_count": null,
      "outputs": [
        {
          "output_type": "stream",
          "name": "stdout",
          "text": [
            "Adding mushrooms.\n",
            "Sorry, we don't have french fries.\n",
            "Adding extra cheese.\n",
            "Sorry, we don't have crab meat.\n",
            "\n",
            "Finished making your pizza!\n"
          ]
        }
      ]
    },
    {
      "cell_type": "markdown",
      "source": [
        "# **Part Two: Python Dictionaries**"
      ],
      "metadata": {
        "id": "LwCxaZakdO4-"
      }
    },
    {
      "cell_type": "markdown",
      "source": [
        "# **Exercise 12**"
      ],
      "metadata": {
        "id": "nd334U9KTtUm"
      }
    },
    {
      "cell_type": "code",
      "source": [
        "# Accessing the value using the key in dictionary\n",
        "alien_0 = {'color': 'green', 'points':5}\n",
        "\n",
        "# get the alien's color\n",
        "print(alien_0['color'])\n",
        "\n",
        "# get the alien's point\n",
        "print(alien_0['points'])"
      ],
      "metadata": {
        "id": "DmUQQo0li7bg",
        "colab": {
          "base_uri": "https://localhost:8080/"
        },
        "outputId": "6f32f585-b55a-4061-8ba2-fc164dcff8f4"
      },
      "execution_count": null,
      "outputs": [
        {
          "output_type": "stream",
          "name": "stdout",
          "text": [
            "green\n",
            "5\n"
          ]
        }
      ]
    },
    {
      "cell_type": "code",
      "source": [
        "# getting back this alien_0 dictionary\n",
        "alien_0"
      ],
      "metadata": {
        "colab": {
          "base_uri": "https://localhost:8080/"
        },
        "id": "tOk-Ye82eYWM",
        "outputId": "a713d0ae-67f3-4ed4-8a58-52b17a02af45"
      },
      "execution_count": null,
      "outputs": [
        {
          "output_type": "execute_result",
          "data": {
            "text/plain": [
              "{'color': 'green', 'points': 5}"
            ]
          },
          "metadata": {},
          "execution_count": 21
        }
      ]
    },
    {
      "cell_type": "markdown",
      "source": [
        "# **Building python dictionary from scratch**"
      ],
      "metadata": {
        "id": "PZu5EKzITjbB"
      }
    },
    {
      "cell_type": "code",
      "source": [
        "# Start building the alien_0 dictionary from scratch\n",
        "alien_0 = {}\n",
        "alien_0['color'] = 'green'\n",
        "alien_0['points'] = 5\n",
        "\n",
        "print(alien_0)"
      ],
      "metadata": {
        "id": "w1jfQOdDayLN",
        "colab": {
          "base_uri": "https://localhost:8080/"
        },
        "outputId": "e800b8be-73b1-43e9-a9ad-5404d68fd29d"
      },
      "execution_count": null,
      "outputs": [
        {
          "output_type": "stream",
          "name": "stdout",
          "text": [
            "{'color': 'green', 'points': 5}\n"
          ]
        }
      ]
    },
    {
      "cell_type": "code",
      "source": [
        "alien_0"
      ],
      "metadata": {
        "colab": {
          "base_uri": "https://localhost:8080/"
        },
        "id": "emud4BEneaVW",
        "outputId": "6a4f33b1-4187-4513-ffaa-7d76a64f03b9"
      },
      "execution_count": null,
      "outputs": [
        {
          "output_type": "execute_result",
          "data": {
            "text/plain": [
              "{'color': 'green', 'points': 5}"
            ]
          },
          "metadata": {},
          "execution_count": 23
        }
      ]
    },
    {
      "cell_type": "markdown",
      "source": [
        "# **Exercise 13**"
      ],
      "metadata": {
        "id": "UsLUAL3PTc9Q"
      }
    },
    {
      "cell_type": "code",
      "source": [
        "# Extract the value from the dictionary\n",
        "# put in a variable called new_points\n",
        "# Print out the value\n",
        "alien_0 = {'color': 'green', 'points':5}\n",
        "\n",
        "# First extract the point from the dictionary\n",
        "new_points = alien_0['points']\n",
        "\n",
        "# Printing the message\n",
        "print(\"You have just earned \" + str(new_points) + \" points.\")\n"
      ],
      "metadata": {
        "id": "Dg5C29oafPu5",
        "colab": {
          "base_uri": "https://localhost:8080/"
        },
        "outputId": "60f948eb-af2f-447f-f9a6-dd88ef155113"
      },
      "execution_count": null,
      "outputs": [
        {
          "output_type": "stream",
          "name": "stdout",
          "text": [
            "You have just earned 5 points.\n"
          ]
        }
      ]
    },
    {
      "cell_type": "markdown",
      "source": [
        "# **Exercise 14**"
      ],
      "metadata": {
        "id": "uyA6rQgjTZbO"
      }
    },
    {
      "cell_type": "code",
      "source": [
        "# Change the color value in the dictionary\n",
        "alien_0['color'] = 'Indigo'\n",
        "\n",
        "# Print out the new color\n",
        "print(\"The alien is now \" + alien_0['color'] + \".\")"
      ],
      "metadata": {
        "id": "aqLdYAec4UJi",
        "colab": {
          "base_uri": "https://localhost:8080/"
        },
        "outputId": "37c1efa3-921d-4608-dddb-0e80c6be0aab"
      },
      "execution_count": null,
      "outputs": [
        {
          "output_type": "stream",
          "name": "stdout",
          "text": [
            "The alien is now Indigo.\n"
          ]
        }
      ]
    },
    {
      "cell_type": "markdown",
      "source": [
        "# **Exercise 15**"
      ],
      "metadata": {
        "id": "61-MOIXYTN_S"
      }
    },
    {
      "cell_type": "code",
      "source": [
        "# Change the value in the dictionary; using if-elif-else statement\n",
        "alien_0 = {'x_position': 0, 'y_position': 25, 'speed': 'fast'}\n",
        "\n",
        "# Move the alien to the right.\n",
        "# Determine how far to move the alien based on its current speed.\n",
        "if alien_0['speed'] == 'slow':\n",
        "    x_increment = 1\n",
        "elif alien_0['speed'] == 'medium':\n",
        "    x_increment = 2\n",
        "elif alien_0['speed'] == 'fast':\n",
        "    x_increment = 3\n",
        "\n",
        "# The new position is the old position plus the increment.\n",
        "alien_0['x_position'] = alien_0['x_position'] + x_increment\n",
        "\n",
        "print(\"New x-positio: \" + str(alien_0['x_position']))\n",
        "\n",
        "alien_0"
      ],
      "metadata": {
        "id": "vfDw_r_L5jPz",
        "colab": {
          "base_uri": "https://localhost:8080/"
        },
        "outputId": "b3c901bc-10ba-4e1f-f650-3f6547a06956"
      },
      "execution_count": null,
      "outputs": [
        {
          "output_type": "stream",
          "name": "stdout",
          "text": [
            "New x-positio: 3\n"
          ]
        },
        {
          "output_type": "execute_result",
          "data": {
            "text/plain": [
              "{'x_position': 3, 'y_position': 25, 'speed': 'fast'}"
            ]
          },
          "metadata": {},
          "execution_count": 26
        }
      ]
    },
    {
      "cell_type": "markdown",
      "source": [
        "# **Exercise 16**"
      ],
      "metadata": {
        "id": "1walOSVdSxSJ"
      }
    },
    {
      "cell_type": "code",
      "source": [
        "# Using del() function\n",
        "alien_0 = {'color': 'green', 'points': 5}\n",
        "print(alien_0)\n",
        "\n",
        "# Delete the points from the dictionary\n",
        "del alien_0['points']\n",
        "\n",
        "# Print alien_0\n",
        "print(alien_0)"
      ],
      "metadata": {
        "id": "efbBa0SB6hlj",
        "colab": {
          "base_uri": "https://localhost:8080/"
        },
        "outputId": "1c782346-9c0e-4a1f-a9c4-3be1875217ae"
      },
      "execution_count": null,
      "outputs": [
        {
          "output_type": "stream",
          "name": "stdout",
          "text": [
            "{'color': 'green', 'points': 5}\n",
            "{'color': 'green'}\n"
          ]
        }
      ]
    },
    {
      "cell_type": "markdown",
      "source": [
        "# **Exercise 17**"
      ],
      "metadata": {
        "id": "nGBOYQLQSpdp"
      }
    },
    {
      "cell_type": "code",
      "source": [
        "# Break dictionary into several lines\n",
        "fav_prog = {\n",
        "    'jen': 'python',\n",
        "    'sarah': 'c',\n",
        "    'edward': 'ruby',\n",
        "    'phil': 'python'\n",
        "}\n",
        "\n",
        "# Print message in several lines\n",
        "print(\"Phil's favorite language is \" +\n",
        "      fav_prog['phil'].title() +\n",
        "      '.')"
      ],
      "metadata": {
        "id": "KtsGcBJC8MBy",
        "colab": {
          "base_uri": "https://localhost:8080/"
        },
        "outputId": "7e41cfac-1a52-4671-993d-5c070feee6a2"
      },
      "execution_count": null,
      "outputs": [
        {
          "output_type": "stream",
          "name": "stdout",
          "text": [
            "Phil's favorite language is Python.\n"
          ]
        }
      ]
    },
    {
      "cell_type": "markdown",
      "source": [
        "# **Exercise 18**"
      ],
      "metadata": {
        "id": "xFl4As2NSiYk"
      }
    },
    {
      "cell_type": "code",
      "source": [
        "# Print out the key-value pairs using item() function\n",
        "# Using the for function\n",
        "for name, sub in fav_prog.items():\n",
        "    print(name.title() +\n",
        "          \"'s fav language is \" +\n",
        "          sub.title() + \".\")"
      ],
      "metadata": {
        "colab": {
          "base_uri": "https://localhost:8080/"
        },
        "id": "piktzd1c9b7c",
        "outputId": "55b60a4d-5222-4522-bdd1-8318abcaf969"
      },
      "execution_count": null,
      "outputs": [
        {
          "output_type": "stream",
          "name": "stdout",
          "text": [
            "Jen's fav language is Python.\n",
            "Sarah's fav language is C.\n",
            "Edward's fav language is Ruby.\n",
            "Phil's fav language is Python.\n"
          ]
        }
      ]
    },
    {
      "cell_type": "markdown",
      "source": [
        "# **Exercise 19**"
      ],
      "metadata": {
        "id": "F_FiZZhgSdpu"
      }
    },
    {
      "cell_type": "code",
      "source": [
        "# Print out the key-value pairs using key() function\n",
        "favorite_languages = {\n",
        "    'jen': 'python',\n",
        "    'sarah': 'c',\n",
        "    'edward': 'ruby',\n",
        "    'phil': 'python',\n",
        "    }\n",
        "\n",
        "# List of friends\n",
        "friends = ['phil', 'sarah']\n",
        "\n",
        "# Create a for loop\n",
        "for name in fav_prog.keys():\n",
        "    if name in friends:\n",
        "        print(\"Hi \" + name.title() +\n",
        "              \", your fav language is \" +\n",
        "              fav_prog[name].title() + \"!\")"
      ],
      "metadata": {
        "id": "HDxDyGRj_LLh",
        "colab": {
          "base_uri": "https://localhost:8080/"
        },
        "outputId": "488d6487-2c29-4890-ac59-3e32f0820fd0"
      },
      "execution_count": null,
      "outputs": [
        {
          "output_type": "stream",
          "name": "stdout",
          "text": [
            "Hi Sarah, your fav language is C!\n",
            "Hi Phil, your fav language is Python!\n"
          ]
        }
      ]
    },
    {
      "cell_type": "markdown",
      "source": [
        "# **Exercise 20**"
      ],
      "metadata": {
        "id": "hRI7Gd6eSZCK"
      }
    },
    {
      "cell_type": "code",
      "source": [
        "# Print out the key-value pairs using not in function\n",
        "favorite_languages = {\n",
        "    'jen': 'python',\n",
        "    'sarah': 'c',\n",
        "    'edward': 'ruby',\n",
        "    'phil': 'python',\n",
        "    }\n",
        "\n",
        "# Create an if condition\n",
        "if 'bernard' not in fav_prog.keys():\n",
        "    print(\"Bernard, please study hard!!!\")"
      ],
      "metadata": {
        "id": "2SnKUKMEAA8t",
        "colab": {
          "base_uri": "https://localhost:8080/"
        },
        "outputId": "028e0e1d-4018-48e6-bf11-6ddae5b9ea53"
      },
      "execution_count": null,
      "outputs": [
        {
          "output_type": "stream",
          "name": "stdout",
          "text": [
            "Bernard, please study hard!!!\n"
          ]
        }
      ]
    },
    {
      "cell_type": "markdown",
      "source": [
        "# **Exercise 21**: Sort *keys* in order"
      ],
      "metadata": {
        "id": "IlgZxH7rSBpb"
      }
    },
    {
      "cell_type": "code",
      "source": [
        "# Given the following fav prog dictionary\n",
        "favorite_languages = {\n",
        "    'jen': 'python',\n",
        "    'sarah': 'c',\n",
        "    'edward': 'ruby',\n",
        "    'phil': 'python',\n",
        "    }\n",
        "\n",
        "# Create a for loop in this case\n",
        "# Use the sorted() to sort the keys names in alphabetical order\n",
        "# Print out the message thanking them to take the poll\n",
        "for name in sorted(fav_prog.keys()):\n",
        "    print(name.title() + \", thank you for taking the poll.\")"
      ],
      "metadata": {
        "id": "6QBXlZM1Axk4",
        "colab": {
          "base_uri": "https://localhost:8080/"
        },
        "outputId": "37df78ef-b221-40a6-9cf5-1fc3ede7ba45"
      },
      "execution_count": null,
      "outputs": [
        {
          "output_type": "stream",
          "name": "stdout",
          "text": [
            "Edward, thank you for taking the poll.\n",
            "Jen, thank you for taking the poll.\n",
            "Phil, thank you for taking the poll.\n",
            "Sarah, thank you for taking the poll.\n"
          ]
        }
      ]
    },
    {
      "cell_type": "markdown",
      "source": [
        "# **Exercise 22**: Sort *values* in order"
      ],
      "metadata": {
        "id": "1iJ5yU3tSTKc"
      }
    },
    {
      "cell_type": "code",
      "source": [
        "# Given the following fav language dictionary\n",
        "favorite_languages = {\n",
        "    'jen': 'python',\n",
        "    'sarah': 'c',\n",
        "    'edward': 'ruby',\n",
        "    'phil': 'python',\n",
        "    }\n",
        "\n",
        "# Print a introductory message\n",
        "print(\"The following languages have been mentioned:\")\n",
        "\n",
        "# Create a for loop to print a message\n",
        "# Use sorted() function to sort the values in reverse alphabetical order\n",
        "# Use set() function to remove redundant values\n",
        "for name in sorted(set(fav_prog.values()), reverse = True):\n",
        "    #print(name.title() + \", thank you for taking the poll.\")\n",
        "    print(name.title())\n"
      ],
      "metadata": {
        "id": "CGqvlY1-BQ55",
        "colab": {
          "base_uri": "https://localhost:8080/"
        },
        "outputId": "c030b1eb-ef34-4ea5-f854-a8af7dbbc254"
      },
      "execution_count": null,
      "outputs": [
        {
          "output_type": "stream",
          "name": "stdout",
          "text": [
            "The following languages have been mentioned:\n",
            "Ruby\n",
            "Python\n",
            "C\n"
          ]
        }
      ]
    },
    {
      "cell_type": "markdown",
      "source": [
        "# **Exercise 23**: Append new data into dictionary using function"
      ],
      "metadata": {
        "id": "A3Q_CL2QVN9y"
      }
    },
    {
      "cell_type": "code",
      "source": [
        "# Make an empty list for storing aliens.\n",
        "aliens = []\n",
        "\n",
        "# Create a for loop to make 30 green aliens\n",
        "# Store in a variable named new_alien\n",
        "# Using the append() function\n",
        "for alien_number in range(30):\n",
        "    new_alien = {'color': 'green', 'points': 5, 'speed': 'slow'}\n",
        "    aliens.append(new_alien)\n",
        "\n",
        "# Create a for loop and if-elif statement\n",
        "for alien in aliens[0:3]:\n",
        "    if alien['color'] == 'green':\n",
        "        alien['color'] = 'yellow'\n",
        "        alien['speed'] = 'medium'\n",
        "        alien['points'] = 10\n",
        "    elif alien['color'] == 'yellow':\n",
        "        alien['color'] = 'red'\n",
        "        alien['speed'] = 'fast'\n",
        "        alien['points'] = 5\n",
        "\n",
        "# Show first 5 aliens using a for loop\n",
        "for alien in aliens[0:5]:\n",
        "    print(alien)\n",
        "\n",
        "# Show how many aliens have been created using the len() function\n",
        "print(\"\\n...........................\\n\")\n",
        "print(\"Total number of aliens: \" +  str(len(aliens)))"
      ],
      "metadata": {
        "id": "CrP6r-jvBzht",
        "colab": {
          "base_uri": "https://localhost:8080/"
        },
        "outputId": "f5187201-da76-4332-eea5-c4a4795c1966"
      },
      "execution_count": null,
      "outputs": [
        {
          "output_type": "stream",
          "name": "stdout",
          "text": [
            "{'color': 'yellow', 'points': 10, 'speed': 'medium'}\n",
            "{'color': 'yellow', 'points': 10, 'speed': 'medium'}\n",
            "{'color': 'yellow', 'points': 10, 'speed': 'medium'}\n",
            "{'color': 'green', 'points': 5, 'speed': 'slow'}\n",
            "{'color': 'green', 'points': 5, 'speed': 'slow'}\n",
            "\n",
            "...........................\n",
            "\n",
            "Total number of aliens: 30\n"
          ]
        }
      ]
    },
    {
      "cell_type": "markdown",
      "source": [
        "# **Exercise 24**: A list in the dictionary"
      ],
      "metadata": {
        "id": "ue_3znVNWnQJ"
      }
    },
    {
      "cell_type": "code",
      "source": [
        "# Store information about a pizza being ordered\n",
        "# As a list in a dictionary\n",
        "pizza = {\n",
        "    'crust': 'thick',\n",
        "    'toppings': ['mushrooms', 'extra cheese'],\n",
        "    }\n",
        "\n",
        "# Summarize the order\n",
        "# By having the following message printed out\n",
        "# Use print() and a for loop\n",
        "print(\"You order a \" + pizza['crust'] + \"-crust pizza with the following toppings:\")\n",
        "\n",
        "for topping in pizza['toppings']:\n",
        "    print(\"\\t\" + topping)\n"
      ],
      "metadata": {
        "id": "iA-z9NxRDixp",
        "colab": {
          "base_uri": "https://localhost:8080/"
        },
        "outputId": "e3cbbb25-31aa-4a6f-bc7f-5c4c0e0fb1ba"
      },
      "execution_count": null,
      "outputs": [
        {
          "output_type": "stream",
          "name": "stdout",
          "text": [
            "You order a thick-crust pizza with the following toppings:\n",
            "\tmushrooms\n",
            "\textra cheese\n"
          ]
        }
      ]
    },
    {
      "cell_type": "markdown",
      "source": [
        "# **Exercise 25**: lists in the dictionary"
      ],
      "metadata": {
        "id": "v-ItL0_RaZ0r"
      }
    },
    {
      "cell_type": "code",
      "source": [
        "# Given the following fav prog dictionary\n",
        "favorite_languages = {\n",
        "    'jen': ['python', 'ruby'],\n",
        "    'sarah': ['c'],\n",
        "    'edward': ['ruby', 'go'],\n",
        "    'phil': ['python', 'haskell'],\n",
        "    }\n",
        "\n",
        "# Create two for loops to print a message\n",
        "# Use items() function to access the key-value pair in dictionary\n",
        "# Use the keyword in\n",
        "for name, languages in favorite_languages.items():\n",
        "    print(name.title() + \"'s favorite languages are:\")\n",
        "    for language in languages:\n",
        "        print(\"\\t\" + language.title())"
      ],
      "metadata": {
        "id": "q0MODSGDFsgU",
        "colab": {
          "base_uri": "https://localhost:8080/"
        },
        "outputId": "96d9a659-09b7-42d6-df0e-78d77724f272"
      },
      "execution_count": null,
      "outputs": [
        {
          "output_type": "stream",
          "name": "stdout",
          "text": [
            "Jen's favorite languages are:\n",
            "\tPython\n",
            "\tRuby\n",
            "Sarah's favorite languages are:\n",
            "\tC\n",
            "Edward's favorite languages are:\n",
            "\tRuby\n",
            "\tGo\n",
            "Phil's favorite languages are:\n",
            "\tPython\n",
            "\tHaskell\n"
          ]
        }
      ]
    },
    {
      "cell_type": "markdown",
      "source": [
        "# **Exercise 26**: A dictionary in a dictionary"
      ],
      "metadata": {
        "id": "gHfQepU_bsYG"
      }
    },
    {
      "cell_type": "code",
      "source": [
        "# Given the following famous scientists dictionary\n",
        "users = {\n",
        "    'aeinstein': {\n",
        "        'first': 'albert',\n",
        "        'last': 'einstein',\n",
        "        'location': 'princeton',\n",
        "        },\n",
        "    'mcurie': {\n",
        "        'first': 'marie',\n",
        "        'last': 'curie',\n",
        "        'location': 'paris',\n",
        "        }\n",
        "    }\n",
        "\n",
        "# Create a for loop to print the message\n",
        "# Use the items() function to access the key-value pairs in the dictionary\n",
        "for username, user_info in users.items():\n",
        "    print(\"Username:\" + username.title())\n",
        "    full_name = user_info['first'] + \" \" + user_info['last']\n",
        "    location = user_info['location']\n",
        "\n",
        "    print(\"\\tFull name: \" + full_name.title())\n",
        "    print(\"\\tLocation: \" + location.title())"
      ],
      "metadata": {
        "id": "wWibIDl0Gw2O",
        "colab": {
          "base_uri": "https://localhost:8080/"
        },
        "outputId": "b15dbadb-54fa-4ead-ad2e-e648acbdf22d"
      },
      "execution_count": null,
      "outputs": [
        {
          "output_type": "stream",
          "name": "stdout",
          "text": [
            "Username:Aeinstein\n",
            "\tFull name: Albert Einstein\n",
            "\tLocation: Princeton\n",
            "Username:Mcurie\n",
            "\tFull name: Marie Curie\n",
            "\tLocation: Paris\n"
          ]
        }
      ]
    },
    {
      "cell_type": "markdown",
      "source": [
        "# **Part Three: User input and While Loops**"
      ],
      "metadata": {
        "id": "xb9bSsHUc62Y"
      }
    },
    {
      "cell_type": "markdown",
      "source": [
        "# **Exercise 27: Using the *input()* function**"
      ],
      "metadata": {
        "id": "JhNFPtdqbvp_"
      }
    },
    {
      "cell_type": "code",
      "source": [
        "# Use the input() function to get a response from user\n",
        "# Print out the message\n",
        "message = input(\"Tell me something, and I will repeat it back to you: \")\n",
        "print(message)\n",
        "\n",
        "# Use the input() function to get user's name\n",
        "# print out the message\n",
        "nama = input(\"\\nPlease tell me your name: \")\n",
        "print(\"Hello, \" + nama + \"!\")\n",
        "\n",
        "# Use the input() function to get user's first name\n",
        "# print out the message\n",
        "msg = \"\\nIf you tell us who you are, we can personalize a message just for you.\"\n",
        "msg += \"\\nWhat is your first name?\"\n",
        "\n",
        "name = input(msg)\n",
        "print(\"Hello, \" + name + \"!\")"
      ],
      "metadata": {
        "id": "xY2CS0_CIEqr",
        "colab": {
          "base_uri": "https://localhost:8080/"
        },
        "outputId": "32d0ddb4-ff3e-47f8-cd57-19288294d6af"
      },
      "execution_count": null,
      "outputs": [
        {
          "output_type": "stream",
          "name": "stdout",
          "text": [
            "Tell me something, and I will repeat it back to you: Happy\n",
            "Happy\n",
            "\n",
            "Please tell me your name: Bernard Lee\n",
            "Hello, Bernard Lee!\n",
            "\n",
            "If you tell us who you are, we can personalize a message just for you.\n",
            "What is your first name?Lee\n",
            "Hello, Lee!\n"
          ]
        }
      ]
    },
    {
      "cell_type": "markdown",
      "source": [
        "# **Exercise 28**: using int() to accept numerical input - True of False"
      ],
      "metadata": {
        "id": "xQ1klxbjbzQL"
      }
    },
    {
      "cell_type": "code",
      "source": [
        "# Using the input() to get the age of users\n",
        "# Test the input prompt for age by inputting the following info\n",
        "# 1) 18\n",
        "# 2) Eighteen\n",
        "age = int(input(\"How old are you? \"))\n",
        "\n",
        "# Logical test\n",
        "# Would prompt an error\n",
        "#age >= 18\n",
        "\n",
        "# How to fix it?\n",
        "#age = int(age)\n",
        "age >= 18"
      ],
      "metadata": {
        "id": "uWq2dvg3JR6c",
        "colab": {
          "base_uri": "https://localhost:8080/"
        },
        "outputId": "acb0e79a-953e-43cb-9519-9db3424c2fdb"
      },
      "execution_count": null,
      "outputs": [
        {
          "name": "stdout",
          "output_type": "stream",
          "text": [
            "How old are you? 18\n"
          ]
        },
        {
          "output_type": "execute_result",
          "data": {
            "text/plain": [
              "True"
            ]
          },
          "metadata": {},
          "execution_count": 83
        }
      ]
    },
    {
      "cell_type": "markdown",
      "source": [
        "# **Exercise 29**: using int() to accept numerical input and check for certain condition"
      ],
      "metadata": {
        "id": "6BmHhMgeb1Ms"
      }
    },
    {
      "cell_type": "code",
      "source": [
        "# Create an input() function to get the height in cm from users\n",
        "# Use the int() to convert the height to numeric\n",
        "tinggi = int(input(\"How tall are you, in cm? \"))\n",
        "\n",
        "# Checking for condition using if-else statement\n",
        "# Print the following message\n",
        "if tinggi >= 90:\n",
        "    print(\"\\nYou are tall enough to ride!\")\n",
        "else:\n",
        "    print(\"\\nYou'll need to drink more milk to grow taller to ride!\")"
      ],
      "metadata": {
        "id": "XR0IMpnzK7Ne",
        "colab": {
          "base_uri": "https://localhost:8080/"
        },
        "outputId": "1c141b47-61eb-420a-a2fb-e780f937b404"
      },
      "execution_count": null,
      "outputs": [
        {
          "output_type": "stream",
          "name": "stdout",
          "text": [
            "How tall are you, in cm? 90\n",
            "\n",
            "You are tall enough to ride!\n"
          ]
        }
      ]
    },
    {
      "cell_type": "markdown",
      "source": [
        "# **Exercise 30**: The modulo operator to print message"
      ],
      "metadata": {
        "id": "aWVOcZBFb34h"
      }
    },
    {
      "cell_type": "code",
      "source": [
        "# Use the input() and int() function to get a number from user\n",
        "num = int(input(\"Enter a number, I'll tell you if it is even or odd: \"))\n",
        "\n",
        "# Create an if-else statement to check whether the number given is an odd or even number\n",
        "# Use the modulo sign to check for odd and even condition\n",
        "if num % 2 == 0:\n",
        "    print('\\nThe number ' + str(num) + ' is even.')\n",
        "else:\n",
        "    print('\\nThe number ' + str(num) + ' is odd.')"
      ],
      "metadata": {
        "id": "x9OlZPDYL2ne",
        "colab": {
          "base_uri": "https://localhost:8080/"
        },
        "outputId": "81759612-8657-49ed-c85b-455b80cf111c"
      },
      "execution_count": null,
      "outputs": [
        {
          "output_type": "stream",
          "name": "stdout",
          "text": [
            "Enter a number, I'll tell you if it is even or odd: 899\n",
            "\n",
            "The number 899 is odd.\n"
          ]
        }
      ]
    },
    {
      "cell_type": "markdown",
      "source": [
        "# **Exercise 31**: While loop"
      ],
      "metadata": {
        "id": "k7JFxvBPkezR"
      }
    },
    {
      "cell_type": "code",
      "source": [
        "# Define the current_number as 1\n",
        "current_number = 1\n",
        "\n",
        "# Use the while loop to increase the number\n",
        "# Print out the incremented number\n",
        "while current_number <= 5:\n",
        "    print(current_number)\n",
        "    current_number += 1"
      ],
      "metadata": {
        "colab": {
          "base_uri": "https://localhost:8080/"
        },
        "id": "98Frgf-3km3G",
        "outputId": "cbca01fc-4cd5-4d8c-c415-ca293b5aca9f"
      },
      "execution_count": null,
      "outputs": [
        {
          "output_type": "stream",
          "name": "stdout",
          "text": [
            "1\n",
            "2\n",
            "3\n",
            "4\n",
            "5\n"
          ]
        }
      ]
    },
    {
      "cell_type": "markdown",
      "source": [
        "# **Exercise 32**: let user choose when to quit"
      ],
      "metadata": {
        "id": "UHPGhBCIlH7v"
      }
    },
    {
      "cell_type": "code",
      "source": [
        "# Create a prompt message\n",
        "msg = \"\\nTell me something, and I will repeat it back to you:\"\n",
        "msg += \"\\nEnter 'quit' to end the program. \"\n",
        "\n",
        "# Define an empty message\n",
        "message = ''\n",
        "\n",
        "# Create a while loop to continuously getting response from users\n",
        "# Quit the while loop if user input 'quit'\n",
        "while message != 'quit':\n",
        "    message = input(msg)\n",
        "\n",
        "    if message == 'quit':\n",
        "        print(message)"
      ],
      "metadata": {
        "colab": {
          "base_uri": "https://localhost:8080/"
        },
        "id": "HXLCeJTDlPSj",
        "outputId": "a658cb28-7148-437a-8b01-74596dc0d5de"
      },
      "execution_count": null,
      "outputs": [
        {
          "output_type": "stream",
          "name": "stdout",
          "text": [
            "\n",
            "Tell me something, and I will repeat it back to you:\n",
            "Enter 'quit' to end the program. I'm happy\n",
            "\n",
            "Tell me something, and I will repeat it back to you:\n",
            "Enter 'quit' to end the program. I'm super happy\n",
            "\n",
            "Tell me something, and I will repeat it back to you:\n",
            "Enter 'quit' to end the program. quit\n",
            "quit\n"
          ]
        }
      ]
    },
    {
      "cell_type": "markdown",
      "source": [
        "# **Excersie 33**: Using a flag as a signal"
      ],
      "metadata": {
        "id": "oBkf09xRmGRs"
      }
    },
    {
      "cell_type": "code",
      "source": [
        "# Create a prompt message\n",
        "prompt = \"\\nTell me something, and I will repeat it back to you:\"\n",
        "prompt += \"\\nEnter 'quit' to end the program. \"\n",
        "\n",
        "# Define a flag\n",
        "active = True # this is the flag that i said just now\n",
        "\n",
        "# Incorporate the flag in the while loop\n",
        "while active:\n",
        "    message = input(prompt)\n",
        "\n",
        "    if message == 'quit':\n",
        "        active = False\n",
        "    else:\n",
        "        print(message)"
      ],
      "metadata": {
        "colab": {
          "base_uri": "https://localhost:8080/"
        },
        "id": "8gsuYxCfmPYO",
        "outputId": "95b3a6e0-9241-4d59-ff5a-b08e8b3c5e9a"
      },
      "execution_count": null,
      "outputs": [
        {
          "name": "stdout",
          "output_type": "stream",
          "text": [
            "\n",
            "Tell me something, and I will repeat it back to you:\n",
            "Enter 'quit' to end the program. Happy\n",
            "Happy\n",
            "\n",
            "Tell me something, and I will repeat it back to you:\n",
            "Enter 'quit' to end the program. Happy\n",
            "Happy\n",
            "\n",
            "Tell me something, and I will repeat it back to you:\n",
            "Enter 'quit' to end the program. quit\n"
          ]
        }
      ]
    },
    {
      "cell_type": "markdown",
      "source": [
        "# **Exercise 34**: Using break to exit loop"
      ],
      "metadata": {
        "id": "Z-XGYNMMm4rp"
      }
    },
    {
      "cell_type": "code",
      "source": [
        "# Create a prompt message\n",
        "prompt = \"\\nPlease enter the name of a city you have visited:\"\n",
        "prompt += \"\\n(Enter 'quit' when you are finished.) \"\n",
        "\n",
        "# Create a while loop and incorporate a flag\n",
        "# Print the message\n",
        "while True:\n",
        "    city = input(prompt)\n",
        "\n",
        "    if city == 'quit':\n",
        "        break\n",
        "    else:\n",
        "        print(\"I'd love to go to \" + city.title() + \"!\")"
      ],
      "metadata": {
        "colab": {
          "base_uri": "https://localhost:8080/"
        },
        "id": "XOMg9HPTm_Ke",
        "outputId": "63307394-b809-41b3-ef78-c044b1e3dee2"
      },
      "execution_count": null,
      "outputs": [
        {
          "name": "stdout",
          "output_type": "stream",
          "text": [
            "\n",
            "Please enter the name of a city you have visited:\n",
            "(Enter 'quit' when you are finished.) Bangi\n",
            "I'd love to go to Bangi!\n",
            "\n",
            "Please enter the name of a city you have visited:\n",
            "(Enter 'quit' when you are finished.) Seremban\n",
            "I'd love to go to Seremban!\n",
            "\n",
            "Please enter the name of a city you have visited:\n",
            "(Enter 'quit' when you are finished.) quit\n"
          ]
        }
      ]
    },
    {
      "cell_type": "markdown",
      "source": [
        "# **Exerce 35**: Using continue in a loop"
      ],
      "metadata": {
        "id": "8r7nqJJWn88Q"
      }
    },
    {
      "cell_type": "code",
      "source": [
        "# Define current_number as 0\n",
        "current_number = 0\n",
        "\n",
        "# Create a while loop to update current_number plus 1\n",
        "# Continue the while loop without increment if it is an even number\n",
        "# Use the modulo sign in this case\n",
        "# Print out the message\n",
        "while current_number < 20:\n",
        "    current_number += 1\n",
        "    if current_number % 2 == 0:\n",
        "        continue\n",
        "    print(current_number)"
      ],
      "metadata": {
        "colab": {
          "base_uri": "https://localhost:8080/"
        },
        "id": "copVIKTDoDOX",
        "outputId": "0b11334c-9f76-421d-d524-31806b99cd97"
      },
      "execution_count": null,
      "outputs": [
        {
          "output_type": "stream",
          "name": "stdout",
          "text": [
            "1\n",
            "3\n",
            "5\n",
            "7\n",
            "9\n",
            "11\n",
            "13\n",
            "15\n",
            "17\n",
            "19\n"
          ]
        }
      ]
    },
    {
      "cell_type": "markdown",
      "source": [
        "# **Exercise 36**: Using pop() function to move Items"
      ],
      "metadata": {
        "id": "XKU12bimo7ze"
      }
    },
    {
      "cell_type": "code",
      "source": [
        "# Start with users that need to be verified - unconfirmed_users\n",
        "# Create an empty list to hold confirmed users\n",
        "unconfirmed_users = ['alice', 'brian', 'candace']\n",
        "confirmed_users = []\n",
        "\n",
        "# Verify each user until there are no more unconfirmed users\n",
        "# Move each verified user into the list of confirmed users\n",
        "# By using the while loop\n",
        "# Incorporate the pop() and append() function\n",
        "while unconfirmed_users:\n",
        "    current_user = unconfirmed_users.pop()\n",
        "\n",
        "    print(\"Verifying user: \" + current_user.title())\n",
        "    confirmed_users.append(current_user)\n",
        "\n",
        "# Display all confirmed users\n",
        "# Incorporate for loop in this case\n",
        "print(\"\\nThe following users have been confimed: \")\n",
        "for confirmed_user in confirmed_users:\n",
        "    print(confirmed_user.title())\n",
        "\n",
        "# Print the final unconfirmed_users list\n",
        "print(\"\\nThe final unconfirmed users are:\")\n",
        "print(unconfirmed_users)"
      ],
      "metadata": {
        "colab": {
          "base_uri": "https://localhost:8080/"
        },
        "id": "Q4fYExqHpFnb",
        "outputId": "e18d6c33-72b7-4cc0-c41c-21a2cf593340"
      },
      "execution_count": null,
      "outputs": [
        {
          "output_type": "stream",
          "name": "stdout",
          "text": [
            "Verifying user: Candace\n",
            "Verifying user: Brian\n",
            "Verifying user: Alice\n",
            "\n",
            "The following users have been confimed: \n",
            "Candace\n",
            "Brian\n",
            "Alice\n",
            "\n",
            "The final unconfirmed users are:\n",
            "[]\n"
          ]
        }
      ]
    },
    {
      "cell_type": "markdown",
      "source": [
        "# **Exercise 37**: Removing All Instances of Specific Values from a List"
      ],
      "metadata": {
        "id": "5cau04pNpzEH"
      }
    },
    {
      "cell_type": "code",
      "source": [
        "# Given the list of pets\n",
        "pets = ['dog', 'cat', 'dog', 'goldfish', 'cat', 'rabbit', 'cat']\n",
        "\n",
        "# Print out the list of pets available\n",
        "print(pets)\n",
        "\n",
        "# Use a while loop to remove a pet if it is in the list\n",
        "# Use the remove() function\n",
        "# print out the final list of pets\n",
        "while 'dog' in pets:\n",
        "    pets.remove('dog')\n",
        "print(pets)"
      ],
      "metadata": {
        "colab": {
          "base_uri": "https://localhost:8080/"
        },
        "id": "oAcRXByeqtAW",
        "outputId": "fc729367-0c88-4608-989e-8441e12332e8"
      },
      "execution_count": null,
      "outputs": [
        {
          "output_type": "stream",
          "name": "stdout",
          "text": [
            "['dog', 'cat', 'dog', 'goldfish', 'cat', 'rabbit', 'cat']\n",
            "['cat', 'goldfish', 'cat', 'rabbit', 'cat']\n"
          ]
        }
      ]
    },
    {
      "cell_type": "markdown",
      "source": [
        "# **Exercise 38**: Filling a Dictionary with User Input"
      ],
      "metadata": {
        "id": "1KZ4JTD2rPsp"
      }
    },
    {
      "cell_type": "code",
      "source": [
        "# Define an empty library named responses\n",
        "responses = {}\n",
        "\n",
        "# Set a flag to indicate that polling is active.\n",
        "polling = True\n",
        "\n",
        "# Use a while loop\n",
        "while polling:\n",
        "    name = input(\"\\nWhat is your name? \")\n",
        "    response = input(\"Which mountain would you like to conquer in near future? \")\n",
        "\n",
        "    # Store these response in the libary\n",
        "    # name here is the key, response here is the value in the library\n",
        "    responses[name] = response\n",
        "\n",
        "    # Find out who else wanted to conquer a mountain\n",
        "    repeat = input(\"Would you like to invite your better half to conquer together? (yes / no) \")\n",
        "    if repeat == 'no':\n",
        "        polling = False\n",
        "\n",
        "# Polling is complete. Show the results.\n",
        "print(\"\\n--- Poll Results --\")\n",
        "for name, bukit in responses.items():\n",
        "    print(name + \" would like to climb \" + bukit.title() + \".\")\n",
        "\n",
        "# Print out the final responses dictionary\n",
        "print(\"\\nThe lastest responses library is like this: \")\n",
        "print(responses)"
      ],
      "metadata": {
        "id": "HOGKIOxqrT97",
        "colab": {
          "base_uri": "https://localhost:8080/"
        },
        "outputId": "9a89139d-1434-4524-95c5-3591d903a988"
      },
      "execution_count": 119,
      "outputs": [
        {
          "output_type": "stream",
          "name": "stdout",
          "text": [
            "\n",
            "What is your name? Bernard\n",
            "Which mountain would you like to conquer in near future? kinabalu\n",
            "Would you like to invite your better half to conquer together? (yes / no) yes\n",
            "\n",
            "What is your name? Khairil\n",
            "Which mountain would you like to conquer in near future? Himalaya\n",
            "Would you like to invite your better half to conquer together? (yes / no) yes\n",
            "\n",
            "What is your name? Ica\n",
            "Which mountain would you like to conquer in near future? Machu Picchu\n",
            "Would you like to invite your better half to conquer together? (yes / no) no\n",
            "\n",
            "--- Poll Results --\n",
            "Bernard would like to climb Kinabalu.\n",
            "Khairil would like to climb Himalaya.\n",
            "Ica would like to climb Machu Picchu.\n",
            "\n",
            "The lastest responses library is like this: \n",
            "{'Bernard': 'kinabalu', 'Khairil': 'Himalaya', 'Ica': 'Machu Picchu'}\n"
          ]
        }
      ]
    },
    {
      "cell_type": "code",
      "source": [
        "responses.items()\n"
      ],
      "metadata": {
        "colab": {
          "base_uri": "https://localhost:8080/"
        },
        "id": "UYSFtynpvMGT",
        "outputId": "f271d574-6c5f-41ee-c7f2-324ff49ad633"
      },
      "execution_count": 120,
      "outputs": [
        {
          "output_type": "execute_result",
          "data": {
            "text/plain": [
              "dict_items([('Bernard', 'kinabalu'), ('Khairil', 'Himalaya'), ('Ica', 'Machu Picchu')])"
            ]
          },
          "metadata": {},
          "execution_count": 120
        }
      ]
    },
    {
      "cell_type": "markdown",
      "source": [
        "# **How to get help on the function**"
      ],
      "metadata": {
        "id": "F4MmGggztc9Z"
      }
    },
    {
      "cell_type": "code",
      "source": [
        "# Option 1: Type help() with the function name as argument\n",
        "help(len)"
      ],
      "metadata": {
        "colab": {
          "base_uri": "https://localhost:8080/"
        },
        "id": "pKfCnXrZsdgl",
        "outputId": "bd1f1094-4957-41df-f06c-d50580bc4b43"
      },
      "execution_count": 121,
      "outputs": [
        {
          "output_type": "stream",
          "name": "stdout",
          "text": [
            "Help on built-in function len in module builtins:\n",
            "\n",
            "len(obj, /)\n",
            "    Return the number of items in a container.\n",
            "\n"
          ]
        }
      ]
    },
    {
      "cell_type": "code",
      "source": [
        "# Option 2: Type and function name, ends with the question mark\n",
        "len?"
      ],
      "metadata": {
        "id": "53cb6kZAtLnm"
      },
      "execution_count": 122,
      "outputs": []
    },
    {
      "cell_type": "markdown",
      "source": [
        "# **Good Luck and see you all soon!!!**"
      ],
      "metadata": {
        "id": "sAxav13At1MU"
      }
    }
  ]
}