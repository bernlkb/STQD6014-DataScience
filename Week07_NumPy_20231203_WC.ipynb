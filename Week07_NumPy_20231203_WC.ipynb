{
  "nbformat": 4,
  "nbformat_minor": 0,
  "metadata": {
    "colab": {
      "provenance": [],
      "mount_file_id": "1ts15TeGx3itM3s1ote7W4wPA-nGSNWc_",
      "authorship_tag": "ABX9TyN1npUNdjo1aVEwLOHketBi",
      "include_colab_link": true
    },
    "kernelspec": {
      "name": "python3",
      "display_name": "Python 3"
    },
    "language_info": {
      "name": "python"
    }
  },
  "cells": [
    {
      "cell_type": "markdown",
      "metadata": {
        "id": "view-in-github",
        "colab_type": "text"
      },
      "source": [
        "<a href=\"https://colab.research.google.com/github/bernlkb/STQD6014-DataScience/blob/main/Week07_NumPy_20231203_WC.ipynb\" target=\"_parent\"><img src=\"https://colab.research.google.com/assets/colab-badge.svg\" alt=\"Open In Colab\"/></a>"
      ]
    },
    {
      "cell_type": "markdown",
      "source": [
        "# **Week 07: NumPy: Arrays and Vectorized Computation**\n",
        "Details of codes used in this notebook can be found in this textbook: **Python Data Science Handbook by Jake VanderPlas: https://tinyurl.com/33ha6r7s**"
      ],
      "metadata": {
        "id": "HtBcFHzmnu1S"
      }
    },
    {
      "cell_type": "markdown",
      "source": [
        "### **Start by importing the NumPy library**"
      ],
      "metadata": {
        "id": "LttxL2e9n2dk"
      }
    },
    {
      "cell_type": "code",
      "execution_count": 54,
      "metadata": {
        "id": "EIEOnhO_4yQw"
      },
      "outputs": [],
      "source": [
        "# Load numpy library\n",
        "import numpy as np"
      ]
    },
    {
      "cell_type": "markdown",
      "source": [
        "### **A Python List**"
      ],
      "metadata": {
        "id": "YsZtmMD5pANa"
      }
    },
    {
      "cell_type": "code",
      "source": [
        "# Integer data type\n",
        "L = list(range(10))\n",
        "print(L)\n",
        "type(L)"
      ],
      "metadata": {
        "colab": {
          "base_uri": "https://localhost:8080/"
        },
        "id": "M2pXTDZf5mkK",
        "outputId": "2f0377d4-bb27-4589-ff77-05edb7766714"
      },
      "execution_count": 55,
      "outputs": [
        {
          "output_type": "stream",
          "name": "stdout",
          "text": [
            "[0, 1, 2, 3, 4, 5, 6, 7, 8, 9]\n"
          ]
        },
        {
          "output_type": "execute_result",
          "data": {
            "text/plain": [
              "list"
            ]
          },
          "metadata": {},
          "execution_count": 55
        }
      ]
    },
    {
      "cell_type": "markdown",
      "source": [
        "### **The item in c originally is integer**\n",
        "* because of the ***str() function***, it is changed to string data type"
      ],
      "metadata": {
        "id": "TAuokzrMt-IA"
      }
    },
    {
      "cell_type": "code",
      "source": [
        "# String datatype\n",
        "L2 = [str(c) for c in L]\n",
        "print(L2)\n",
        "\n",
        "# Data type for L2\n",
        "print(type(L2))\n",
        "print('\\n------\\n')\n",
        "print(type(L2[2]))"
      ],
      "metadata": {
        "colab": {
          "base_uri": "https://localhost:8080/"
        },
        "id": "GDLyxxOrOZRH",
        "outputId": "7df9fc59-c243-4dbf-a6c3-45332b048e71"
      },
      "execution_count": 56,
      "outputs": [
        {
          "output_type": "stream",
          "name": "stdout",
          "text": [
            "['0', '1', '2', '3', '4', '5', '6', '7', '8', '9']\n",
            "<class 'list'>\n",
            "\n",
            "------\n",
            "\n",
            "<class 'str'>\n"
          ]
        }
      ]
    },
    {
      "cell_type": "code",
      "source": [
        "# Heterogeneous data type\n",
        "L3 = [True, \"2\", 3.0, 4]\n",
        "\n",
        "# Want to check for each element in the list\n",
        "[type(item) for item in L3]"
      ],
      "metadata": {
        "colab": {
          "base_uri": "https://localhost:8080/"
        },
        "id": "aLG7BpSWOkVk",
        "outputId": "b44413cc-eb54-4b5d-f2fd-ad958f3e4c96"
      },
      "execution_count": 57,
      "outputs": [
        {
          "output_type": "execute_result",
          "data": {
            "text/plain": [
              "[bool, str, float, int]"
            ]
          },
          "metadata": {},
          "execution_count": 57
        }
      ]
    },
    {
      "cell_type": "markdown",
      "source": [
        "# **Exercise 1: Creating Arrays from Python Lists**"
      ],
      "metadata": {
        "id": "LqcKYW4FqhsF"
      }
    },
    {
      "cell_type": "code",
      "source": [
        "# Create arrays from NumPy lists\n",
        "np.array([1, 4, 2, 5, 3])"
      ],
      "metadata": {
        "colab": {
          "base_uri": "https://localhost:8080/"
        },
        "id": "fArZpnH-Pubd",
        "outputId": "2a3123ce-bf4c-4fdc-da76-6da6e2e6db4a"
      },
      "execution_count": 58,
      "outputs": [
        {
          "output_type": "execute_result",
          "data": {
            "text/plain": [
              "array([1, 4, 2, 5, 3])"
            ]
          },
          "metadata": {},
          "execution_count": 58
        }
      ]
    },
    {
      "cell_type": "markdown",
      "source": [
        "## **NumPy is constrained to <font color='red'>arrays</font> that all contain the <font color='red'>same data type</font>.**"
      ],
      "metadata": {
        "id": "vFxXsDqxetMH"
      }
    },
    {
      "cell_type": "code",
      "source": [
        "# Integers are upcast to floating point!\n",
        "np.array([3.14, 5, 9, 111])"
      ],
      "metadata": {
        "colab": {
          "base_uri": "https://localhost:8080/"
        },
        "id": "ZUm0oriQUvVr",
        "outputId": "ec884478-57d1-4d6b-d98d-10275a6d8966"
      },
      "execution_count": 59,
      "outputs": [
        {
          "output_type": "execute_result",
          "data": {
            "text/plain": [
              "array([  3.14,   5.  ,   9.  , 111.  ])"
            ]
          },
          "metadata": {},
          "execution_count": 59
        }
      ]
    },
    {
      "cell_type": "code",
      "source": [
        "# Set explicitly the data type we want\n",
        "np.array([1, 2, 3, 4], dtype='float32')"
      ],
      "metadata": {
        "colab": {
          "base_uri": "https://localhost:8080/"
        },
        "id": "F8eL0ktkU7iH",
        "outputId": "e40abbb0-0c0b-4c93-e53f-3a0a7cef1189"
      },
      "execution_count": 60,
      "outputs": [
        {
          "output_type": "execute_result",
          "data": {
            "text/plain": [
              "array([1., 2., 3., 4.], dtype=float32)"
            ]
          },
          "metadata": {},
          "execution_count": 60
        }
      ]
    },
    {
      "cell_type": "markdown",
      "source": [
        "## **Exercise 2: Creating Arrays from Scratch**"
      ],
      "metadata": {
        "id": "L0tIQcoosJUo"
      }
    },
    {
      "cell_type": "code",
      "source": [
        "# Create a length-10 integer array filled with zeros\n",
        "np.zeros(10, dtype = 'float32')"
      ],
      "metadata": {
        "colab": {
          "base_uri": "https://localhost:8080/"
        },
        "id": "xfUhpYANWH_O",
        "outputId": "cef55ae5-b37d-4e6d-e080-d4419dd26b9f"
      },
      "execution_count": 61,
      "outputs": [
        {
          "output_type": "execute_result",
          "data": {
            "text/plain": [
              "array([0., 0., 0., 0., 0., 0., 0., 0., 0., 0.], dtype=float32)"
            ]
          },
          "metadata": {},
          "execution_count": 61
        }
      ]
    },
    {
      "cell_type": "markdown",
      "source": [
        "## **Exercise 3: Create a 3 x 5 string array filled with ones**"
      ],
      "metadata": {
        "id": "dbJl4L5kgODy"
      }
    },
    {
      "cell_type": "code",
      "source": [
        "# Create a 3 x 5 array\n",
        "np.ones((3, 5), dtype=str)"
      ],
      "metadata": {
        "colab": {
          "base_uri": "https://localhost:8080/"
        },
        "id": "pZdXo46AXhul",
        "outputId": "8daa406f-cfe6-4ffa-9af1-eb158e5c9926"
      },
      "execution_count": 62,
      "outputs": [
        {
          "output_type": "execute_result",
          "data": {
            "text/plain": [
              "array([['1', '1', '1', '1', '1'],\n",
              "       ['1', '1', '1', '1', '1'],\n",
              "       ['1', '1', '1', '1', '1']], dtype='<U1')"
            ]
          },
          "metadata": {},
          "execution_count": 62
        }
      ]
    },
    {
      "cell_type": "markdown",
      "source": [
        "## **Exercise 4: Create a 3 x 5 array filled with 3.14**"
      ],
      "metadata": {
        "id": "A8LiYpm0gvo_"
      }
    },
    {
      "cell_type": "code",
      "source": [
        "# Create a 3 x 4 array\n",
        "np.full((3, 5), 3.14)"
      ],
      "metadata": {
        "colab": {
          "base_uri": "https://localhost:8080/"
        },
        "id": "krNk6Ho4X-j4",
        "outputId": "cd23d599-bc43-4657-9c3a-c7cf1912d7f9"
      },
      "execution_count": 63,
      "outputs": [
        {
          "output_type": "execute_result",
          "data": {
            "text/plain": [
              "array([[3.14, 3.14, 3.14, 3.14, 3.14],\n",
              "       [3.14, 3.14, 3.14, 3.14, 3.14],\n",
              "       [3.14, 3.14, 3.14, 3.14, 3.14]])"
            ]
          },
          "metadata": {},
          "execution_count": 63
        }
      ]
    },
    {
      "cell_type": "markdown",
      "source": [
        "# **Exercise 5: Create an array filled with linear sequence**"
      ],
      "metadata": {
        "id": "qDRH9gnNg-8q"
      }
    },
    {
      "cell_type": "code",
      "source": [
        "# Create an array filled with linear sequence\n",
        "# Starting at 0, ending at 20 (excluding), skipping by 2\n",
        "np.arange(0, 20, 3)"
      ],
      "metadata": {
        "colab": {
          "base_uri": "https://localhost:8080/"
        },
        "id": "ISEN0P5WYMAI",
        "outputId": "85e0f5d1-ded5-4e25-f70b-fc9d566c3173"
      },
      "execution_count": 64,
      "outputs": [
        {
          "output_type": "execute_result",
          "data": {
            "text/plain": [
              "array([ 0,  3,  6,  9, 12, 15, 18])"
            ]
          },
          "metadata": {},
          "execution_count": 64
        }
      ]
    },
    {
      "cell_type": "markdown",
      "source": [
        "# **Exercise 6: Create an array evenly spaced values**\n",
        "* ***linspace()*** - generates linearly spaced vectors"
      ],
      "metadata": {
        "id": "hET3MP9ZhI2B"
      }
    },
    {
      "cell_type": "code",
      "source": [
        "# Create an array of five values evenly spaced between 0 and 1\n",
        "# linspace - generates linearly spaced vectors\n",
        "np.linspace(0, 1, 8)"
      ],
      "metadata": {
        "colab": {
          "base_uri": "https://localhost:8080/"
        },
        "id": "0RS4u92rY6Ot",
        "outputId": "71ce86f0-fba6-45e5-a165-37b7b761c766"
      },
      "execution_count": 65,
      "outputs": [
        {
          "output_type": "execute_result",
          "data": {
            "text/plain": [
              "array([0.        , 0.14285714, 0.28571429, 0.42857143, 0.57142857,\n",
              "       0.71428571, 0.85714286, 1.        ])"
            ]
          },
          "metadata": {},
          "execution_count": 65
        }
      ]
    },
    {
      "cell_type": "markdown",
      "source": [
        "# **Exercise 7: Create a 3 x 3 uniformly distributed array**"
      ],
      "metadata": {
        "id": "j-xslgUbhZ3k"
      }
    },
    {
      "cell_type": "code",
      "source": [
        "# Create a 3 x 3 uniformly distributed array\n",
        "# Random values between 0 and 1\n",
        "np.random.random((3, 3))"
      ],
      "metadata": {
        "colab": {
          "base_uri": "https://localhost:8080/"
        },
        "id": "0POHVr2BZMwk",
        "outputId": "37189d65-1a46-4063-b87e-03d887692c1b"
      },
      "execution_count": 66,
      "outputs": [
        {
          "output_type": "execute_result",
          "data": {
            "text/plain": [
              "array([[0.32647527, 0.35999236, 0.60870494],\n",
              "       [0.97111184, 0.46839139, 0.18826466],\n",
              "       [0.10382372, 0.84815937, 0.36498482]])"
            ]
          },
          "metadata": {},
          "execution_count": 66
        }
      ]
    },
    {
      "cell_type": "markdown",
      "source": [
        "# **Exercise 8: Create a 3 x 3 array of normally distributed random values**"
      ],
      "metadata": {
        "id": "PD2eB3GuhvB-"
      }
    },
    {
      "cell_type": "code",
      "source": [
        "# Create a 3x3 array of normally distributed random values\n",
        "# with mean 0 and standard deviation 1\n",
        "np.random.normal(0, 1, (3, 3))"
      ],
      "metadata": {
        "colab": {
          "base_uri": "https://localhost:8080/"
        },
        "id": "Vgv9ZgVeZd7Y",
        "outputId": "3171d61b-ba68-48d9-a04b-e1ba1de3e48f"
      },
      "execution_count": 67,
      "outputs": [
        {
          "output_type": "execute_result",
          "data": {
            "text/plain": [
              "array([[-0.48527732, -0.40736959,  1.14469135],\n",
              "       [ 0.45805799,  1.43939467, -1.02930421],\n",
              "       [-0.11507353, -0.15026557, -1.61270807]])"
            ]
          },
          "metadata": {},
          "execution_count": 67
        }
      ]
    },
    {
      "cell_type": "markdown",
      "source": [
        "# **Exercise 9: Create a 3x3 array of random integers in the interval [0, 10)**\n",
        "* **\"[ ]\"** is inclusive\n",
        "* **\"( )\"** is exclusive"
      ],
      "metadata": {
        "id": "25SbEme0h756"
      }
    },
    {
      "cell_type": "code",
      "source": [
        "# Create a 3x3 array of random integers in the interval [0, 10)\n",
        "np.random.randint(0, 10, (3, 3))"
      ],
      "metadata": {
        "colab": {
          "base_uri": "https://localhost:8080/"
        },
        "id": "kv1FuWK3ZuM7",
        "outputId": "f36f0029-186c-4734-ee52-3c7bf2f5acfb"
      },
      "execution_count": 68,
      "outputs": [
        {
          "output_type": "execute_result",
          "data": {
            "text/plain": [
              "array([[7, 2, 1],\n",
              "       [1, 8, 1],\n",
              "       [2, 2, 0]])"
            ]
          },
          "metadata": {},
          "execution_count": 68
        }
      ]
    },
    {
      "cell_type": "code",
      "source": [
        "# Use random.uniform() function to create random float number\n",
        "np.random.uniform(3, 5, (3, 3))"
      ],
      "metadata": {
        "colab": {
          "base_uri": "https://localhost:8080/"
        },
        "id": "IK1fGNjGzFVF",
        "outputId": "a13a9fe3-845c-45c0-d9ad-bb7d275f1ebc"
      },
      "execution_count": 69,
      "outputs": [
        {
          "output_type": "execute_result",
          "data": {
            "text/plain": [
              "array([[3.98509373, 3.07547329, 4.21443994],\n",
              "       [4.45210494, 4.85869351, 4.10203932],\n",
              "       [4.31912608, 4.26213131, 4.70939845]])"
            ]
          },
          "metadata": {},
          "execution_count": 69
        }
      ]
    },
    {
      "cell_type": "markdown",
      "source": [
        "## **If we want a random float number, we need to use ***random.uniform()*** function of NumPy**![data-frame-axes.png](data:image/png;base64,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)"
      ],
      "metadata": {
        "id": "7BfQbMCKzMIb"
      }
    },
    {
      "cell_type": "markdown",
      "source": [
        "### **NumPy Array Attributes**"
      ],
      "metadata": {
        "id": "yFbg4lFwwVvB"
      }
    },
    {
      "cell_type": "markdown",
      "source": [
        "## **Set the seed number for reproducibility**"
      ],
      "metadata": {
        "id": "2SLKLR9mewiO"
      }
    },
    {
      "cell_type": "code",
      "source": [
        "# Set the seed number for reproducibility\n",
        "np.random.seed(1957)\n",
        "\n",
        "x1 = np.random.randint(10, size = 6) # 1D array\n",
        "x2 = np.random.randint(10, size = (3, 4)) # 2D array\n",
        "x3 = np.random.randint(10, size = (3, 4, 5)) # 3D array"
      ],
      "metadata": {
        "id": "0FM2OpJMaQT6"
      },
      "execution_count": 70,
      "outputs": []
    },
    {
      "cell_type": "code",
      "source": [
        "# Print x1\n",
        "x1"
      ],
      "metadata": {
        "colab": {
          "base_uri": "https://localhost:8080/"
        },
        "id": "k1IG2LbmzoyJ",
        "outputId": "aed6126a-044c-41b4-e454-d199a766d4fb"
      },
      "execution_count": 71,
      "outputs": [
        {
          "output_type": "execute_result",
          "data": {
            "text/plain": [
              "array([9, 1, 7, 4, 7, 2])"
            ]
          },
          "metadata": {},
          "execution_count": 71
        }
      ]
    },
    {
      "cell_type": "code",
      "source": [
        "# Print x2\n",
        "x2"
      ],
      "metadata": {
        "colab": {
          "base_uri": "https://localhost:8080/"
        },
        "id": "3Wk0uJwAzzkQ",
        "outputId": "a3ff7cde-936d-44b6-8f5c-e253dae1cb9e"
      },
      "execution_count": 72,
      "outputs": [
        {
          "output_type": "execute_result",
          "data": {
            "text/plain": [
              "array([[0, 4, 5, 7],\n",
              "       [7, 7, 2, 4],\n",
              "       [7, 1, 2, 0]])"
            ]
          },
          "metadata": {},
          "execution_count": 72
        }
      ]
    },
    {
      "cell_type": "markdown",
      "source": [
        "![numpy_3D.png](data:image/png;base64,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)"
      ],
      "metadata": {
        "id": "4wqiTunui6Gp"
      }
    },
    {
      "cell_type": "code",
      "source": [
        "# Print x3 -> 3D array\n",
        "x3"
      ],
      "metadata": {
        "colab": {
          "base_uri": "https://localhost:8080/"
        },
        "id": "_6Zd2tHbz1rI",
        "outputId": "77b0c087-5352-4f95-d22f-5102e6593d9a"
      },
      "execution_count": 73,
      "outputs": [
        {
          "output_type": "execute_result",
          "data": {
            "text/plain": [
              "array([[[9, 3, 3, 4, 3],\n",
              "        [0, 0, 9, 1, 5],\n",
              "        [7, 6, 0, 8, 1],\n",
              "        [7, 3, 8, 3, 3]],\n",
              "\n",
              "       [[2, 1, 2, 2, 6],\n",
              "        [8, 4, 1, 3, 7],\n",
              "        [0, 2, 1, 2, 6],\n",
              "        [3, 8, 3, 6, 4]],\n",
              "\n",
              "       [[9, 4, 2, 9, 6],\n",
              "        [8, 7, 8, 8, 7],\n",
              "        [0, 6, 4, 4, 2],\n",
              "        [2, 9, 7, 5, 7]]])"
            ]
          },
          "metadata": {},
          "execution_count": 73
        }
      ]
    },
    {
      "cell_type": "markdown",
      "source": [
        "## **Each array has attributes *ndim()* (the number of dimensions), *shape()* (the size of each dimension), and *size()* (the total size of the array)**"
      ],
      "metadata": {
        "id": "RihDJ_oTwdyw"
      }
    },
    {
      "cell_type": "code",
      "source": [
        "# Check attributes of the array x3\n",
        "print('x3 ndim: ', x3.ndim)\n",
        "print('x3 shape: ', x3.shape)\n",
        "print('x3 size: ', x3.size)"
      ],
      "metadata": {
        "colab": {
          "base_uri": "https://localhost:8080/"
        },
        "id": "W4v_P0F9bhnl",
        "outputId": "3e0f2fa1-d7b2-468f-8dcb-8da2bf9de0ce"
      },
      "execution_count": 74,
      "outputs": [
        {
          "output_type": "stream",
          "name": "stdout",
          "text": [
            "x3 ndim:  3\n",
            "x3 shape:  (3, 4, 5)\n",
            "x3 size:  60\n"
          ]
        }
      ]
    },
    {
      "cell_type": "code",
      "source": [
        "# Check attributes of the array\n",
        "x1"
      ],
      "metadata": {
        "colab": {
          "base_uri": "https://localhost:8080/"
        },
        "id": "AIlhTexEbw8i",
        "outputId": "9fc2f14a-4e1b-4a10-bd70-105de8501f5d"
      },
      "execution_count": 75,
      "outputs": [
        {
          "output_type": "execute_result",
          "data": {
            "text/plain": [
              "array([9, 1, 7, 4, 7, 2])"
            ]
          },
          "metadata": {},
          "execution_count": 75
        }
      ]
    },
    {
      "cell_type": "code",
      "source": [
        "# Check attributes of the array\n",
        "x2"
      ],
      "metadata": {
        "colab": {
          "base_uri": "https://localhost:8080/"
        },
        "id": "IObSuiG4b-T_",
        "outputId": "83ed2073-7cc3-42ae-8b39-88d8c9634cb1"
      },
      "execution_count": 76,
      "outputs": [
        {
          "output_type": "execute_result",
          "data": {
            "text/plain": [
              "array([[0, 4, 5, 7],\n",
              "       [7, 7, 2, 4],\n",
              "       [7, 1, 2, 0]])"
            ]
          },
          "metadata": {},
          "execution_count": 76
        }
      ]
    },
    {
      "cell_type": "code",
      "source": [
        "# Check attributes of the array\n",
        "x3"
      ],
      "metadata": {
        "colab": {
          "base_uri": "https://localhost:8080/"
        },
        "id": "UMyvrSxvcEAU",
        "outputId": "2ea8c5aa-c000-4566-e0b1-e2770aa47ee2"
      },
      "execution_count": 77,
      "outputs": [
        {
          "output_type": "execute_result",
          "data": {
            "text/plain": [
              "array([[[9, 3, 3, 4, 3],\n",
              "        [0, 0, 9, 1, 5],\n",
              "        [7, 6, 0, 8, 1],\n",
              "        [7, 3, 8, 3, 3]],\n",
              "\n",
              "       [[2, 1, 2, 2, 6],\n",
              "        [8, 4, 1, 3, 7],\n",
              "        [0, 2, 1, 2, 6],\n",
              "        [3, 8, 3, 6, 4]],\n",
              "\n",
              "       [[9, 4, 2, 9, 6],\n",
              "        [8, 7, 8, 8, 7],\n",
              "        [0, 6, 4, 4, 2],\n",
              "        [2, 9, 7, 5, 7]]])"
            ]
          },
          "metadata": {},
          "execution_count": 77
        }
      ]
    },
    {
      "cell_type": "markdown",
      "source": [
        "## **Exercise 13: Array Indexing: Accessing Single Elements**"
      ],
      "metadata": {
        "id": "jgtjidBsxG9x"
      }
    },
    {
      "cell_type": "code",
      "source": [
        "# Output the list\n",
        "x1"
      ],
      "metadata": {
        "colab": {
          "base_uri": "https://localhost:8080/"
        },
        "id": "WCxM9w8pdKr_",
        "outputId": "06b6d4fa-6a91-428d-ca69-c800bde14a3c"
      },
      "execution_count": 78,
      "outputs": [
        {
          "output_type": "execute_result",
          "data": {
            "text/plain": [
              "array([9, 1, 7, 4, 7, 2])"
            ]
          },
          "metadata": {},
          "execution_count": 78
        }
      ]
    },
    {
      "cell_type": "code",
      "source": [
        "# Accessing single element\n",
        "x1[3]"
      ],
      "metadata": {
        "colab": {
          "base_uri": "https://localhost:8080/"
        },
        "id": "6MJa_tNjd2Ge",
        "outputId": "c1bdcd39-0b2b-4eed-e34d-3f57b58fa667"
      },
      "execution_count": 79,
      "outputs": [
        {
          "output_type": "execute_result",
          "data": {
            "text/plain": [
              "4"
            ]
          },
          "metadata": {},
          "execution_count": 79
        }
      ]
    },
    {
      "cell_type": "code",
      "source": [
        "# Accessing single element\n",
        "x1[0]"
      ],
      "metadata": {
        "colab": {
          "base_uri": "https://localhost:8080/"
        },
        "id": "avvZlRemeB28",
        "outputId": "8ac7c9d1-5d7a-4c19-e8e7-11a7ddfc4165"
      },
      "execution_count": 80,
      "outputs": [
        {
          "output_type": "execute_result",
          "data": {
            "text/plain": [
              "9"
            ]
          },
          "metadata": {},
          "execution_count": 80
        }
      ]
    },
    {
      "cell_type": "code",
      "source": [
        "# Accessing single element: : Negative indexing\n",
        "x1[-3]"
      ],
      "metadata": {
        "colab": {
          "base_uri": "https://localhost:8080/"
        },
        "id": "Va9aOwVQeCsj",
        "outputId": "6bcbd6fb-576a-4328-886f-94edd7c51593"
      },
      "execution_count": 81,
      "outputs": [
        {
          "output_type": "execute_result",
          "data": {
            "text/plain": [
              "4"
            ]
          },
          "metadata": {},
          "execution_count": 81
        }
      ]
    },
    {
      "cell_type": "code",
      "source": [
        "# Accessing single element: Negative indexing\n",
        "x1[-5]"
      ],
      "metadata": {
        "colab": {
          "base_uri": "https://localhost:8080/"
        },
        "id": "kobne9PJeItu",
        "outputId": "ed12ae19-7720-43de-ed19-617b42f932b6"
      },
      "execution_count": 82,
      "outputs": [
        {
          "output_type": "execute_result",
          "data": {
            "text/plain": [
              "1"
            ]
          },
          "metadata": {},
          "execution_count": 82
        }
      ]
    },
    {
      "cell_type": "code",
      "source": [
        "# Output x2 list\n",
        "x2"
      ],
      "metadata": {
        "colab": {
          "base_uri": "https://localhost:8080/"
        },
        "id": "_t8M3KH8eK2P",
        "outputId": "603364ff-b3b7-4008-a621-6b24946dc74f"
      },
      "execution_count": 83,
      "outputs": [
        {
          "output_type": "execute_result",
          "data": {
            "text/plain": [
              "array([[0, 4, 5, 7],\n",
              "       [7, 7, 2, 4],\n",
              "       [7, 1, 2, 0]])"
            ]
          },
          "metadata": {},
          "execution_count": 83
        }
      ]
    },
    {
      "cell_type": "code",
      "source": [
        "# Acessing single element in 2D array\n",
        "x2[0, 3]"
      ],
      "metadata": {
        "colab": {
          "base_uri": "https://localhost:8080/"
        },
        "id": "yZKtW0HbeNz3",
        "outputId": "fb135251-5c74-447c-e4df-5f4f0adc242d"
      },
      "execution_count": 85,
      "outputs": [
        {
          "output_type": "execute_result",
          "data": {
            "text/plain": [
              "7"
            ]
          },
          "metadata": {},
          "execution_count": 85
        }
      ]
    },
    {
      "cell_type": "code",
      "source": [
        "# Acessing single element in 2D array: using negative indexing\n",
        "x2[-1, -2]"
      ],
      "metadata": {
        "colab": {
          "base_uri": "https://localhost:8080/"
        },
        "id": "Ida44H7XeT_V",
        "outputId": "d1722422-886a-443f-d77d-048bb9258c97"
      },
      "execution_count": 86,
      "outputs": [
        {
          "output_type": "execute_result",
          "data": {
            "text/plain": [
              "2"
            ]
          },
          "metadata": {},
          "execution_count": 86
        }
      ]
    },
    {
      "cell_type": "code",
      "source": [
        "# Change the value in 2D array\n",
        "# Change the number 2 to 32\n",
        "x2[1, 2] = 32\n",
        "x2"
      ],
      "metadata": {
        "colab": {
          "base_uri": "https://localhost:8080/"
        },
        "id": "8Lc-ShsEeXtw",
        "outputId": "9fb9d0d8-ca51-4675-bf42-754a41c0f456"
      },
      "execution_count": 88,
      "outputs": [
        {
          "output_type": "execute_result",
          "data": {
            "text/plain": [
              "array([[ 0,  4,  5,  7],\n",
              "       [ 7,  7, 32,  4],\n",
              "       [ 7,  1,  2,  0]])"
            ]
          },
          "metadata": {},
          "execution_count": 88
        }
      ]
    },
    {
      "cell_type": "code",
      "source": [
        "# Output x1\n",
        "x1"
      ],
      "metadata": {
        "colab": {
          "base_uri": "https://localhost:8080/"
        },
        "id": "Vt7AKQyW13NO",
        "outputId": "74c3e1f6-bd98-4716-aece-6d6cbbb4343f"
      },
      "execution_count": 89,
      "outputs": [
        {
          "output_type": "execute_result",
          "data": {
            "text/plain": [
              "array([9, 1, 7, 4, 7, 2])"
            ]
          },
          "metadata": {},
          "execution_count": 89
        }
      ]
    },
    {
      "cell_type": "code",
      "source": [
        "# NumPy arrays have a fixed type\n",
        "# Inserting a floating-point value to an integer array will be silently truncated\n",
        "x1[0] = 3.14159\n",
        "x1"
      ],
      "metadata": {
        "id": "3Tf9YzKHebBP",
        "colab": {
          "base_uri": "https://localhost:8080/"
        },
        "outputId": "ee3ca497-71af-4761-91f7-26f032c8515d"
      },
      "execution_count": 90,
      "outputs": [
        {
          "output_type": "execute_result",
          "data": {
            "text/plain": [
              "array([3, 1, 7, 4, 7, 2])"
            ]
          },
          "metadata": {},
          "execution_count": 90
        }
      ]
    },
    {
      "cell_type": "markdown",
      "source": [
        "# **Exercise 14: one-dimentional subarray**"
      ],
      "metadata": {
        "id": "h65-Ldsug-al"
      }
    },
    {
      "cell_type": "code",
      "source": [
        "# NumPy arange - array range\n",
        "x = np.arange(10)\n",
        "x"
      ],
      "metadata": {
        "colab": {
          "base_uri": "https://localhost:8080/"
        },
        "id": "EpcGcul6eokW",
        "outputId": "1714c22e-a34a-4af4-b2f2-6dc5e6896926"
      },
      "execution_count": 91,
      "outputs": [
        {
          "output_type": "execute_result",
          "data": {
            "text/plain": [
              "array([0, 1, 2, 3, 4, 5, 6, 7, 8, 9])"
            ]
          },
          "metadata": {},
          "execution_count": 91
        }
      ]
    },
    {
      "cell_type": "code",
      "source": [
        "# NumPy slicing\n",
        "x[4:7]"
      ],
      "metadata": {
        "colab": {
          "base_uri": "https://localhost:8080/"
        },
        "id": "jTSI_59HfUe3",
        "outputId": "afc1b552-8599-467f-ca26-3fd8a6aeaad1"
      },
      "execution_count": 93,
      "outputs": [
        {
          "output_type": "execute_result",
          "data": {
            "text/plain": [
              "array([4, 5, 6])"
            ]
          },
          "metadata": {},
          "execution_count": 93
        }
      ]
    },
    {
      "cell_type": "code",
      "source": [
        "# Every other element\n",
        "x[::4]"
      ],
      "metadata": {
        "colab": {
          "base_uri": "https://localhost:8080/"
        },
        "id": "rek6xbiSfYFz",
        "outputId": "43710e36-9704-455a-997d-7d806b66cf34"
      },
      "execution_count": 94,
      "outputs": [
        {
          "output_type": "execute_result",
          "data": {
            "text/plain": [
              "array([0, 4, 8])"
            ]
          },
          "metadata": {},
          "execution_count": 94
        }
      ]
    },
    {
      "cell_type": "code",
      "source": [
        "# Every other element, starting at index 1\n",
        "print(x)\n",
        "x[1::2]"
      ],
      "metadata": {
        "colab": {
          "base_uri": "https://localhost:8080/"
        },
        "id": "_WN1k-IEfb1s",
        "outputId": "112378ce-c7a8-4991-aaf8-d9a8c4a0417e"
      },
      "execution_count": 97,
      "outputs": [
        {
          "output_type": "stream",
          "name": "stdout",
          "text": [
            "[0 1 2 3 4 5 6 7 8 9]\n"
          ]
        },
        {
          "output_type": "execute_result",
          "data": {
            "text/plain": [
              "array([1, 3, 5, 7, 9])"
            ]
          },
          "metadata": {},
          "execution_count": 97
        }
      ]
    },
    {
      "cell_type": "code",
      "source": [
        "# All elements, reversed\n",
        "x[::-2]"
      ],
      "metadata": {
        "colab": {
          "base_uri": "https://localhost:8080/"
        },
        "id": "3Y6QD5ppfiP9",
        "outputId": "76ca89ed-72a5-4fe0-d194-4e0d61990ce9"
      },
      "execution_count": 98,
      "outputs": [
        {
          "output_type": "execute_result",
          "data": {
            "text/plain": [
              "array([9, 7, 5, 3, 1])"
            ]
          },
          "metadata": {},
          "execution_count": 98
        }
      ]
    },
    {
      "cell_type": "code",
      "source": [
        "# Reversed every other from index 5\n",
        "# Use negative indexing\n",
        "print('Hasanah: '+ str(x[-5::-2]))\n",
        "print('Suraya: '+ str(x[5::-2]))"
      ],
      "metadata": {
        "colab": {
          "base_uri": "https://localhost:8080/"
        },
        "id": "8BSQB-ZHfruU",
        "outputId": "8bb39020-081e-43c4-e930-a97ef53dab1d"
      },
      "execution_count": 101,
      "outputs": [
        {
          "output_type": "stream",
          "name": "stdout",
          "text": [
            "Hasanah: [5 3 1]\n",
            "Suraya: [5 3 1]\n"
          ]
        }
      ]
    },
    {
      "cell_type": "markdown",
      "source": [
        "## **Exercise 15: Multi-dimensional subarrays**"
      ],
      "metadata": {
        "id": "iAKjOTYeiJSo"
      }
    },
    {
      "cell_type": "code",
      "source": [
        "# Multi-dimensional subarrays\n",
        "print(x2)\n",
        "print('\\n----------------\\n')\n",
        "x2[:2, :3]"
      ],
      "metadata": {
        "colab": {
          "base_uri": "https://localhost:8080/"
        },
        "id": "tNzT_Cyff-Yc",
        "outputId": "5f9935de-791f-4d86-a336-5bac15c7bb65"
      },
      "execution_count": 104,
      "outputs": [
        {
          "output_type": "stream",
          "name": "stdout",
          "text": [
            "[[ 0  4  5  7]\n",
            " [ 7  7 32  4]\n",
            " [ 7  1  2  0]]\n",
            "\n",
            "----------------\n",
            "\n"
          ]
        },
        {
          "output_type": "execute_result",
          "data": {
            "text/plain": [
              "array([[ 0,  4,  5],\n",
              "       [ 7,  7, 32]])"
            ]
          },
          "metadata": {},
          "execution_count": 104
        }
      ]
    },
    {
      "cell_type": "code",
      "source": [
        "# 2D array indexing, skip of two\n",
        "x2[:3, ::2]"
      ],
      "metadata": {
        "colab": {
          "base_uri": "https://localhost:8080/"
        },
        "id": "8d611-c6hJ0E",
        "outputId": "24f6334b-304e-4285-e749-6ba4991b7956"
      },
      "execution_count": 105,
      "outputs": [
        {
          "output_type": "execute_result",
          "data": {
            "text/plain": [
              "array([[ 0,  5],\n",
              "       [ 7, 32],\n",
              "       [ 7,  2]])"
            ]
          },
          "metadata": {},
          "execution_count": 105
        }
      ]
    },
    {
      "cell_type": "code",
      "source": [
        "# 2D array indexing\n",
        "# Everything reverse\n",
        "print(x2)\n",
        "print('\\n-------------\\n')\n",
        "print('Azlin:' + str(x2[:3, ::-1]))\n",
        "print('\\n-------------\\n')\n",
        "x2[::-1 , ::-1]"
      ],
      "metadata": {
        "colab": {
          "base_uri": "https://localhost:8080/"
        },
        "id": "oUZsX7JkhYb-",
        "outputId": "4de7627e-9c2c-4cb1-bcde-3b7fe395ec89"
      },
      "execution_count": 109,
      "outputs": [
        {
          "output_type": "stream",
          "name": "stdout",
          "text": [
            "[[ 0  4  5  7]\n",
            " [ 7  7 32  4]\n",
            " [ 7  1  2  0]]\n",
            "\n",
            "-------------\n",
            "\n",
            "Azlin:[[ 7  5  4  0]\n",
            " [ 4 32  7  7]\n",
            " [ 0  2  1  7]]\n",
            "\n",
            "-------------\n",
            "\n"
          ]
        },
        {
          "output_type": "execute_result",
          "data": {
            "text/plain": [
              "array([[ 0,  2,  1,  7],\n",
              "       [ 4, 32,  7,  7],\n",
              "       [ 7,  5,  4,  0]])"
            ]
          },
          "metadata": {},
          "execution_count": 109
        }
      ]
    },
    {
      "cell_type": "markdown",
      "source": [
        "***Accessing array rows and columns***"
      ],
      "metadata": {
        "id": "UvscddROzmEw"
      }
    },
    {
      "cell_type": "code",
      "source": [
        "# Output x2\n",
        "x2"
      ],
      "metadata": {
        "colab": {
          "base_uri": "https://localhost:8080/"
        },
        "id": "xWb-W3b17H4f",
        "outputId": "6ac927a6-643b-4f4f-e3e9-4f08473f9301"
      },
      "execution_count": 110,
      "outputs": [
        {
          "output_type": "execute_result",
          "data": {
            "text/plain": [
              "array([[ 0,  4,  5,  7],\n",
              "       [ 7,  7, 32,  4],\n",
              "       [ 7,  1,  2,  0]])"
            ]
          },
          "metadata": {},
          "execution_count": 110
        }
      ]
    },
    {
      "cell_type": "code",
      "source": [
        "# first column of x2\n",
        "print(\"Hasanah: \" + str(x2[:3 , :1]))\n",
        "print(\"Anis: \" + str(x2[: , 0]))"
      ],
      "metadata": {
        "colab": {
          "base_uri": "https://localhost:8080/"
        },
        "id": "DDJSGBWkhdA2",
        "outputId": "0a86865b-50e8-4a84-9cb6-a0306756d68c"
      },
      "execution_count": 114,
      "outputs": [
        {
          "output_type": "stream",
          "name": "stdout",
          "text": [
            "Hasanah: [[0]\n",
            " [7]\n",
            " [7]]\n",
            "Anis: [0 7 7]\n"
          ]
        }
      ]
    },
    {
      "cell_type": "code",
      "source": [],
      "metadata": {
        "colab": {
          "base_uri": "https://localhost:8080/"
        },
        "id": "px_IP-4wlSPz",
        "outputId": "ee85c41e-62c1-42f5-8b5d-0c8cb22679fd"
      },
      "execution_count": 118,
      "outputs": [
        {
          "output_type": "execute_result",
          "data": {
            "text/plain": [
              "array([[0, 4, 5, 7]])"
            ]
          },
          "metadata": {},
          "execution_count": 118
        }
      ]
    },
    {
      "cell_type": "code",
      "source": [],
      "metadata": {
        "colab": {
          "base_uri": "https://localhost:8080/"
        },
        "id": "1bs0Ixcflhqi",
        "outputId": "1f6eb27e-72e8-4e14-e39b-6e33a07fb8a4"
      },
      "execution_count": 119,
      "outputs": [
        {
          "output_type": "execute_result",
          "data": {
            "text/plain": [
              "array([0, 4, 5, 7])"
            ]
          },
          "metadata": {},
          "execution_count": 119
        }
      ]
    },
    {
      "cell_type": "code",
      "source": [
        "# First row of x2\n",
        "# Strange behaviour of double brackets\n",
        "print(\"Suraya: \" + str(x2[:1, :])) # extract the data still in 2D form, the output will have double quotation\n",
        "print(\"Another method: \" + str(x2[0, :])) # getting the first row; not in table format anymore"
      ],
      "metadata": {
        "colab": {
          "base_uri": "https://localhost:8080/"
        },
        "id": "uYrjLDqlh4MW",
        "outputId": "24b52130-590b-4ba2-cc76-8626b1b4459b"
      },
      "execution_count": 121,
      "outputs": [
        {
          "output_type": "stream",
          "name": "stdout",
          "text": [
            "Suraya: [[0 4 5 7]]\n",
            "Another method: [0 4 5 7]\n"
          ]
        }
      ]
    },
    {
      "cell_type": "code",
      "source": [
        "# In the case of row access, the empty slice can be omitted for a more compact syntax\n",
        "# Equivalent to x2[0, :]\n",
        "x2[0]"
      ],
      "metadata": {
        "colab": {
          "base_uri": "https://localhost:8080/"
        },
        "id": "CwpA6gkAiClp",
        "outputId": "38b1b34e-432d-4bdb-d787-dff029f3a31d"
      },
      "execution_count": 122,
      "outputs": [
        {
          "output_type": "execute_result",
          "data": {
            "text/plain": [
              "array([0, 4, 5, 7])"
            ]
          },
          "metadata": {},
          "execution_count": 122
        }
      ]
    },
    {
      "cell_type": "markdown",
      "source": [
        "# **Subarrays as no-copy views**\n",
        "\n",
        "Python view - ***not a NumPy View***"
      ],
      "metadata": {
        "id": "a0TTbV6W0hFO"
      }
    },
    {
      "cell_type": "code",
      "source": [
        "# Output x2\n",
        "x2"
      ],
      "metadata": {
        "colab": {
          "base_uri": "https://localhost:8080/"
        },
        "id": "ZKgPspuYiK-W",
        "outputId": "5210b181-eb4f-4e4e-b0c4-3edfc8e95acb"
      },
      "execution_count": 123,
      "outputs": [
        {
          "output_type": "execute_result",
          "data": {
            "text/plain": [
              "array([[ 0,  4,  5,  7],\n",
              "       [ 7,  7, 32,  4],\n",
              "       [ 7,  1,  2,  0]])"
            ]
          },
          "metadata": {},
          "execution_count": 123
        }
      ]
    },
    {
      "cell_type": "code",
      "source": [
        "# Extract certain data\n",
        "x2_sub = x2[:2, :2]\n",
        "print(x2_sub)"
      ],
      "metadata": {
        "colab": {
          "base_uri": "https://localhost:8080/"
        },
        "id": "5xilqGpHiswd",
        "outputId": "477141f4-134c-4408-ff2d-0df689630d00"
      },
      "execution_count": 124,
      "outputs": [
        {
          "output_type": "stream",
          "name": "stdout",
          "text": [
            "[[0 4]\n",
            " [7 7]]\n"
          ]
        }
      ]
    },
    {
      "cell_type": "code",
      "source": [
        "# Substitute 0 in x2_sub to value 99\n",
        "x2_sub[0, 0] = 99\n",
        "print(x2_sub)"
      ],
      "metadata": {
        "colab": {
          "base_uri": "https://localhost:8080/"
        },
        "id": "sLayvZHEiyA-",
        "outputId": "4df99ab6-3db8-4046-8467-333f6647c0f0"
      },
      "execution_count": 125,
      "outputs": [
        {
          "output_type": "stream",
          "name": "stdout",
          "text": [
            "[[99  4]\n",
            " [ 7  7]]\n"
          ]
        }
      ]
    },
    {
      "cell_type": "code",
      "source": [
        "# Original array is changed!\n",
        "x2"
      ],
      "metadata": {
        "colab": {
          "base_uri": "https://localhost:8080/"
        },
        "id": "XfIvv2D-i7Md",
        "outputId": "867914d9-cf81-4edb-b0bb-293301ff285c"
      },
      "execution_count": 126,
      "outputs": [
        {
          "output_type": "execute_result",
          "data": {
            "text/plain": [
              "array([[99,  4,  5,  7],\n",
              "       [ 7,  7, 32,  4],\n",
              "       [ 7,  1,  2,  0]])"
            ]
          },
          "metadata": {},
          "execution_count": 126
        }
      ]
    },
    {
      "cell_type": "markdown",
      "source": [
        "### **Creating copies of arrays**"
      ],
      "metadata": {
        "id": "wEsfMUrn1sLJ"
      }
    },
    {
      "cell_type": "code",
      "source": [
        "# Explicitly copy the data within an array\n",
        "x2_sub_copy = x2[:2, :2].copy()\n",
        "print(x2_sub_copy)"
      ],
      "metadata": {
        "colab": {
          "base_uri": "https://localhost:8080/"
        },
        "id": "_k9Idwksi_VQ",
        "outputId": "ba69730b-6419-4c9a-b00b-ad3aff177922"
      },
      "execution_count": 127,
      "outputs": [
        {
          "output_type": "stream",
          "name": "stdout",
          "text": [
            "[[99  4]\n",
            " [ 7  7]]\n"
          ]
        }
      ]
    },
    {
      "cell_type": "code",
      "source": [
        "# Change the value 99 to 1957\n",
        "x2_sub_copy[0, 0] = 1957\n",
        "print(x2_sub_copy)"
      ],
      "metadata": {
        "colab": {
          "base_uri": "https://localhost:8080/"
        },
        "id": "Oxvu7s3zjpa3",
        "outputId": "6aa4d057-d9a7-4302-a376-17dcc745fc23"
      },
      "execution_count": 128,
      "outputs": [
        {
          "output_type": "stream",
          "name": "stdout",
          "text": [
            "[[1957    4]\n",
            " [   7    7]]\n"
          ]
        }
      ]
    },
    {
      "cell_type": "code",
      "source": [
        "# The original array stays intact!\n",
        "print(x2)"
      ],
      "metadata": {
        "colab": {
          "base_uri": "https://localhost:8080/"
        },
        "id": "VEVQxY1Hj0G2",
        "outputId": "970e5176-5397-41d6-fd64-db91f85ed4a5"
      },
      "execution_count": 129,
      "outputs": [
        {
          "output_type": "stream",
          "name": "stdout",
          "text": [
            "[[99  4  5  7]\n",
            " [ 7  7 32  4]\n",
            " [ 7  1  2  0]]\n"
          ]
        }
      ]
    },
    {
      "cell_type": "markdown",
      "source": [
        "## **Reshaping of Arrays**"
      ],
      "metadata": {
        "id": "Ye8Y4FWT2ScV"
      }
    },
    {
      "cell_type": "code",
      "source": [
        "# NumPy arange\n",
        "np.arange(1, 10)"
      ],
      "metadata": {
        "colab": {
          "base_uri": "https://localhost:8080/"
        },
        "id": "m5DXnzv89nOq",
        "outputId": "106ee824-0cb6-44f7-f1ea-48c0ea2f4175"
      },
      "execution_count": 130,
      "outputs": [
        {
          "output_type": "execute_result",
          "data": {
            "text/plain": [
              "array([1, 2, 3, 4, 5, 6, 7, 8, 9])"
            ]
          },
          "metadata": {},
          "execution_count": 130
        }
      ]
    },
    {
      "cell_type": "code",
      "source": [
        "# Put the numbers 1 through 9 in a 3×3 grid\n",
        "# reshape() command\n",
        "grid = np.arange(1, 10).reshape(3, 3)\n",
        "grid"
      ],
      "metadata": {
        "colab": {
          "base_uri": "https://localhost:8080/"
        },
        "id": "3rKD1oCKj2Jv",
        "outputId": "08911169-9a6b-4938-d68c-e7897505bed6"
      },
      "execution_count": 133,
      "outputs": [
        {
          "output_type": "execute_result",
          "data": {
            "text/plain": [
              "array([[1, 2, 3],\n",
              "       [4, 5, 6],\n",
              "       [7, 8, 9]])"
            ]
          },
          "metadata": {},
          "execution_count": 133
        }
      ]
    },
    {
      "cell_type": "markdown",
      "source": [
        "# **Dealing with NumPy array**"
      ],
      "metadata": {
        "id": "W1gdhgPJpjzw"
      }
    },
    {
      "cell_type": "code",
      "source": [
        "# Create NumPy array\n",
        "x = np.array([1, 2, 3])"
      ],
      "metadata": {
        "id": "EPqUW5m4kdzH"
      },
      "execution_count": 136,
      "outputs": []
    },
    {
      "cell_type": "code",
      "source": [
        "# Reshape to array of 1 x 3\n",
        "np.array([1, 2, 3]).reshape(3, 1)"
      ],
      "metadata": {
        "colab": {
          "base_uri": "https://localhost:8080/"
        },
        "id": "GCksBvEsmGzO",
        "outputId": "d03ae6f2-686f-46e3-c7f7-21498e38f10c"
      },
      "execution_count": 135,
      "outputs": [
        {
          "output_type": "execute_result",
          "data": {
            "text/plain": [
              "array([[1],\n",
              "       [2],\n",
              "       [3]])"
            ]
          },
          "metadata": {},
          "execution_count": 135
        }
      ]
    },
    {
      "cell_type": "code",
      "source": [
        "# Original x\n",
        "x"
      ],
      "metadata": {
        "colab": {
          "base_uri": "https://localhost:8080/"
        },
        "id": "2grjMOmG_YoC",
        "outputId": "3c05bbe6-d386-4575-83d2-d19caca24f9f"
      },
      "execution_count": 137,
      "outputs": [
        {
          "output_type": "execute_result",
          "data": {
            "text/plain": [
              "array([1, 2, 3])"
            ]
          },
          "metadata": {},
          "execution_count": 137
        }
      ]
    },
    {
      "cell_type": "markdown",
      "source": [
        "## **newaxis - bumped 1D array to 2D array**"
      ],
      "metadata": {
        "id": "t7zzmlpPl6gB"
      }
    },
    {
      "cell_type": "code",
      "source": [
        "# newaxis - bumped 1d array to 2d array\n",
        "# From 1D array to 1x3 array on the row axis\n",
        "# np.newaxis is used to add a new axis to the array\n",
        "# In the context of a 1D array, it effectively converts it into a 2D row vector\n",
        "x[np.newaxis, :]"
      ],
      "metadata": {
        "colab": {
          "base_uri": "https://localhost:8080/"
        },
        "id": "TL6rNJnulG1f",
        "outputId": "3fa93a7e-f0dd-4012-cfba-60d7b1b2d2c4"
      },
      "execution_count": 138,
      "outputs": [
        {
          "output_type": "execute_result",
          "data": {
            "text/plain": [
              "array([[1, 2, 3]])"
            ]
          },
          "metadata": {},
          "execution_count": 138
        }
      ]
    },
    {
      "cell_type": "code",
      "source": [
        "# 3 x 1 array\n",
        "x.reshape(3, 1)"
      ],
      "metadata": {
        "colab": {
          "base_uri": "https://localhost:8080/"
        },
        "id": "flY8_JiJmYVf",
        "outputId": "3394f53f-9ac6-437d-fda2-af65d0912f31"
      },
      "execution_count": 139,
      "outputs": [
        {
          "output_type": "execute_result",
          "data": {
            "text/plain": [
              "array([[1],\n",
              "       [2],\n",
              "       [3]])"
            ]
          },
          "metadata": {},
          "execution_count": 139
        }
      ]
    },
    {
      "cell_type": "code",
      "source": [
        "# Bumped to 2D array on the column axis\n",
        "# Original is 1D array\n",
        "# Becomes 3 x 1 array\n",
        "print(x)\n",
        "print('\\n-------\\n')\n",
        "x[:, np.newaxis]"
      ],
      "metadata": {
        "colab": {
          "base_uri": "https://localhost:8080/"
        },
        "id": "W8fBvqy0mk5g",
        "outputId": "bc7f30c7-ac7e-41bb-dc55-cfa096ec9d48"
      },
      "execution_count": 141,
      "outputs": [
        {
          "output_type": "stream",
          "name": "stdout",
          "text": [
            "[1 2 3]\n",
            "\n",
            "-------\n",
            "\n"
          ]
        },
        {
          "output_type": "execute_result",
          "data": {
            "text/plain": [
              "array([[1],\n",
              "       [2],\n",
              "       [3]])"
            ]
          },
          "metadata": {},
          "execution_count": 141
        }
      ]
    },
    {
      "cell_type": "markdown",
      "source": [
        "## **Array Concatenation and Splitting**"
      ],
      "metadata": {
        "id": "-e5FBxF56Wf7"
      }
    },
    {
      "cell_type": "code",
      "source": [
        "# Concatenation of 1D arrays\n",
        "x = np.array([1, 2, 3])\n",
        "y = np.array([3, 2, 1])\n",
        "np.concatenate([x, y])"
      ],
      "metadata": {
        "colab": {
          "base_uri": "https://localhost:8080/"
        },
        "id": "r7OYfF2bmozr",
        "outputId": "6272e3f8-677f-40d2-c746-8f39d59fd262"
      },
      "execution_count": 142,
      "outputs": [
        {
          "output_type": "execute_result",
          "data": {
            "text/plain": [
              "array([1, 2, 3, 3, 2, 1])"
            ]
          },
          "metadata": {},
          "execution_count": 142
        }
      ]
    },
    {
      "cell_type": "code",
      "source": [
        "# Concatenate\n",
        "z = [99, 99, 99]\n",
        "np.concatenate([x, y, z])"
      ],
      "metadata": {
        "colab": {
          "base_uri": "https://localhost:8080/"
        },
        "id": "_sNKvY5unHim",
        "outputId": "7515ac46-6d61-474f-dde2-755f68cf428b"
      },
      "execution_count": 143,
      "outputs": [
        {
          "output_type": "execute_result",
          "data": {
            "text/plain": [
              "array([ 1,  2,  3,  3,  2,  1, 99, 99, 99])"
            ]
          },
          "metadata": {},
          "execution_count": 143
        }
      ]
    },
    {
      "cell_type": "code",
      "source": [
        "# Two-dimensional arrays\n",
        "# Put in the variable named grid\n",
        "grid = np.array([[1, 2, 3],\n",
        "                 [4, 5, 6]])"
      ],
      "metadata": {
        "id": "PjXYSusknMb4"
      },
      "execution_count": 146,
      "outputs": []
    },
    {
      "cell_type": "code",
      "source": [
        "# concatenate along the first axis\n",
        "np.concatenate([grid, grid])"
      ],
      "metadata": {
        "colab": {
          "base_uri": "https://localhost:8080/"
        },
        "id": "Hn2QjgylnTIi",
        "outputId": "fc50f2fa-8a46-4540-8072-46279e6f8f48"
      },
      "execution_count": 147,
      "outputs": [
        {
          "output_type": "execute_result",
          "data": {
            "text/plain": [
              "array([[1, 2, 3],\n",
              "       [4, 5, 6],\n",
              "       [1, 2, 3],\n",
              "       [4, 5, 6]])"
            ]
          },
          "metadata": {},
          "execution_count": 147
        }
      ]
    },
    {
      "cell_type": "markdown",
      "source": [
        "## axis = 0 -> **running vertically** downwards across rows\n",
        "## axis = 1 -> **running horizontally** across columns"
      ],
      "metadata": {
        "id": "4XDZBKBoF-no"
      }
    },
    {
      "cell_type": "markdown",
      "source": [
        "![numpy-arrays-have-axes_updated_v2.png](data:image/png;base64,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)"
      ],
      "metadata": {
        "id": "NCIsgQ8Xt5l_"
      }
    },
    {
      "cell_type": "markdown",
      "source": [
        "### **For more information about NumPy Axes, please visit this link: https://tinyurl.com/mr2nysky**"
      ],
      "metadata": {
        "id": "2HgP_QxCPsR8"
      }
    },
    {
      "cell_type": "code",
      "source": [
        "# Output grid\n",
        "grid"
      ],
      "metadata": {
        "colab": {
          "base_uri": "https://localhost:8080/"
        },
        "id": "h_nsJTSGB5mD",
        "outputId": "0ad9824a-dbf3-47f3-95b6-be992b11a111"
      },
      "execution_count": 148,
      "outputs": [
        {
          "output_type": "execute_result",
          "data": {
            "text/plain": [
              "array([[1, 2, 3],\n",
              "       [4, 5, 6]])"
            ]
          },
          "metadata": {},
          "execution_count": 148
        }
      ]
    },
    {
      "cell_type": "code",
      "source": [
        "# Concatenate along the axis\n",
        "# axis = 0 -> running vertically downwards across rows\n",
        "# axis = 1 -> running horizontally across columns\n",
        "np.concatenate([grid, grid], axis = 1)"
      ],
      "metadata": {
        "colab": {
          "base_uri": "https://localhost:8080/"
        },
        "id": "DlY8i-oinVz5",
        "outputId": "946fab12-f547-491f-be3a-9f15c1fb7e61"
      },
      "execution_count": 149,
      "outputs": [
        {
          "output_type": "execute_result",
          "data": {
            "text/plain": [
              "array([[1, 2, 3, 1, 2, 3],\n",
              "       [4, 5, 6, 4, 5, 6]])"
            ]
          },
          "metadata": {},
          "execution_count": 149
        }
      ]
    },
    {
      "cell_type": "code",
      "source": [
        "# Vertically stack the arrays\n",
        "x = np.array([1, 2, 3])\n",
        "y = np.array([[9, 8, 7],\n",
        "             [6, 5, 4]])\n",
        "np.vstack([x, y])"
      ],
      "metadata": {
        "colab": {
          "base_uri": "https://localhost:8080/"
        },
        "id": "K1uwNNfonbpQ",
        "outputId": "1cd48d75-ecd5-47d2-df20-37a38ab0c037"
      },
      "execution_count": 151,
      "outputs": [
        {
          "output_type": "execute_result",
          "data": {
            "text/plain": [
              "array([[1, 2, 3],\n",
              "       [9, 8, 7],\n",
              "       [6, 5, 4]])"
            ]
          },
          "metadata": {},
          "execution_count": 151
        }
      ]
    },
    {
      "cell_type": "code",
      "source": [
        "# This one has an error\n",
        "# Array at index 0 has 1 dimension(s) and the array at index 1 has 2 dimension(s)\n",
        "np.concatenate([x, y], axis=0)"
      ],
      "metadata": {
        "colab": {
          "base_uri": "https://localhost:8080/",
          "height": 273
        },
        "id": "B5KHgDz_CV2y",
        "outputId": "29f906df-7de1-4b6d-ffc7-d445c7f2607f"
      },
      "execution_count": 152,
      "outputs": [
        {
          "output_type": "error",
          "ename": "ValueError",
          "evalue": "ignored",
          "traceback": [
            "\u001b[0;31m---------------------------------------------------------------------------\u001b[0m",
            "\u001b[0;31mValueError\u001b[0m                                Traceback (most recent call last)",
            "\u001b[0;32m<ipython-input-152-fc8f8de02f08>\u001b[0m in \u001b[0;36m<cell line: 3>\u001b[0;34m()\u001b[0m\n\u001b[1;32m      1\u001b[0m \u001b[0;31m# This one has an error\u001b[0m\u001b[0;34m\u001b[0m\u001b[0;34m\u001b[0m\u001b[0m\n\u001b[1;32m      2\u001b[0m \u001b[0;31m# Array at index 0 has 1 dimension(s) and the array at index 1 has 2 dimension(s)\u001b[0m\u001b[0;34m\u001b[0m\u001b[0;34m\u001b[0m\u001b[0m\n\u001b[0;32m----> 3\u001b[0;31m \u001b[0mnp\u001b[0m\u001b[0;34m.\u001b[0m\u001b[0mconcatenate\u001b[0m\u001b[0;34m(\u001b[0m\u001b[0;34m[\u001b[0m\u001b[0mx\u001b[0m\u001b[0;34m,\u001b[0m \u001b[0my\u001b[0m\u001b[0;34m]\u001b[0m\u001b[0;34m,\u001b[0m \u001b[0maxis\u001b[0m\u001b[0;34m=\u001b[0m\u001b[0;36m0\u001b[0m\u001b[0;34m)\u001b[0m\u001b[0;34m\u001b[0m\u001b[0;34m\u001b[0m\u001b[0m\n\u001b[0m",
            "\u001b[0;32m/usr/local/lib/python3.10/dist-packages/numpy/core/overrides.py\u001b[0m in \u001b[0;36mconcatenate\u001b[0;34m(*args, **kwargs)\u001b[0m\n",
            "\u001b[0;31mValueError\u001b[0m: all the input arrays must have same number of dimensions, but the array at index 0 has 1 dimension(s) and the array at index 1 has 2 dimension(s)"
          ]
        }
      ]
    },
    {
      "cell_type": "code",
      "source": [
        "# Horizontally stack the arrays\n",
        "# For variable y and grid\n",
        "y = np.array([[99],\n",
        "              [99]])\n",
        "\n",
        "print(y)\n",
        "print('\\n-------------\\n')\n",
        "print(grid)\n",
        "print('\\n-------------\\n')\n",
        "np.hstack([y, grid])\n"
      ],
      "metadata": {
        "colab": {
          "base_uri": "https://localhost:8080/"
        },
        "id": "dMply-AEnrJ-",
        "outputId": "f3fa936d-70d2-4111-d454-c688c42f2a05"
      },
      "execution_count": 156,
      "outputs": [
        {
          "output_type": "stream",
          "name": "stdout",
          "text": [
            "[[99]\n",
            " [99]]\n",
            "\n",
            "-------------\n",
            "\n",
            "[[1 2 3]\n",
            " [4 5 6]]\n",
            "\n",
            "-------------\n",
            "\n"
          ]
        },
        {
          "output_type": "execute_result",
          "data": {
            "text/plain": [
              "array([[99,  1,  2,  3],\n",
              "       [99,  4,  5,  6]])"
            ]
          },
          "metadata": {},
          "execution_count": 156
        }
      ]
    },
    {
      "cell_type": "markdown",
      "source": [
        "### **Splitting of arrays - opposite of concatenation**"
      ],
      "metadata": {
        "id": "JIuxqAhs8UgM"
      }
    },
    {
      "cell_type": "code",
      "source": [
        "# Passing a list of indices giving the split points\n",
        "x = [1, 2, 3, 99, 99, 3, 2, 1]\n",
        "x1, x2, x3 = np.split(x, [3, 5])\n",
        "print(x1, x2, x3)"
      ],
      "metadata": {
        "colab": {
          "base_uri": "https://localhost:8080/"
        },
        "id": "EXwD-ja0nu4C",
        "outputId": "d4d62fa1-3560-4500-bd56-1986b2ed7b0e"
      },
      "execution_count": 158,
      "outputs": [
        {
          "output_type": "stream",
          "name": "stdout",
          "text": [
            "[1 2 3] [99 99] [3 2 1]\n"
          ]
        }
      ]
    },
    {
      "cell_type": "code",
      "source": [
        "# Create a 4 x 4 array\n",
        "# Use np.arange() and reshape()\n",
        "grid = np.arange(16).reshape((4,4))\n",
        "grid"
      ],
      "metadata": {
        "colab": {
          "base_uri": "https://localhost:8080/"
        },
        "id": "BCqzmtjOoIlq",
        "outputId": "60fc5b34-2263-4a07-e649-fbdddd8b1a5f"
      },
      "execution_count": 160,
      "outputs": [
        {
          "output_type": "execute_result",
          "data": {
            "text/plain": [
              "array([[ 0,  1,  2,  3],\n",
              "       [ 4,  5,  6,  7],\n",
              "       [ 8,  9, 10, 11],\n",
              "       [12, 13, 14, 15]])"
            ]
          },
          "metadata": {},
          "execution_count": 160
        }
      ]
    },
    {
      "cell_type": "code",
      "source": [
        "# Vertical split\n",
        "# Use np.vsplit\n",
        "upper, lower = np.vsplit(grid, [3]) # [3] here refers to the row index\n",
        "print(upper)\n",
        "print('\\n-----------------\\n')\n",
        "print(lower)"
      ],
      "metadata": {
        "colab": {
          "base_uri": "https://localhost:8080/"
        },
        "id": "iYGKda0eoPaC",
        "outputId": "37e28ee0-579f-465a-8ee7-710918cd56f3"
      },
      "execution_count": 162,
      "outputs": [
        {
          "output_type": "stream",
          "name": "stdout",
          "text": [
            "[[ 0  1  2  3]\n",
            " [ 4  5  6  7]\n",
            " [ 8  9 10 11]]\n",
            "\n",
            "-----------------\n",
            "\n",
            "[[12 13 14 15]]\n"
          ]
        }
      ]
    },
    {
      "cell_type": "code",
      "source": [
        "# Output grid\n",
        "grid"
      ],
      "metadata": {
        "colab": {
          "base_uri": "https://localhost:8080/"
        },
        "id": "HXnX5GFUEzmz",
        "outputId": "da35220a-2943-42a7-ebc8-96eae6282e57"
      },
      "execution_count": 163,
      "outputs": [
        {
          "output_type": "execute_result",
          "data": {
            "text/plain": [
              "array([[ 0,  1,  2,  3],\n",
              "       [ 4,  5,  6,  7],\n",
              "       [ 8,  9, 10, 11],\n",
              "       [12, 13, 14, 15]])"
            ]
          },
          "metadata": {},
          "execution_count": 163
        }
      ]
    },
    {
      "cell_type": "code",
      "source": [
        "# Horizontal split\n",
        "left, right = np.hsplit(grid, [2])\n",
        "print(left)\n",
        "print('\\n-----------------\\n')\n",
        "print(right)"
      ],
      "metadata": {
        "colab": {
          "base_uri": "https://localhost:8080/"
        },
        "id": "gdcsGZgCoRqS",
        "outputId": "acdf5952-78b3-497c-ebf2-afb6d00e49ba"
      },
      "execution_count": 166,
      "outputs": [
        {
          "output_type": "stream",
          "name": "stdout",
          "text": [
            "[[ 0  1]\n",
            " [ 4  5]\n",
            " [ 8  9]\n",
            " [12 13]]\n",
            "\n",
            "-----------------\n",
            "\n",
            "[[ 2  3]\n",
            " [ 6  7]\n",
            " [10 11]\n",
            " [14 15]]\n"
          ]
        }
      ]
    },
    {
      "cell_type": "markdown",
      "source": [
        "### **Computation on NumPy Arrays: Universal Functions**\n",
        "NumPy's ***universal function (ufuncs)*** makes repeated calculations on array elements much more efficient"
      ],
      "metadata": {
        "id": "WPJV2N2t-vnV"
      }
    },
    {
      "cell_type": "code",
      "source": [
        "# Getting the reciprocal values\n",
        "# The inverse of a value or a number\n",
        "np.random.seed(1957)\n",
        "\n",
        "def compute_reciprocals(values):\n",
        "    output = np.empty(len(values))\n",
        "    for i in range(len(values)):\n",
        "        output[i] = 1.0 / values[i]\n",
        "    return output\n",
        "\n",
        "values = np.random.randint(1, 10, size = 5)\n",
        "compute_reciprocals(values)"
      ],
      "metadata": {
        "colab": {
          "base_uri": "https://localhost:8080/"
        },
        "id": "CGmB_W-todUF",
        "outputId": "214b54a3-100e-4fbe-95a9-dc31cffbf993"
      },
      "execution_count": 172,
      "outputs": [
        {
          "output_type": "execute_result",
          "data": {
            "text/plain": [
              "array([0.5       , 0.125     , 0.2       , 0.125     , 0.33333333])"
            ]
          },
          "metadata": {},
          "execution_count": 172
        }
      ]
    },
    {
      "cell_type": "code",
      "source": [
        "# Test the compute_reciprocals function\n",
        "values = np.random.randint(1, 10, size = 5)\n",
        "compute_reciprocals(values)"
      ],
      "metadata": {
        "colab": {
          "base_uri": "https://localhost:8080/"
        },
        "id": "7Vulc9S46yIp",
        "outputId": "5e622b54-4e34-4d3b-ff9f-a33fd417ec0d"
      },
      "execution_count": 170,
      "outputs": [
        {
          "output_type": "execute_result",
          "data": {
            "text/plain": [
              "array([0.5       , 0.125     , 0.2       , 0.125     , 0.33333333])"
            ]
          },
          "metadata": {},
          "execution_count": 170
        }
      ]
    },
    {
      "cell_type": "code",
      "source": [
        "np.random.randint(1, 10, size = 5)"
      ],
      "metadata": {
        "colab": {
          "base_uri": "https://localhost:8080/"
        },
        "id": "bH7wzPmR7P3K",
        "outputId": "69b44bf7-f65b-45f5-cf3b-2cb7ee65a254"
      },
      "execution_count": 171,
      "outputs": [
        {
          "output_type": "execute_result",
          "data": {
            "text/plain": [
              "array([1, 5, 6, 8, 8])"
            ]
          },
          "metadata": {},
          "execution_count": 171
        }
      ]
    },
    {
      "cell_type": "code",
      "source": [
        "np.empty(10)"
      ],
      "metadata": {
        "colab": {
          "base_uri": "https://localhost:8080/"
        },
        "id": "x-Tzu2FG6GNr",
        "outputId": "baa37b72-ef04-44c2-e9a5-3b4893a43768"
      },
      "execution_count": 167,
      "outputs": [
        {
          "output_type": "execute_result",
          "data": {
            "text/plain": [
              "array([4.97962425e-310, 0.00000000e+000, 0.00000000e+000, 0.00000000e+000,\n",
              "       6.75410040e-310, 1.54754533e-075, 3.88600623e-033, 5.03041152e-091,\n",
              "       4.46980614e-033, 6.75414632e-310])"
            ]
          },
          "metadata": {},
          "execution_count": 167
        }
      ]
    },
    {
      "cell_type": "markdown",
      "source": [
        "# **Measuring the execution time**"
      ],
      "metadata": {
        "id": "alWjm01J7rfc"
      }
    },
    {
      "cell_type": "code",
      "source": [
        "# Measure the execution time\n",
        "# This is using python loop\n",
        "big_array = np.random.randint(1, 100, size = 1000000)\n",
        "%timeit compute_reciprocals(big_array)"
      ],
      "metadata": {
        "colab": {
          "base_uri": "https://localhost:8080/"
        },
        "id": "QBFUOOCtpl4B",
        "outputId": "0510cdce-6bc8-471a-cce0-4361fbf4c206"
      },
      "execution_count": 173,
      "outputs": [
        {
          "output_type": "stream",
          "name": "stdout",
          "text": [
            "2 s ± 550 ms per loop (mean ± std. dev. of 7 runs, 1 loop each)\n"
          ]
        }
      ]
    },
    {
      "cell_type": "code",
      "source": [
        "# Check the array values\n",
        "big_array[1:10]"
      ],
      "metadata": {
        "colab": {
          "base_uri": "https://localhost:8080/"
        },
        "id": "qXsKPa2ZATvU",
        "outputId": "8e50e7eb-21af-4c59-a706-f5e23a68835f"
      },
      "execution_count": 174,
      "outputs": [
        {
          "output_type": "execute_result",
          "data": {
            "text/plain": [
              "array([37, 54, 31, 60, 56, 83, 85, 30, 34])"
            ]
          },
          "metadata": {},
          "execution_count": 174
        }
      ]
    },
    {
      "cell_type": "code",
      "source": [
        "# This is using vectorized operation in NumPy\n",
        "%timeit (1.0 / big_array)"
      ],
      "metadata": {
        "colab": {
          "base_uri": "https://localhost:8080/"
        },
        "id": "rj8ecvOe3TOz",
        "outputId": "b3d4f5c7-c520-4741-f489-5da1266d7ca3"
      },
      "execution_count": 175,
      "outputs": [
        {
          "output_type": "stream",
          "name": "stdout",
          "text": [
            "2.09 ms ± 224 µs per loop (mean ± std. dev. of 7 runs, 100 loops each)\n"
          ]
        }
      ]
    },
    {
      "cell_type": "code",
      "source": [
        "# Element-wise division\n",
        "print(np.arange(5))\n",
        "print('\\n------------\\n')\n",
        "print(np.arange(1, 6))\n",
        "np.arange(5) / np.arange(1, 6)"
      ],
      "metadata": {
        "colab": {
          "base_uri": "https://localhost:8080/"
        },
        "id": "QVXnUvjzqo2B",
        "outputId": "efe0d84f-6a5a-4ffa-f5b2-30f465d3945a"
      },
      "execution_count": 180,
      "outputs": [
        {
          "output_type": "stream",
          "name": "stdout",
          "text": [
            "[0 1 2 3 4]\n",
            "\n",
            "------------\n",
            "\n",
            "[1 2 3 4 5]\n"
          ]
        },
        {
          "output_type": "execute_result",
          "data": {
            "text/plain": [
              "array([0.        , 0.5       , 0.66666667, 0.75      , 0.8       ])"
            ]
          },
          "metadata": {},
          "execution_count": 180
        }
      ]
    },
    {
      "cell_type": "code",
      "source": [
        "# Power of two\n",
        "x = np.arange(9).reshape(3, 3)\n",
        "2 ** x"
      ],
      "metadata": {
        "colab": {
          "base_uri": "https://localhost:8080/"
        },
        "id": "KFtX5kybrhsU",
        "outputId": "4e517244-bc07-42a0-e926-28603e44cc41"
      },
      "execution_count": 181,
      "outputs": [
        {
          "output_type": "execute_result",
          "data": {
            "text/plain": [
              "array([[  1,   2,   4],\n",
              "       [  8,  16,  32],\n",
              "       [ 64, 128, 256]])"
            ]
          },
          "metadata": {},
          "execution_count": 181
        }
      ]
    },
    {
      "cell_type": "markdown",
      "source": [
        "### **Array arithmetic**"
      ],
      "metadata": {
        "id": "FQDSvzG7EMaZ"
      }
    },
    {
      "cell_type": "code",
      "source": [
        "# Array arithmetic\n",
        "x = np.arange(4)\n",
        "print(\"x // 2 = \", x // 2) # floor division -> rounds down to the nearest whole number"
      ],
      "metadata": {
        "colab": {
          "base_uri": "https://localhost:8080/"
        },
        "id": "f7SA8ZCeruWP",
        "outputId": "d02bf91d-b208-408d-c27e-8b1dc1bcb8aa"
      },
      "execution_count": 182,
      "outputs": [
        {
          "output_type": "stream",
          "name": "stdout",
          "text": [
            "x // 2 =  [0 0 1 1]\n"
          ]
        }
      ]
    },
    {
      "cell_type": "code",
      "source": [
        "# Array arithmetic\n",
        "x % 2"
      ],
      "metadata": {
        "colab": {
          "base_uri": "https://localhost:8080/"
        },
        "id": "K_lr7Em0sIol",
        "outputId": "1adaf9b9-db52-4016-ac63-45a7bd567d2b"
      },
      "execution_count": 183,
      "outputs": [
        {
          "output_type": "execute_result",
          "data": {
            "text/plain": [
              "array([0, 1, 0, 1])"
            ]
          },
          "metadata": {},
          "execution_count": 183
        }
      ]
    },
    {
      "cell_type": "markdown",
      "source": [
        "# **Precedence of Operators in Python**\n",
        "**Please click this link for more information: https://tinyurl.com/2hd6cyx6**"
      ],
      "metadata": {
        "id": "w1lopcUMNq-3"
      }
    },
    {
      "cell_type": "markdown",
      "source": [
        "![Operators.png](data:image/png;base64,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)"
      ],
      "metadata": {
        "id": "9nproYY9e1Ll"
      }
    },
    {
      "cell_type": "code",
      "source": [
        "# Array arithmetic\n",
        "print(x)\n",
        "print('\\n-------\\n')\n",
        "-(0.5 * x + 1)**2"
      ],
      "metadata": {
        "colab": {
          "base_uri": "https://localhost:8080/"
        },
        "id": "c0BMVMt9AQqs",
        "outputId": "81c07c2c-e12d-466e-d7ba-4eafe343bbe9"
      },
      "execution_count": 185,
      "outputs": [
        {
          "output_type": "stream",
          "name": "stdout",
          "text": [
            "[0 1 2 3]\n",
            "\n",
            "-------\n",
            "\n"
          ]
        },
        {
          "output_type": "execute_result",
          "data": {
            "text/plain": [
              "array([-1.  , -2.25, -4.  , -6.25])"
            ]
          },
          "metadata": {},
          "execution_count": 185
        }
      ]
    },
    {
      "cell_type": "code",
      "source": [
        "# Array arithmetic\n",
        "np.add(x, 2)"
      ],
      "metadata": {
        "colab": {
          "base_uri": "https://localhost:8080/"
        },
        "id": "XXs3yP9TAecx",
        "outputId": "7efcaab9-d7a6-4469-8813-cd9f60c7d3c1"
      },
      "execution_count": 186,
      "outputs": [
        {
          "output_type": "execute_result",
          "data": {
            "text/plain": [
              "array([2, 3, 4, 5])"
            ]
          },
          "metadata": {},
          "execution_count": 186
        }
      ]
    },
    {
      "cell_type": "code",
      "source": [
        "# Absolute value\n",
        "x = np.array([-2, -1, 0, 1, 2])\n",
        "np.abs(x)"
      ],
      "metadata": {
        "colab": {
          "base_uri": "https://localhost:8080/"
        },
        "id": "JqjxihLrBEjn",
        "outputId": "dbb4fd8e-201e-4f80-971f-1376809d3d56"
      },
      "execution_count": 187,
      "outputs": [
        {
          "output_type": "execute_result",
          "data": {
            "text/plain": [
              "array([2, 1, 0, 1, 2])"
            ]
          },
          "metadata": {},
          "execution_count": 187
        }
      ]
    },
    {
      "cell_type": "code",
      "source": [
        "# Absolute way 1\n",
        "np.absolute(x)"
      ],
      "metadata": {
        "colab": {
          "base_uri": "https://localhost:8080/"
        },
        "id": "1fysCwKLBWD1",
        "outputId": "d2ac54c1-a81a-4a8b-a98c-b672e52e464f"
      },
      "execution_count": 188,
      "outputs": [
        {
          "output_type": "execute_result",
          "data": {
            "text/plain": [
              "array([2, 1, 0, 1, 2])"
            ]
          },
          "metadata": {},
          "execution_count": 188
        }
      ]
    },
    {
      "cell_type": "code",
      "source": [
        "# Log transformation\n",
        "x = [1, 2, 4, 10]\n",
        "print(np.log(x))\n",
        "print(np.log2(x))\n",
        "print(np.log10(x))"
      ],
      "metadata": {
        "colab": {
          "base_uri": "https://localhost:8080/"
        },
        "id": "gl-TpgQBFVoV",
        "outputId": "0fb2f636-812c-43a4-e9a1-6363ae302660"
      },
      "execution_count": 189,
      "outputs": [
        {
          "output_type": "stream",
          "name": "stdout",
          "text": [
            "[0.         0.69314718 1.38629436 2.30258509]\n",
            "[0.         1.         2.         3.32192809]\n",
            "[0.         0.30103    0.60205999 1.        ]\n"
          ]
        }
      ]
    },
    {
      "cell_type": "markdown",
      "source": [
        "### **Aggregations: Min, Max, and Everything in Between**"
      ],
      "metadata": {
        "id": "1pO7R-bzFNS6"
      }
    },
    {
      "cell_type": "code",
      "source": [
        "# Summation\n",
        "L = np.random.random(100)\n",
        "sum(L) # Using base python function"
      ],
      "metadata": {
        "colab": {
          "base_uri": "https://localhost:8080/"
        },
        "id": "EzlYBo4xs6KN",
        "outputId": "96eacea6-4606-4852-dfc7-55067e9b52b1"
      },
      "execution_count": 190,
      "outputs": [
        {
          "output_type": "execute_result",
          "data": {
            "text/plain": [
              "49.37426434311941"
            ]
          },
          "metadata": {},
          "execution_count": 190
        }
      ]
    },
    {
      "cell_type": "code",
      "source": [
        "# NumPy Summation\n",
        "# Why NumPy is faster -> vectorization / Element wise operation\n",
        "np.sum(L)"
      ],
      "metadata": {
        "colab": {
          "base_uri": "https://localhost:8080/"
        },
        "id": "ESJY0ntC3GB-",
        "outputId": "07c2670b-81c6-444d-9a59-314a09cd9555"
      },
      "execution_count": 191,
      "outputs": [
        {
          "output_type": "execute_result",
          "data": {
            "text/plain": [
              "49.37426434311939"
            ]
          },
          "metadata": {},
          "execution_count": 191
        }
      ]
    },
    {
      "cell_type": "code",
      "source": [
        "# Measure the time taken\n",
        "big_array = np.random.rand(1000000)\n",
        "\n",
        "# Using built-in Python sum() function\n",
        "%timeit sum(big_array)\n",
        "\n",
        "# Using np.sum() function that is optimized for NumPy arrays\n",
        "%timeit np.sum(big_array)"
      ],
      "metadata": {
        "colab": {
          "base_uri": "https://localhost:8080/"
        },
        "id": "p7dz9Oa13JkB",
        "outputId": "48539ee8-3fb1-4117-c520-1040e736b9af"
      },
      "execution_count": 192,
      "outputs": [
        {
          "output_type": "stream",
          "name": "stdout",
          "text": [
            "131 ms ± 41.3 ms per loop (mean ± std. dev. of 7 runs, 10 loops each)\n",
            "398 µs ± 10.5 µs per loop (mean ± std. dev. of 7 runs, 1000 loops each)\n"
          ]
        }
      ]
    },
    {
      "cell_type": "code",
      "source": [
        "# Min and Max using built-in Python function\n",
        "min(big_array), max(big_array)"
      ],
      "metadata": {
        "colab": {
          "base_uri": "https://localhost:8080/"
        },
        "id": "c7uwJlcI3Mq7",
        "outputId": "d2ee9de8-e0b4-424d-8e86-af9cfd33e628"
      },
      "execution_count": 193,
      "outputs": [
        {
          "output_type": "execute_result",
          "data": {
            "text/plain": [
              "(5.694351934426578e-08, 0.9999997024064241)"
            ]
          },
          "metadata": {},
          "execution_count": 193
        }
      ]
    },
    {
      "cell_type": "code",
      "source": [
        "# Min and Max using NumPy function\n",
        "np.min(big_array), np.max(big_array)"
      ],
      "metadata": {
        "colab": {
          "base_uri": "https://localhost:8080/"
        },
        "id": "5PI3F0Tu3jQ9",
        "outputId": "605eaa8e-760d-488e-ada3-c84cbedaa836"
      },
      "execution_count": 194,
      "outputs": [
        {
          "output_type": "execute_result",
          "data": {
            "text/plain": [
              "(5.694351934426578e-08, 0.9999997024064241)"
            ]
          },
          "metadata": {},
          "execution_count": 194
        }
      ]
    },
    {
      "cell_type": "code",
      "source": [
        "# Measure the time taken for built-in python & NumPy array\n",
        "%timeit min(big_array)\n",
        "%timeit np.min(big_array)"
      ],
      "metadata": {
        "colab": {
          "base_uri": "https://localhost:8080/"
        },
        "id": "BI2a-9473mPE",
        "outputId": "f0f61a4a-bf0c-4733-ae3f-b4648008ab68"
      },
      "execution_count": 195,
      "outputs": [
        {
          "output_type": "stream",
          "name": "stdout",
          "text": [
            "76.8 ms ± 15.2 ms per loop (mean ± std. dev. of 7 runs, 10 loops each)\n",
            "540 µs ± 44.4 µs per loop (mean ± std. dev. of 7 runs, 1000 loops each)\n"
          ]
        }
      ]
    },
    {
      "cell_type": "markdown",
      "source": [
        "## **US Presidents height:**"
      ],
      "metadata": {
        "id": "681J_tU-Wixa"
      }
    },
    {
      "cell_type": "code",
      "source": [
        "# Heights of USA Presidents\n",
        "# Link: https://tinyurl.com/3s7dta9h\n"
      ],
      "metadata": {
        "colab": {
          "base_uri": "https://localhost:8080/"
        },
        "id": "O8KIzCDh3oUa",
        "outputId": "ec6f0966-da7d-485b-8cbd-59a93b8823e4"
      },
      "execution_count": null,
      "outputs": [
        {
          "output_type": "stream",
          "name": "stdout",
          "text": [
            "[189 170 189 163 183 171 185 168 173 183 173 173 175 178 183 193 178 173\n",
            " 174 183 183 168 170 178 182 180 183 178 182 188 175 179 183 193 182 183\n",
            " 177 185 188 188 182 185 191 182]\n"
          ]
        }
      ]
    },
    {
      "cell_type": "code",
      "source": [
        "# Extract information\n"
      ],
      "metadata": {
        "id": "T0r42rdt3xAS",
        "colab": {
          "base_uri": "https://localhost:8080/"
        },
        "outputId": "4e47d385-63e9-4b4a-d8b2-ed410a6f678e"
      },
      "execution_count": null,
      "outputs": [
        {
          "output_type": "stream",
          "name": "stdout",
          "text": [
            "Mean height:        180.04545454545453\n",
            "Standard deviation: 6.983599441335736\n",
            "Minimum height:     163\n",
            "Maximum height:     193\n"
          ]
        }
      ]
    },
    {
      "cell_type": "code",
      "source": [
        "# Extract information\n"
      ],
      "metadata": {
        "id": "-RBdYwrY5PSI",
        "colab": {
          "base_uri": "https://localhost:8080/"
        },
        "outputId": "2121e502-286a-4bdd-ae0b-2b03a9406480"
      },
      "execution_count": null,
      "outputs": [
        {
          "output_type": "stream",
          "name": "stdout",
          "text": [
            "25th percentile:    174.75\n",
            "Median:             182.0\n",
            "75th percentile:    183.5\n"
          ]
        }
      ]
    },
    {
      "cell_type": "code",
      "source": [
        "# Plot using matplotlib\n"
      ],
      "metadata": {
        "id": "alXHum5S5UWM"
      },
      "execution_count": null,
      "outputs": []
    },
    {
      "cell_type": "code",
      "source": [],
      "metadata": {
        "id": "Pz0eBY_g5cGr",
        "colab": {
          "base_uri": "https://localhost:8080/",
          "height": 480
        },
        "outputId": "8ace9f5d-55f9-42b4-ebc0-ac430e0e30b9"
      },
      "execution_count": null,
      "outputs": [
        {
          "output_type": "display_data",
          "data": {
            "text/plain": [
              "<Figure size 640x480 with 1 Axes>"
            ],
            "image/png": "[encoded data removed]"
          },
          "metadata": {}
        }
      ]
    },
    {
      "cell_type": "code",
      "source": [
        "# Create some data\n"
      ],
      "metadata": {
        "id": "gpEOpavt5d_V",
        "colab": {
          "base_uri": "https://localhost:8080/"
        },
        "outputId": "bab2a609-6d12-40bb-b639-9d5524b85485"
      },
      "execution_count": null,
      "outputs": [
        {
          "output_type": "execute_result",
          "data": {
            "text/plain": [
              "array([5, 6, 7])"
            ]
          },
          "metadata": {},
          "execution_count": 274
        }
      ]
    },
    {
      "cell_type": "code",
      "source": [
        "# Stretches or duplicates the value 5 into the array [5, 5, 5]\n"
      ],
      "metadata": {
        "id": "73X3Ld9uH4Ou",
        "colab": {
          "base_uri": "https://localhost:8080/"
        },
        "outputId": "b9efd20c-ac7d-4953-f65b-0499cf7ece15"
      },
      "execution_count": null,
      "outputs": [
        {
          "output_type": "stream",
          "name": "stdout",
          "text": [
            "[0 1 2]\n",
            "\n",
            "-------\n",
            "\n"
          ]
        },
        {
          "output_type": "execute_result",
          "data": {
            "text/plain": [
              "array([5, 6, 7])"
            ]
          },
          "metadata": {},
          "execution_count": 279
        }
      ]
    },
    {
      "cell_type": "code",
      "source": [
        "# Array of 3 x 3\n"
      ],
      "metadata": {
        "id": "ZJAiZ78YH-aJ",
        "colab": {
          "base_uri": "https://localhost:8080/"
        },
        "outputId": "1f84ae6d-b002-4797-ce28-ff0ea69d55cd"
      },
      "execution_count": null,
      "outputs": [
        {
          "output_type": "execute_result",
          "data": {
            "text/plain": [
              "array([[1., 1., 1.],\n",
              "       [1., 1., 1.],\n",
              "       [1., 1., 1.]])"
            ]
          },
          "metadata": {},
          "execution_count": 276
        }
      ]
    },
    {
      "cell_type": "code",
      "source": [
        "# one-dimensional array a is stretched, or broadcast across the second dimension in order to match the shape of M\n"
      ],
      "metadata": {
        "id": "y0Ce-V14IQcm",
        "colab": {
          "base_uri": "https://localhost:8080/"
        },
        "outputId": "3e80ac67-de84-465d-adca-1a9dcefa219a"
      },
      "execution_count": null,
      "outputs": [
        {
          "output_type": "stream",
          "name": "stdout",
          "text": [
            "[[1. 1. 1.]\n",
            " [1. 1. 1.]\n",
            " [1. 1. 1.]]\n",
            "\n",
            "-------\n",
            "\n",
            "[0 1 2]\n",
            "\n",
            "-------\n",
            "\n"
          ]
        },
        {
          "output_type": "execute_result",
          "data": {
            "text/plain": [
              "array([[1., 2., 3.],\n",
              "       [1., 2., 3.],\n",
              "       [1., 2., 3.]])"
            ]
          },
          "metadata": {},
          "execution_count": 280
        }
      ]
    },
    {
      "cell_type": "code",
      "source": [
        "# Create some data\n"
      ],
      "metadata": {
        "id": "1fkzYzzIIUBB",
        "colab": {
          "base_uri": "https://localhost:8080/"
        },
        "outputId": "e83428d1-07bf-408f-e35a-a7944022a6c8"
      },
      "execution_count": null,
      "outputs": [
        {
          "output_type": "stream",
          "name": "stdout",
          "text": [
            "[0 1 2]\n",
            "\n",
            "-------\n",
            "\n",
            "[[0]\n",
            " [1]\n",
            " [2]]\n"
          ]
        }
      ]
    },
    {
      "cell_type": "markdown",
      "source": [
        "# **Broadcasting:**"
      ],
      "metadata": {
        "id": "ClyoD2fPf-bM"
      }
    },
    {
      "cell_type": "markdown",
      "source": [
        "![broadcasting.png](data:image/png;base64,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)"
      ],
      "metadata": {
        "id": "apxjIrKOfrZO"
      }
    },
    {
      "cell_type": "code",
      "source": [
        "# Broadcasting in play\n"
      ],
      "metadata": {
        "id": "Z7DJ87M3In6M",
        "colab": {
          "base_uri": "https://localhost:8080/"
        },
        "outputId": "15c63f03-4c72-4080-8e1b-bd09ed9194be"
      },
      "execution_count": null,
      "outputs": [
        {
          "output_type": "execute_result",
          "data": {
            "text/plain": [
              "array([[0, 1, 2],\n",
              "       [1, 2, 3],\n",
              "       [2, 3, 4]])"
            ]
          },
          "metadata": {},
          "execution_count": 284
        }
      ]
    },
    {
      "cell_type": "code",
      "source": [
        "# Broadcasting in play\n"
      ],
      "metadata": {
        "id": "aWCekPYoIwFh",
        "colab": {
          "base_uri": "https://localhost:8080/"
        },
        "outputId": "e0f2118d-fe4b-4946-cf45-d18333df3840"
      },
      "execution_count": null,
      "outputs": [
        {
          "output_type": "execute_result",
          "data": {
            "text/plain": [
              "array([[1., 2., 3.],\n",
              "       [1., 2., 3.],\n",
              "       [1., 2., 3.]])"
            ]
          },
          "metadata": {},
          "execution_count": 285
        }
      ]
    },
    {
      "cell_type": "markdown",
      "source": [
        "### **Rules of Broadcasting:**\n",
        "### The term broadcasting describes <font color='red'>***how NumPy treats arrays with different shapes***</font> during ***arithmetic operations***.\n",
        "* **Broadcasting rule 1:**\n",
        "If the two arrays differ in their number of dimensions, the shape of the one with fewer dimensions is **padded with ones (\"1\") on its leading (left) side**.\n",
        "\n",
        "* **Broadcasting rule 2:**\n",
        "If the shape of the two arrays does not match in any dimension, the **array with shape equal to 1** in that dimension is stretched to match the other shape.\n",
        "\n",
        "* **Broadcasting rule 3:**\n",
        "If in any dimension the sizes disagree and neither is equal to 1, an error is raised.\n",
        "\n",
        "* **For moreinformation, please click this link: https://tinyurl.com/dhea9ask**"
      ],
      "metadata": {
        "id": "M0wItCiRHoKa"
      }
    },
    {
      "cell_type": "code",
      "source": [
        "# Create some data\n"
      ],
      "metadata": {
        "id": "CFLUlnYlJisI"
      },
      "execution_count": null,
      "outputs": []
    },
    {
      "cell_type": "code",
      "source": [
        "# Extract information\n"
      ],
      "metadata": {
        "id": "U_S9g1gRVpgg",
        "colab": {
          "base_uri": "https://localhost:8080/"
        },
        "outputId": "6ca6810d-6308-41c9-beca-722264ecdbfa"
      },
      "execution_count": null,
      "outputs": [
        {
          "output_type": "stream",
          "name": "stdout",
          "text": [
            "[[1. 1. 1.]\n",
            " [1. 1. 1.]]\n",
            "\n",
            "-------\n",
            "\n",
            "[0 1 2]\n",
            "\n",
            "-------\n",
            "\n",
            "(2, 3)\n",
            "\n",
            "-------\n",
            "\n",
            "(3,)\n"
          ]
        }
      ]
    },
    {
      "cell_type": "code",
      "source": [
        "# Broadcasting example 1\n",
        "# The shape of the one with fewer dimensions is padded with ones (\"1\") on its leading (left) side\n",
        "# The array a has fewer dimensions, so we pad it on the left with ones -> (1 x 3)\n",
        "# By rule 2, we now see that the first dimension disagrees, so we stretch this dimension to match\n",
        "# From (3,) -> (1, 3) -> (2, 3)\n"
      ],
      "metadata": {
        "id": "gfL8rt-1VqTa",
        "colab": {
          "base_uri": "https://localhost:8080/"
        },
        "outputId": "dfcd61d2-607a-4f77-9385-f105001c0bb3"
      },
      "execution_count": null,
      "outputs": [
        {
          "output_type": "execute_result",
          "data": {
            "text/plain": [
              "array([[1., 2., 3.],\n",
              "       [1., 2., 3.]])"
            ]
          },
          "metadata": {},
          "execution_count": 299
        }
      ]
    },
    {
      "cell_type": "code",
      "source": [
        "# Broadcasting example 2\n",
        "# Both arrays need to be broadcasted\n"
      ],
      "metadata": {
        "id": "lpHnWiE7WTGH"
      },
      "execution_count": null,
      "outputs": []
    },
    {
      "cell_type": "code",
      "source": [
        "# extract information\n"
      ],
      "metadata": {
        "id": "yitJs1NUWlMm",
        "colab": {
          "base_uri": "https://localhost:8080/"
        },
        "outputId": "c0cfdd08-fdd0-4fad-8a84-b0364dfc7ff1"
      },
      "execution_count": null,
      "outputs": [
        {
          "output_type": "stream",
          "name": "stdout",
          "text": [
            "[[0]\n",
            " [1]\n",
            " [2]]\n",
            "\n",
            "-------\n",
            "\n",
            "[0 1 2]\n",
            "\n",
            "-------\n",
            "\n",
            "(3, 1) (3,)\n"
          ]
        }
      ]
    },
    {
      "cell_type": "code",
      "source": [
        "# 3 x 3 array\n",
        "# a.shape = (3, 1); b.shape = (3,)\n",
        "# Rule 1: a.shape -> (3, 1); b.shape -> (1, 3)\n",
        "# Rule 2: a.shape -> (3, 3); b.shape -> (3, 3)\n"
      ],
      "metadata": {
        "id": "x5mi_KtNWmmd",
        "colab": {
          "base_uri": "https://localhost:8080/"
        },
        "outputId": "ba1e4655-01d8-4e94-cb1e-a239708f75ae"
      },
      "execution_count": null,
      "outputs": [
        {
          "output_type": "execute_result",
          "data": {
            "text/plain": [
              "array([[0, 1, 2],\n",
              "       [1, 2, 3],\n",
              "       [2, 3, 4]])"
            ]
          },
          "metadata": {},
          "execution_count": 306
        }
      ]
    },
    {
      "cell_type": "markdown",
      "source": [
        "*   **The first row: 0 + [0, 1, 2] = [0, 1, 2]**\n",
        "\n",
        "*   **The second row: 1 + [0, 1, 2] = [1, 2, 3]**\n",
        "\n",
        "*   **The third row: 2 + [0, 1, 2] = [2, 3, 4]**"
      ],
      "metadata": {
        "id": "h6KhgxRCmzb0"
      }
    },
    {
      "cell_type": "code",
      "source": [
        "# Broadcasting example 3\n"
      ],
      "metadata": {
        "id": "02P2fmwFW9Rl"
      },
      "execution_count": null,
      "outputs": []
    },
    {
      "cell_type": "code",
      "source": [
        "# Extract information\n"
      ],
      "metadata": {
        "id": "zbvHKYFAdFCO",
        "colab": {
          "base_uri": "https://localhost:8080/"
        },
        "outputId": "7ef82add-9704-47c1-9feb-e2097f5b40c5"
      },
      "execution_count": null,
      "outputs": [
        {
          "output_type": "stream",
          "name": "stdout",
          "text": [
            "(3, 2)\n",
            "(3,)\n"
          ]
        }
      ]
    },
    {
      "cell_type": "code",
      "source": [
        "# With error msg\n",
        "# Operands could not be broadcast together with shapes (3,2) (3,)\n"
      ],
      "metadata": {
        "id": "UySEeKlldG9A",
        "colab": {
          "base_uri": "https://localhost:8080/",
          "height": 194
        },
        "outputId": "0221f213-fab8-47d9-a8f3-f8fdf088b448"
      },
      "execution_count": null,
      "outputs": [
        {
          "output_type": "error",
          "ename": "ValueError",
          "evalue": "ignored",
          "traceback": [
            "\u001b[0;31m---------------------------------------------------------------------------\u001b[0m",
            "\u001b[0;31mValueError\u001b[0m                                Traceback (most recent call last)",
            "\u001b[0;32m<ipython-input-310-1b59d0e7d8e0>\u001b[0m in \u001b[0;36m<cell line: 2>\u001b[0;34m()\u001b[0m\n\u001b[1;32m      1\u001b[0m \u001b[0;31m# With error msg\u001b[0m\u001b[0;34m\u001b[0m\u001b[0;34m\u001b[0m\u001b[0m\n\u001b[0;32m----> 2\u001b[0;31m \u001b[0mM\u001b[0m\u001b[0;34m+\u001b[0m\u001b[0ma\u001b[0m\u001b[0;34m\u001b[0m\u001b[0;34m\u001b[0m\u001b[0m\n\u001b[0m",
            "\u001b[0;31mValueError\u001b[0m: operands could not be broadcast together with shapes (3,2) (3,) "
          ]
        }
      ]
    },
    {
      "cell_type": "markdown",
      "source": [
        "# **Comparisons, Masks, and Boolean Logic**"
      ],
      "metadata": {
        "id": "KSHtmr9ZL06V"
      }
    },
    {
      "cell_type": "code",
      "source": [
        "# Comparison Operators as ufuncs\n"
      ],
      "metadata": {
        "id": "lGtJwBi8mZgx",
        "colab": {
          "base_uri": "https://localhost:8080/"
        },
        "outputId": "6365112b-1440-49dd-bd44-1d1acabd0fa1"
      },
      "execution_count": null,
      "outputs": [
        {
          "output_type": "execute_result",
          "data": {
            "text/plain": [
              "array([1, 2, 3, 4, 5])"
            ]
          },
          "metadata": {},
          "execution_count": 311
        }
      ]
    },
    {
      "cell_type": "code",
      "source": [
        "# Logical comparison\n"
      ],
      "metadata": {
        "id": "RosjEeImnJsj",
        "colab": {
          "base_uri": "https://localhost:8080/"
        },
        "outputId": "66c66b0d-3581-4d81-b0e2-e1feca02e133"
      },
      "execution_count": null,
      "outputs": [
        {
          "output_type": "execute_result",
          "data": {
            "text/plain": [
              "array([ True,  True, False, False, False])"
            ]
          },
          "metadata": {},
          "execution_count": 312
        }
      ]
    },
    {
      "cell_type": "code",
      "source": [
        "# Logical comparison\n"
      ],
      "metadata": {
        "id": "O79kNV38nNVh",
        "colab": {
          "base_uri": "https://localhost:8080/"
        },
        "outputId": "dbb3d818-248b-4c7f-f27e-1d50b8d23d4b"
      },
      "execution_count": null,
      "outputs": [
        {
          "output_type": "execute_result",
          "data": {
            "text/plain": [
              "array([False, False, False,  True,  True])"
            ]
          },
          "metadata": {},
          "execution_count": 313
        }
      ]
    },
    {
      "cell_type": "code",
      "source": [
        "# Logical comparison\n"
      ],
      "metadata": {
        "id": "CPanLje3nRQi",
        "colab": {
          "base_uri": "https://localhost:8080/"
        },
        "outputId": "ef0a09fe-d0a7-420e-ade7-8bbc37f88992"
      },
      "execution_count": null,
      "outputs": [
        {
          "output_type": "execute_result",
          "data": {
            "text/plain": [
              "array([ True,  True,  True, False, False])"
            ]
          },
          "metadata": {},
          "execution_count": 314
        }
      ]
    },
    {
      "cell_type": "code",
      "source": [
        "# Logical comparison\n"
      ],
      "metadata": {
        "id": "avFbXek8nUuB",
        "colab": {
          "base_uri": "https://localhost:8080/"
        },
        "outputId": "dacb3afa-41e0-4e75-d2aa-c65cf70ed004"
      },
      "execution_count": null,
      "outputs": [
        {
          "output_type": "execute_result",
          "data": {
            "text/plain": [
              "array([False, False,  True,  True,  True])"
            ]
          },
          "metadata": {},
          "execution_count": 315
        }
      ]
    },
    {
      "cell_type": "code",
      "source": [
        "# Logical comparison\n"
      ],
      "metadata": {
        "id": "GJlyPRXFnXlJ",
        "colab": {
          "base_uri": "https://localhost:8080/"
        },
        "outputId": "29d832a3-09ee-40ca-f18b-4ced4622bdcf"
      },
      "execution_count": null,
      "outputs": [
        {
          "output_type": "execute_result",
          "data": {
            "text/plain": [
              "array([ True,  True, False,  True,  True])"
            ]
          },
          "metadata": {},
          "execution_count": 316
        }
      ]
    },
    {
      "cell_type": "code",
      "source": [
        "# Logical comparison\n"
      ],
      "metadata": {
        "id": "pJl6MIw-nZ0y",
        "colab": {
          "base_uri": "https://localhost:8080/"
        },
        "outputId": "c08e3bc8-c300-4e5b-b716-ff5afc0fd8db"
      },
      "execution_count": null,
      "outputs": [
        {
          "output_type": "execute_result",
          "data": {
            "text/plain": [
              "array([False, False,  True, False, False])"
            ]
          },
          "metadata": {},
          "execution_count": 317
        }
      ]
    },
    {
      "cell_type": "code",
      "source": [
        "# Logical comparison\n"
      ],
      "metadata": {
        "id": "WTtm8K8knb-A",
        "colab": {
          "base_uri": "https://localhost:8080/"
        },
        "outputId": "bf3b9ec3-2926-4b1b-df52-1bcb2f252ae6"
      },
      "execution_count": null,
      "outputs": [
        {
          "output_type": "execute_result",
          "data": {
            "text/plain": [
              "array([False,  True, False, False, False])"
            ]
          },
          "metadata": {},
          "execution_count": 319
        }
      ]
    },
    {
      "cell_type": "code",
      "source": [
        "# Print information\n"
      ],
      "metadata": {
        "colab": {
          "base_uri": "https://localhost:8080/"
        },
        "id": "cecRL6i4nue8",
        "outputId": "61e936b9-0d63-4891-d59a-5e5b3f1e8473"
      },
      "execution_count": null,
      "outputs": [
        {
          "output_type": "stream",
          "name": "stdout",
          "text": [
            "[ 2  4  6  8 10]\n",
            "\n",
            "----------------\n",
            "\n",
            "[ 1  4  9 16 25]\n"
          ]
        }
      ]
    },
    {
      "cell_type": "code",
      "source": [
        "# Set seed number and create random integer\n"
      ],
      "metadata": {
        "id": "444UAzcNnjfY"
      },
      "execution_count": null,
      "outputs": []
    },
    {
      "cell_type": "code",
      "source": [
        "# Check x output\n"
      ],
      "metadata": {
        "id": "YFodWjBtn1UE",
        "colab": {
          "base_uri": "https://localhost:8080/"
        },
        "outputId": "996936a8-6e1e-4830-9a5c-59d328fc71bd"
      },
      "execution_count": null,
      "outputs": [
        {
          "output_type": "execute_result",
          "data": {
            "text/plain": [
              "array([[5, 0, 3, 3],\n",
              "       [7, 9, 3, 5],\n",
              "       [2, 4, 7, 6]])"
            ]
          },
          "metadata": {},
          "execution_count": 324
        }
      ]
    },
    {
      "cell_type": "code",
      "source": [
        "# Logical comparison\n"
      ],
      "metadata": {
        "id": "3la3Bnbgn2Ey",
        "colab": {
          "base_uri": "https://localhost:8080/"
        },
        "outputId": "bf03541c-b11c-4351-f648-eda8d7448a1a"
      },
      "execution_count": null,
      "outputs": [
        {
          "output_type": "execute_result",
          "data": {
            "text/plain": [
              "array([[ True,  True,  True,  True],\n",
              "       [False, False,  True,  True],\n",
              "       [ True,  True, False, False]])"
            ]
          },
          "metadata": {},
          "execution_count": 325
        }
      ]
    },
    {
      "cell_type": "code",
      "source": [
        "# Arithmetic operation\n"
      ],
      "metadata": {
        "id": "4M9T_5dVoHAG",
        "colab": {
          "base_uri": "https://localhost:8080/"
        },
        "outputId": "f22c8c3d-f06a-4566-82fc-be877cd1758c"
      },
      "execution_count": null,
      "outputs": [
        {
          "output_type": "execute_result",
          "data": {
            "text/plain": [
              "8"
            ]
          },
          "metadata": {},
          "execution_count": 327
        }
      ]
    },
    {
      "cell_type": "code",
      "source": [
        "# Arithmetic operation\n"
      ],
      "metadata": {
        "id": "nCIiNasooNnX",
        "colab": {
          "base_uri": "https://localhost:8080/"
        },
        "outputId": "86a28986-5bd4-4c05-d7a4-7750d813f36e"
      },
      "execution_count": null,
      "outputs": [
        {
          "output_type": "execute_result",
          "data": {
            "text/plain": [
              "8"
            ]
          },
          "metadata": {},
          "execution_count": 328
        }
      ]
    },
    {
      "cell_type": "code",
      "source": [
        "# How many values less than 6 in each row?\n"
      ],
      "metadata": {
        "id": "U0WZCS9ZoWXL",
        "colab": {
          "base_uri": "https://localhost:8080/"
        },
        "outputId": "75923b6d-2aee-4d0b-9dd4-b99ae8c16afb"
      },
      "execution_count": null,
      "outputs": [
        {
          "output_type": "stream",
          "name": "stdout",
          "text": [
            "[[5 0 3 3]\n",
            " [7 9 3 5]\n",
            " [2 4 7 6]]\n",
            "\n",
            "----------------\n",
            "\n"
          ]
        },
        {
          "output_type": "execute_result",
          "data": {
            "text/plain": [
              "array([4, 2, 2])"
            ]
          },
          "metadata": {},
          "execution_count": 329
        }
      ]
    },
    {
      "cell_type": "code",
      "source": [
        "# Boolean Logic\n"
      ],
      "metadata": {
        "id": "MhRXM7csovHc",
        "colab": {
          "base_uri": "https://localhost:8080/"
        },
        "outputId": "a5486efe-9c00-478f-9b2e-6df061f4dc1f"
      },
      "execution_count": null,
      "outputs": [
        {
          "output_type": "execute_result",
          "data": {
            "text/plain": [
              "False"
            ]
          },
          "metadata": {},
          "execution_count": 333
        }
      ]
    },
    {
      "cell_type": "code",
      "source": [
        "# Boolean Logic\n"
      ],
      "metadata": {
        "id": "FkCUGd07oxsq",
        "colab": {
          "base_uri": "https://localhost:8080/"
        },
        "outputId": "5c0bc0fc-91ae-453f-d295-343af4086b46"
      },
      "execution_count": null,
      "outputs": [
        {
          "output_type": "execute_result",
          "data": {
            "text/plain": [
              "True"
            ]
          },
          "metadata": {},
          "execution_count": 334
        }
      ]
    },
    {
      "cell_type": "code",
      "source": [
        "# Boolean Logic\n"
      ],
      "metadata": {
        "id": "ERkvBgg1ozyA",
        "colab": {
          "base_uri": "https://localhost:8080/"
        },
        "outputId": "2e5461f7-d675-4150-8988-f05e427fceac"
      },
      "execution_count": null,
      "outputs": [
        {
          "output_type": "execute_result",
          "data": {
            "text/plain": [
              "False"
            ]
          },
          "metadata": {},
          "execution_count": 335
        }
      ]
    },
    {
      "cell_type": "code",
      "source": [
        "# Boolean Logic\n"
      ],
      "metadata": {
        "id": "pFUaFzeqo3DM",
        "colab": {
          "base_uri": "https://localhost:8080/"
        },
        "outputId": "6d5ef212-85f2-4a49-e8ec-ba195b1d9273"
      },
      "execution_count": null,
      "outputs": [
        {
          "output_type": "stream",
          "name": "stdout",
          "text": [
            "[[5 0 3 3]\n",
            " [7 9 3 5]\n",
            " [2 4 7 6]]\n",
            "\n",
            "----------------\n",
            "\n"
          ]
        },
        {
          "output_type": "execute_result",
          "data": {
            "text/plain": [
              "array([ True, False,  True])"
            ]
          },
          "metadata": {},
          "execution_count": 336
        }
      ]
    },
    {
      "cell_type": "markdown",
      "source": [
        "### **Boolean arrays as masks**"
      ],
      "metadata": {
        "id": "olRufC2cIKhU"
      }
    },
    {
      "cell_type": "code",
      "source": [
        "# Masking operation\n"
      ],
      "metadata": {
        "id": "pQTp04vOrOF9",
        "colab": {
          "base_uri": "https://localhost:8080/"
        },
        "outputId": "08707723-b9d9-4a35-fee0-66c1e3adfcf3"
      },
      "execution_count": null,
      "outputs": [
        {
          "output_type": "stream",
          "name": "stdout",
          "text": [
            "[[5 0 3 3]\n",
            " [7 9 3 5]\n",
            " [2 4 7 6]]\n"
          ]
        },
        {
          "output_type": "execute_result",
          "data": {
            "text/plain": [
              "array([0, 3, 3, 3, 2, 4])"
            ]
          },
          "metadata": {},
          "execution_count": 337
        }
      ]
    },
    {
      "cell_type": "code",
      "source": [
        "# Create random integer\n"
      ],
      "metadata": {
        "id": "FOjudarFsiL8",
        "colab": {
          "base_uri": "https://localhost:8080/"
        },
        "outputId": "4e215f33-808a-473c-ca84-0f97f4febc4e"
      },
      "execution_count": null,
      "outputs": [
        {
          "output_type": "stream",
          "name": "stdout",
          "text": [
            "[51 92 14 71 60 20 82 86 74 74]\n"
          ]
        }
      ]
    },
    {
      "cell_type": "code",
      "source": [
        "# Fancy indexing\n",
        "# Passing an array of indices to access multiple array elements at once.\n"
      ],
      "metadata": {
        "id": "gQi_ih1puCoz",
        "colab": {
          "base_uri": "https://localhost:8080/"
        },
        "outputId": "f514cfa4-0010-465a-e55f-ca9cf66afe4b"
      },
      "execution_count": null,
      "outputs": [
        {
          "output_type": "execute_result",
          "data": {
            "text/plain": [
              "array([71, 86, 60])"
            ]
          },
          "metadata": {},
          "execution_count": 340
        }
      ]
    },
    {
      "cell_type": "code",
      "source": [
        "# Shape of the result reflects the shape of the index arrays\n"
      ],
      "metadata": {
        "id": "wdHDEt45uHjE",
        "colab": {
          "base_uri": "https://localhost:8080/"
        },
        "outputId": "16ad48e2-19aa-4997-b5b2-4be9b0fcb4fa"
      },
      "execution_count": null,
      "outputs": [
        {
          "output_type": "stream",
          "name": "stdout",
          "text": [
            "[51 92 14 71 60 20 82 86 74 74]\n",
            "\n",
            "----------------\n",
            "\n"
          ]
        },
        {
          "output_type": "execute_result",
          "data": {
            "text/plain": [
              "array([[71, 86],\n",
              "       [60, 20]])"
            ]
          },
          "metadata": {},
          "execution_count": 344
        }
      ]
    },
    {
      "cell_type": "markdown",
      "source": [
        "### **Modifying Values with Fancy Indexing**"
      ],
      "metadata": {
        "id": "XTJtLBUdKeAA"
      }
    },
    {
      "cell_type": "code",
      "source": [
        "# Modifying Values with Fancy Indexing\n"
      ],
      "metadata": {
        "id": "o70uYVEFKWL9",
        "colab": {
          "base_uri": "https://localhost:8080/"
        },
        "outputId": "78e69ffc-3177-4fbd-8e03-358e2b5eab9e"
      },
      "execution_count": null,
      "outputs": [
        {
          "output_type": "stream",
          "name": "stdout",
          "text": [
            "[0 1 2 3 4 5 6 7 8 9]\n",
            "\n",
            "----------------\n",
            "\n",
            "[ 0 99 99  3 99  5  6  7 99  9]\n"
          ]
        }
      ]
    },
    {
      "cell_type": "code",
      "source": [
        "# Output the result\n"
      ],
      "metadata": {
        "id": "GUarwXJHxv_p",
        "colab": {
          "base_uri": "https://localhost:8080/"
        },
        "outputId": "1536a464-b7c2-4ad2-958a-d1486ab4a5c6"
      },
      "execution_count": null,
      "outputs": [
        {
          "output_type": "stream",
          "name": "stdout",
          "text": [
            "[ 0 99 99  3 99  5  6  7 99  9]\n",
            "\n",
            "----------------\n",
            "\n",
            "[ 0 89 89  3 89  5  6  7 89  9]\n"
          ]
        }
      ]
    },
    {
      "cell_type": "code",
      "source": [
        "# Where did the 4 go?\n"
      ],
      "metadata": {
        "id": "YPO-QJn5yCc3",
        "colab": {
          "base_uri": "https://localhost:8080/"
        },
        "outputId": "d0a21a6b-29c5-49b2-db55-f652c6db6179"
      },
      "execution_count": null,
      "outputs": [
        {
          "output_type": "stream",
          "name": "stdout",
          "text": [
            "Original x:[0. 0. 0. 0. 0. 0. 0. 0. 0. 0.]\n",
            "\n",
            "-------\n",
            "\n",
            "[6. 0. 0. 0. 0. 0. 0. 0. 0. 0.]\n"
          ]
        }
      ]
    },
    {
      "cell_type": "markdown",
      "source": [
        "### **Sorting Arrays**"
      ],
      "metadata": {
        "id": "UfAE42HxKuxj"
      }
    },
    {
      "cell_type": "code",
      "source": [
        "# Fast sorting in NumPy\n"
      ],
      "metadata": {
        "id": "O0N4Ou3c1BtB",
        "colab": {
          "base_uri": "https://localhost:8080/"
        },
        "outputId": "38c869f4-66d2-46e8-efe0-53bb8c36fb01"
      },
      "execution_count": null,
      "outputs": [
        {
          "output_type": "execute_result",
          "data": {
            "text/plain": [
              "array([1, 2, 3, 4, 5])"
            ]
          },
          "metadata": {},
          "execution_count": 360
        }
      ]
    },
    {
      "cell_type": "code",
      "source": [
        "# Sorting\n"
      ],
      "metadata": {
        "id": "SoyIlsoiMiJb",
        "colab": {
          "base_uri": "https://localhost:8080/"
        },
        "outputId": "17b5c0c7-af13-4553-a708-d1f04fc051ed"
      },
      "execution_count": null,
      "outputs": [
        {
          "output_type": "stream",
          "name": "stdout",
          "text": [
            "[1 2 3 4 5]\n"
          ]
        }
      ]
    },
    {
      "cell_type": "code",
      "source": [
        "# Sort argument index\n"
      ],
      "metadata": {
        "id": "YFnyXIz1Mqbf",
        "colab": {
          "base_uri": "https://localhost:8080/"
        },
        "outputId": "05549e23-26c2-4839-a83e-aa9397d7b3b2"
      },
      "execution_count": null,
      "outputs": [
        {
          "output_type": "stream",
          "name": "stdout",
          "text": [
            "[1 0 3 2 4]\n"
          ]
        }
      ]
    },
    {
      "cell_type": "code",
      "source": [
        "# Generate some random data\n"
      ],
      "metadata": {
        "id": "rv_26HeHM7Hr",
        "colab": {
          "base_uri": "https://localhost:8080/"
        },
        "outputId": "54e7d230-afc0-4db4-c500-68cfadd94195"
      },
      "execution_count": null,
      "outputs": [
        {
          "output_type": "stream",
          "name": "stdout",
          "text": [
            "[[6 3 7 4 6 9]\n",
            " [2 6 7 4 3 7]\n",
            " [7 2 5 4 1 7]\n",
            " [5 1 4 0 9 5]]\n"
          ]
        }
      ]
    },
    {
      "cell_type": "code",
      "source": [
        "# Sort row wise\n"
      ],
      "metadata": {
        "id": "E5HxV5jhOXS8",
        "colab": {
          "base_uri": "https://localhost:8080/"
        },
        "outputId": "c42725f0-7f2f-4d8c-f6a9-00fdcf1b6e69"
      },
      "execution_count": null,
      "outputs": [
        {
          "output_type": "execute_result",
          "data": {
            "text/plain": [
              "array([[2, 1, 4, 0, 1, 5],\n",
              "       [5, 2, 5, 4, 3, 7],\n",
              "       [6, 3, 7, 4, 6, 7],\n",
              "       [7, 6, 7, 4, 9, 9]])"
            ]
          },
          "metadata": {},
          "execution_count": 368
        }
      ]
    },
    {
      "cell_type": "code",
      "source": [
        "# Sort column wise\n"
      ],
      "metadata": {
        "id": "7TpcxDEOOb_o",
        "colab": {
          "base_uri": "https://localhost:8080/"
        },
        "outputId": "2725cdb7-9ea2-418c-dc3d-cd6af817151e"
      },
      "execution_count": null,
      "outputs": [
        {
          "output_type": "execute_result",
          "data": {
            "text/plain": [
              "array([[3, 4, 6, 6, 7, 9],\n",
              "       [2, 3, 4, 6, 7, 7],\n",
              "       [1, 2, 4, 5, 7, 7],\n",
              "       [0, 1, 4, 5, 5, 9]])"
            ]
          },
          "metadata": {},
          "execution_count": 369
        }
      ]
    },
    {
      "cell_type": "markdown",
      "source": [
        "### **NumPy’s Structured Arrays**"
      ],
      "metadata": {
        "id": "g9kBgy5pL2n6"
      }
    },
    {
      "cell_type": "code",
      "source": [
        "# Given these information\n"
      ],
      "metadata": {
        "id": "lFry-5cHSUi5"
      },
      "execution_count": null,
      "outputs": []
    },
    {
      "cell_type": "code",
      "source": [
        "# Create an empty NumPy structure\n"
      ],
      "metadata": {
        "id": "gpT4PqcZY_g-",
        "colab": {
          "base_uri": "https://localhost:8080/"
        },
        "outputId": "27e4b78d-5ac3-4830-b6f4-062f4a10e7d4"
      },
      "execution_count": null,
      "outputs": [
        {
          "output_type": "stream",
          "name": "stdout",
          "text": [
            "[('name', '<U10'), ('age', '<i4'), ('weight', '<f8')]\n",
            "[('', 0, 0.) ('', 0, 0.) ('', 0, 0.) ('', 0, 0.)]\n"
          ]
        }
      ]
    },
    {
      "cell_type": "code",
      "source": [
        "# Add in the data\n"
      ],
      "metadata": {
        "id": "GqBD52w1ZWCJ",
        "colab": {
          "base_uri": "https://localhost:8080/",
          "height": 175
        },
        "outputId": "754ed9c8-f127-4468-96ed-2262afb50901"
      },
      "execution_count": null,
      "outputs": [
        {
          "output_type": "execute_result",
          "data": {
            "text/plain": [
              "    name  age  weight\n",
              "0  Alice   25    55.0\n",
              "1    Bob   45    85.5\n",
              "2  Cathy   37    68.0\n",
              "3   Doug   19    61.5"
            ],
            "text/html": [
              "\n",
              "  <div id=\"df-8cec2644-7420-427e-b93e-02d132b29d0c\" class=\"colab-df-container\">\n",
              "    <div>\n",
              "<style scoped>\n",
              "    .dataframe tbody tr th:only-of-type {\n",
              "        vertical-align: middle;\n",
              "    }\n",
              "\n",
              "    .dataframe tbody tr th {\n",
              "        vertical-align: top;\n",
              "    }\n",
              "\n",
              "    .dataframe thead th {\n",
              "        text-align: right;\n",
              "    }\n",
              "</style>\n",
              "<table border=\"1\" class=\"dataframe\">\n",
              "  <thead>\n",
              "    <tr style=\"text-align: right;\">\n",
              "      <th></th>\n",
              "      <th>name</th>\n",
              "      <th>age</th>\n",
              "      <th>weight</th>\n",
              "    </tr>\n",
              "  </thead>\n",
              "  <tbody>\n",
              "    <tr>\n",
              "      <th>0</th>\n",
              "      <td>Alice</td>\n",
              "      <td>25</td>\n",
              "      <td>55.0</td>\n",
              "    </tr>\n",
              "    <tr>\n",
              "      <th>1</th>\n",
              "      <td>Bob</td>\n",
              "      <td>45</td>\n",
              "      <td>85.5</td>\n",
              "    </tr>\n",
              "    <tr>\n",
              "      <th>2</th>\n",
              "      <td>Cathy</td>\n",
              "      <td>37</td>\n",
              "      <td>68.0</td>\n",
              "    </tr>\n",
              "    <tr>\n",
              "      <th>3</th>\n",
              "      <td>Doug</td>\n",
              "      <td>19</td>\n",
              "      <td>61.5</td>\n",
              "    </tr>\n",
              "  </tbody>\n",
              "</table>\n",
              "</div>\n",
              "    <div class=\"colab-df-buttons\">\n",
              "\n",
              "  <div class=\"colab-df-container\">\n",
              "    <button class=\"colab-df-convert\" onclick=\"convertToInteractive('df-8cec2644-7420-427e-b93e-02d132b29d0c')\"\n",
              "            title=\"Convert this dataframe to an interactive table.\"\n",
              "            style=\"display:none;\">\n",
              "\n",
              "  <svg xmlns=\"http://www.w3.org/2000/svg\" height=\"24px\" viewBox=\"0 -960 960 960\">\n",
              "    <path d=\"M120-120v-720h720v720H120Zm60-500h600v-160H180v160Zm220 220h160v-160H400v160Zm0 220h160v-160H400v160ZM180-400h160v-160H180v160Zm440 0h160v-160H620v160ZM180-180h160v-160H180v160Zm440 0h160v-160H620v160Z\"/>\n",
              "  </svg>\n",
              "    </button>\n",
              "\n",
              "  <style>\n",
              "    .colab-df-container {\n",
              "      display:flex;\n",
              "      gap: 12px;\n",
              "    }\n",
              "\n",
              "    .colab-df-convert {\n",
              "      background-color: #E8F0FE;\n",
              "      border: none;\n",
              "      border-radius: 50%;\n",
              "      cursor: pointer;\n",
              "      display: none;\n",
              "      fill: #1967D2;\n",
              "      height: 32px;\n",
              "      padding: 0 0 0 0;\n",
              "      width: 32px;\n",
              "    }\n",
              "\n",
              "    .colab-df-convert:hover {\n",
              "      background-color: #E2EBFA;\n",
              "      box-shadow: 0px 1px 2px rgba(60, 64, 67, 0.3), 0px 1px 3px 1px rgba(60, 64, 67, 0.15);\n",
              "      fill: #174EA6;\n",
              "    }\n",
              "\n",
              "    .colab-df-buttons div {\n",
              "      margin-bottom: 4px;\n",
              "    }\n",
              "\n",
              "    [theme=dark] .colab-df-convert {\n",
              "      background-color: #3B4455;\n",
              "      fill: #D2E3FC;\n",
              "    }\n",
              "\n",
              "    [theme=dark] .colab-df-convert:hover {\n",
              "      background-color: #434B5C;\n",
              "      box-shadow: 0px 1px 3px 1px rgba(0, 0, 0, 0.15);\n",
              "      filter: drop-shadow(0px 1px 2px rgba(0, 0, 0, 0.3));\n",
              "      fill: #FFFFFF;\n",
              "    }\n",
              "  </style>\n",
              "\n",
              "    <script>\n",
              "      const buttonEl =\n",
              "        document.querySelector('#df-8cec2644-7420-427e-b93e-02d132b29d0c button.colab-df-convert');\n",
              "      buttonEl.style.display =\n",
              "        google.colab.kernel.accessAllowed ? 'block' : 'none';\n",
              "\n",
              "      async function convertToInteractive(key) {\n",
              "        const element = document.querySelector('#df-8cec2644-7420-427e-b93e-02d132b29d0c');\n",
              "        const dataTable =\n",
              "          await google.colab.kernel.invokeFunction('convertToInteractive',\n",
              "                                                    [key], {});\n",
              "        if (!dataTable) return;\n",
              "\n",
              "        const docLinkHtml = 'Like what you see? Visit the ' +\n",
              "          '<a target=\"_blank\" href=https://colab.research.google.com/notebooks/data_table.ipynb>data table notebook</a>'\n",
              "          + ' to learn more about interactive tables.';\n",
              "        element.innerHTML = '';\n",
              "        dataTable['output_type'] = 'display_data';\n",
              "        await google.colab.output.renderOutput(dataTable, element);\n",
              "        const docLink = document.createElement('div');\n",
              "        docLink.innerHTML = docLinkHtml;\n",
              "        element.appendChild(docLink);\n",
              "      }\n",
              "    </script>\n",
              "  </div>\n",
              "\n",
              "\n",
              "<div id=\"df-ea2d5c17-86a1-4272-b9ec-0e86d81412ab\">\n",
              "  <button class=\"colab-df-quickchart\" onclick=\"quickchart('df-ea2d5c17-86a1-4272-b9ec-0e86d81412ab')\"\n",
              "            title=\"Suggest charts\"\n",
              "            style=\"display:none;\">\n",
              "\n",
              "<svg xmlns=\"http://www.w3.org/2000/svg\" height=\"24px\"viewBox=\"0 0 24 24\"\n",
              "     width=\"24px\">\n",
              "    <g>\n",
              "        <path d=\"M19 3H5c-1.1 0-2 .9-2 2v14c0 1.1.9 2 2 2h14c1.1 0 2-.9 2-2V5c0-1.1-.9-2-2-2zM9 17H7v-7h2v7zm4 0h-2V7h2v10zm4 0h-2v-4h2v4z\"/>\n",
              "    </g>\n",
              "</svg>\n",
              "  </button>\n",
              "\n",
              "<style>\n",
              "  .colab-df-quickchart {\n",
              "      --bg-color: #E8F0FE;\n",
              "      --fill-color: #1967D2;\n",
              "      --hover-bg-color: #E2EBFA;\n",
              "      --hover-fill-color: #174EA6;\n",
              "      --disabled-fill-color: #AAA;\n",
              "      --disabled-bg-color: #DDD;\n",
              "  }\n",
              "\n",
              "  [theme=dark] .colab-df-quickchart {\n",
              "      --bg-color: #3B4455;\n",
              "      --fill-color: #D2E3FC;\n",
              "      --hover-bg-color: #434B5C;\n",
              "      --hover-fill-color: #FFFFFF;\n",
              "      --disabled-bg-color: #3B4455;\n",
              "      --disabled-fill-color: #666;\n",
              "  }\n",
              "\n",
              "  .colab-df-quickchart {\n",
              "    background-color: var(--bg-color);\n",
              "    border: none;\n",
              "    border-radius: 50%;\n",
              "    cursor: pointer;\n",
              "    display: none;\n",
              "    fill: var(--fill-color);\n",
              "    height: 32px;\n",
              "    padding: 0;\n",
              "    width: 32px;\n",
              "  }\n",
              "\n",
              "  .colab-df-quickchart:hover {\n",
              "    background-color: var(--hover-bg-color);\n",
              "    box-shadow: 0 1px 2px rgba(60, 64, 67, 0.3), 0 1px 3px 1px rgba(60, 64, 67, 0.15);\n",
              "    fill: var(--button-hover-fill-color);\n",
              "  }\n",
              "\n",
              "  .colab-df-quickchart-complete:disabled,\n",
              "  .colab-df-quickchart-complete:disabled:hover {\n",
              "    background-color: var(--disabled-bg-color);\n",
              "    fill: var(--disabled-fill-color);\n",
              "    box-shadow: none;\n",
              "  }\n",
              "\n",
              "  .colab-df-spinner {\n",
              "    border: 2px solid var(--fill-color);\n",
              "    border-color: transparent;\n",
              "    border-bottom-color: var(--fill-color);\n",
              "    animation:\n",
              "      spin 1s steps(1) infinite;\n",
              "  }\n",
              "\n",
              "  @keyframes spin {\n",
              "    0% {\n",
              "      border-color: transparent;\n",
              "      border-bottom-color: var(--fill-color);\n",
              "      border-left-color: var(--fill-color);\n",
              "    }\n",
              "    20% {\n",
              "      border-color: transparent;\n",
              "      border-left-color: var(--fill-color);\n",
              "      border-top-color: var(--fill-color);\n",
              "    }\n",
              "    30% {\n",
              "      border-color: transparent;\n",
              "      border-left-color: var(--fill-color);\n",
              "      border-top-color: var(--fill-color);\n",
              "      border-right-color: var(--fill-color);\n",
              "    }\n",
              "    40% {\n",
              "      border-color: transparent;\n",
              "      border-right-color: var(--fill-color);\n",
              "      border-top-color: var(--fill-color);\n",
              "    }\n",
              "    60% {\n",
              "      border-color: transparent;\n",
              "      border-right-color: var(--fill-color);\n",
              "    }\n",
              "    80% {\n",
              "      border-color: transparent;\n",
              "      border-right-color: var(--fill-color);\n",
              "      border-bottom-color: var(--fill-color);\n",
              "    }\n",
              "    90% {\n",
              "      border-color: transparent;\n",
              "      border-bottom-color: var(--fill-color);\n",
              "    }\n",
              "  }\n",
              "</style>\n",
              "\n",
              "  <script>\n",
              "    async function quickchart(key) {\n",
              "      const quickchartButtonEl =\n",
              "        document.querySelector('#' + key + ' button');\n",
              "      quickchartButtonEl.disabled = true;  // To prevent multiple clicks.\n",
              "      quickchartButtonEl.classList.add('colab-df-spinner');\n",
              "      try {\n",
              "        const charts = await google.colab.kernel.invokeFunction(\n",
              "            'suggestCharts', [key], {});\n",
              "      } catch (error) {\n",
              "        console.error('Error during call to suggestCharts:', error);\n",
              "      }\n",
              "      quickchartButtonEl.classList.remove('colab-df-spinner');\n",
              "      quickchartButtonEl.classList.add('colab-df-quickchart-complete');\n",
              "    }\n",
              "    (() => {\n",
              "      let quickchartButtonEl =\n",
              "        document.querySelector('#df-ea2d5c17-86a1-4272-b9ec-0e86d81412ab button');\n",
              "      quickchartButtonEl.style.display =\n",
              "        google.colab.kernel.accessAllowed ? 'block' : 'none';\n",
              "    })();\n",
              "  </script>\n",
              "</div>\n",
              "    </div>\n",
              "  </div>\n"
            ]
          },
          "metadata": {},
          "execution_count": 377
        }
      ]
    },
    {
      "cell_type": "code",
      "source": [
        "# Extract info\n"
      ],
      "metadata": {
        "id": "ZifdTfGCZiVZ",
        "colab": {
          "base_uri": "https://localhost:8080/"
        },
        "outputId": "da2bd1b4-c0fb-4bfb-cc47-b9c4ea4de00f"
      },
      "execution_count": null,
      "outputs": [
        {
          "output_type": "execute_result",
          "data": {
            "text/plain": [
              "array(['Alice', 'Bob', 'Cathy', 'Doug'], dtype='<U10')"
            ]
          },
          "metadata": {},
          "execution_count": 378
        }
      ]
    },
    {
      "cell_type": "code",
      "source": [
        "# Extract info\n"
      ],
      "metadata": {
        "id": "SEkfBZgFZq5g",
        "colab": {
          "base_uri": "https://localhost:8080/"
        },
        "outputId": "5fa3e2b0-25c3-4c8a-c32e-07f98aeea51c"
      },
      "execution_count": null,
      "outputs": [
        {
          "output_type": "execute_result",
          "data": {
            "text/plain": [
              "('Alice', 25, 55.)"
            ]
          },
          "metadata": {},
          "execution_count": 379
        }
      ]
    },
    {
      "cell_type": "code",
      "source": [
        "# Extract info\n"
      ],
      "metadata": {
        "id": "_IfUaBy4ZtLk",
        "colab": {
          "base_uri": "https://localhost:8080/",
          "height": 35
        },
        "outputId": "cdd61227-29e8-4a4f-edf5-526cad183031"
      },
      "execution_count": null,
      "outputs": [
        {
          "output_type": "execute_result",
          "data": {
            "text/plain": [
              "'Doug'"
            ],
            "application/vnd.google.colaboratory.intrinsic+json": {
              "type": "string"
            }
          },
          "metadata": {},
          "execution_count": 380
        }
      ]
    },
    {
      "cell_type": "code",
      "source": [
        "# Extract info\n"
      ],
      "metadata": {
        "id": "FcoYHuhnZw3B",
        "colab": {
          "base_uri": "https://localhost:8080/"
        },
        "outputId": "bd0aac1f-1bb4-41c5-c262-1354a8a35e23"
      },
      "execution_count": null,
      "outputs": [
        {
          "output_type": "execute_result",
          "data": {
            "text/plain": [
              "array(['Alice', 'Doug'], dtype='<U10')"
            ]
          },
          "metadata": {},
          "execution_count": 381
        }
      ]
    },
    {
      "cell_type": "markdown",
      "source": [
        "# **Good Luck and See you all soon!!!**"
      ],
      "metadata": {
        "id": "_E_K-s5OvUQC"
      }
    }
  ]
}